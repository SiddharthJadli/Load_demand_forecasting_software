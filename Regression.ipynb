import pandas as pd
import numpy as np
from sklearn.linear_model import LinearRegression
from sklearn.metrics import mean_absolute_error
import matplotlib.pyplot as plt

# Load the data
data = pd.read_csv('Compiled.csv', parse_dates=['datetime'])

# Create lagged features for load
num_lags = 24  # Number of lagged hours
for i in range(1, num_lags + 1):
    data[f'load_lag_{i}'] = data['load'].shift(i)

# Drop rows with missing values due to lagging
data.dropna(inplace=True)

# Split data into features (exogenous variables and lagged load) and target (load)
lagged_columns = [f'load_lag_{i}' for i in range(1, num_lags + 1)]
exogenous_columns = ['pressure_f', 'cloud_cov_f', 'temp_f', 'wind_dir_f', 'wind_sp_f']
features = data[lagged_columns + exogenous_columns]
target = data['load']

# Split data into training and testing sets
train_size = int(0.8 * len(data))
train_features, test_features = features[:train_size], features[train_size:]
train_target, test_target = target[:train_size], target[train_size:]

# Train a linear regression model
model = LinearRegression()
model.fit(train_features, train_target)

# Make predictions using the model
predictions = model.predict(test_features)

# Calculate Mean Absolute Error (MAE)
mae = mean_absolute_error(test_target, predictions)
print(f'Linear Regression MAE: {mae}')

# Visualize actual vs. predicted load
plt.figure(figsize=(12, 6))
plt.plot(test_target.index, test_target, label='Actual Load')
plt.plot(test_target.index, predictions, label='Predicted Load', linestyle='dashed')
plt.xlabel('Datetime')
plt.ylabel('Load')
plt.title('Actual Load vs Predicted Load (Linear Regression)')
plt.legend()
plt.grid()
plt.show()
