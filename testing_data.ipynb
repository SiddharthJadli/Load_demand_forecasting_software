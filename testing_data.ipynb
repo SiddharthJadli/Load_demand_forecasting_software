{
 "cells": [
  {
   "cell_type": "code",
   "execution_count": 115,
   "metadata": {},
   "outputs": [],
   "source": [
    "import pandas as pd\n",
    "import matplotlib.pyplot as plt\n",
    "from datetime import datetime\n",
    "import numpy as np  "
   ]
  },
  {
   "attachments": {},
   "cell_type": "markdown",
   "metadata": {},
   "source": [
    "## Actual data"
   ]
  },
  {
   "cell_type": "code",
   "execution_count": 116,
   "metadata": {},
   "outputs": [],
   "source": [
    "pd.set_option('display.float_format', lambda x: '%.5f' % x)"
   ]
  },
  {
   "cell_type": "code",
   "execution_count": 289,
   "metadata": {},
   "outputs": [],
   "source": [
    "actuals = pd.read_excel(\"Train/Actuals_part1.xlsx\")"
   ]
  },
  {
   "cell_type": "code",
   "execution_count": 290,
   "metadata": {
    "scrolled": true
   },
   "outputs": [
    {
     "data": {
      "text/html": [
       "<div>\n",
       "<style scoped>\n",
       "    .dataframe tbody tr th:only-of-type {\n",
       "        vertical-align: middle;\n",
       "    }\n",
       "\n",
       "    .dataframe tbody tr th {\n",
       "        vertical-align: top;\n",
       "    }\n",
       "\n",
       "    .dataframe thead th {\n",
       "        text-align: right;\n",
       "    }\n",
       "</style>\n",
       "<table border=\"1\" class=\"dataframe\">\n",
       "  <thead>\n",
       "    <tr style=\"text-align: right;\">\n",
       "      <th></th>\n",
       "      <th>Time</th>\n",
       "      <th>Load (kW)</th>\n",
       "      <th>Pressure_kpa</th>\n",
       "      <th>Cloud Cover (%)</th>\n",
       "      <th>Humidity (%)</th>\n",
       "      <th>Temperature (C)</th>\n",
       "      <th>Wind Direction (deg)</th>\n",
       "      <th>Wind Speed (kmh)</th>\n",
       "    </tr>\n",
       "  </thead>\n",
       "  <tbody>\n",
       "    <tr>\n",
       "      <th>0</th>\n",
       "      <td>2017-03-18 00:00:00</td>\n",
       "      <td>1031471.62806</td>\n",
       "      <td>1012.48000</td>\n",
       "      <td>2.12500</td>\n",
       "      <td>79.33333</td>\n",
       "      <td>16.76439</td>\n",
       "      <td>285.25000</td>\n",
       "      <td>6.25375</td>\n",
       "    </tr>\n",
       "    <tr>\n",
       "      <th>1</th>\n",
       "      <td>2017-03-18 01:00:00</td>\n",
       "      <td>1007205.57844</td>\n",
       "      <td>1011.61875</td>\n",
       "      <td>0.00000</td>\n",
       "      <td>82.16667</td>\n",
       "      <td>15.72939</td>\n",
       "      <td>285.00000</td>\n",
       "      <td>9.20500</td>\n",
       "    </tr>\n",
       "    <tr>\n",
       "      <th>2</th>\n",
       "      <td>2017-03-18 02:00:00</td>\n",
       "      <td>986108.40072</td>\n",
       "      <td>1010.72000</td>\n",
       "      <td>2.12500</td>\n",
       "      <td>81.66667</td>\n",
       "      <td>15.81689</td>\n",
       "      <td>316.00000</td>\n",
       "      <td>11.28375</td>\n",
       "    </tr>\n",
       "    <tr>\n",
       "      <th>3</th>\n",
       "      <td>2017-03-18 03:00:00</td>\n",
       "      <td>970760.96692</td>\n",
       "      <td>1011.37625</td>\n",
       "      <td>17.12500</td>\n",
       "      <td>82.25000</td>\n",
       "      <td>15.91939</td>\n",
       "      <td>327.00000</td>\n",
       "      <td>7.16875</td>\n",
       "    </tr>\n",
       "    <tr>\n",
       "      <th>4</th>\n",
       "      <td>2017-03-18 04:00:00</td>\n",
       "      <td>962258.36502</td>\n",
       "      <td>1011.50000</td>\n",
       "      <td>18.62500</td>\n",
       "      <td>82.33333</td>\n",
       "      <td>15.76939</td>\n",
       "      <td>282.25000</td>\n",
       "      <td>0.78000</td>\n",
       "    </tr>\n",
       "  </tbody>\n",
       "</table>\n",
       "</div>"
      ],
      "text/plain": [
       "                 Time     Load (kW)  Pressure_kpa  Cloud Cover (%)  \\\n",
       "0 2017-03-18 00:00:00 1031471.62806    1012.48000          2.12500   \n",
       "1 2017-03-18 01:00:00 1007205.57844    1011.61875          0.00000   \n",
       "2 2017-03-18 02:00:00  986108.40072    1010.72000          2.12500   \n",
       "3 2017-03-18 03:00:00  970760.96692    1011.37625         17.12500   \n",
       "4 2017-03-18 04:00:00  962258.36502    1011.50000         18.62500   \n",
       "\n",
       "   Humidity (%)  Temperature (C)   Wind Direction (deg)  Wind Speed (kmh)  \n",
       "0      79.33333          16.76439             285.25000           6.25375  \n",
       "1      82.16667          15.72939             285.00000           9.20500  \n",
       "2      81.66667          15.81689             316.00000          11.28375  \n",
       "3      82.25000          15.91939             327.00000           7.16875  \n",
       "4      82.33333          15.76939             282.25000           0.78000  "
      ]
     },
     "execution_count": 290,
     "metadata": {},
     "output_type": "execute_result"
    }
   ],
   "source": [
    "actuals.head()"
   ]
  },
  {
   "cell_type": "code",
   "execution_count": 291,
   "metadata": {
    "scrolled": true
   },
   "outputs": [
    {
     "data": {
      "text/html": [
       "<div>\n",
       "<style scoped>\n",
       "    .dataframe tbody tr th:only-of-type {\n",
       "        vertical-align: middle;\n",
       "    }\n",
       "\n",
       "    .dataframe tbody tr th {\n",
       "        vertical-align: top;\n",
       "    }\n",
       "\n",
       "    .dataframe thead th {\n",
       "        text-align: right;\n",
       "    }\n",
       "</style>\n",
       "<table border=\"1\" class=\"dataframe\">\n",
       "  <thead>\n",
       "    <tr style=\"text-align: right;\">\n",
       "      <th></th>\n",
       "      <th>Time</th>\n",
       "      <th>Load (kW)</th>\n",
       "      <th>Pressure_kpa</th>\n",
       "      <th>Cloud Cover (%)</th>\n",
       "      <th>Humidity (%)</th>\n",
       "      <th>Temperature (C)</th>\n",
       "      <th>Wind Direction (deg)</th>\n",
       "      <th>Wind Speed (kmh)</th>\n",
       "    </tr>\n",
       "  </thead>\n",
       "  <tbody>\n",
       "    <tr>\n",
       "      <th>31907</th>\n",
       "      <td>2020-11-06 11:00:00</td>\n",
       "      <td>1242829.91614</td>\n",
       "      <td>1012.85000</td>\n",
       "      <td>45.62500</td>\n",
       "      <td>68.16667</td>\n",
       "      <td>21.29939</td>\n",
       "      <td>335.25000</td>\n",
       "      <td>8.28000</td>\n",
       "    </tr>\n",
       "    <tr>\n",
       "      <th>31908</th>\n",
       "      <td>2020-11-06 12:00:00</td>\n",
       "      <td>1239479.53614</td>\n",
       "      <td>1011.75000</td>\n",
       "      <td>48.87500</td>\n",
       "      <td>67.16667</td>\n",
       "      <td>22.41939</td>\n",
       "      <td>261.25000</td>\n",
       "      <td>11.46625</td>\n",
       "    </tr>\n",
       "    <tr>\n",
       "      <th>31909</th>\n",
       "      <td>2020-11-06 13:00:00</td>\n",
       "      <td>1234773.33214</td>\n",
       "      <td>1010.93750</td>\n",
       "      <td>55.37500</td>\n",
       "      <td>67.58333</td>\n",
       "      <td>22.97189</td>\n",
       "      <td>296.25000</td>\n",
       "      <td>14.50750</td>\n",
       "    </tr>\n",
       "    <tr>\n",
       "      <th>31910</th>\n",
       "      <td>2020-11-06 14:00:00</td>\n",
       "      <td>1240139.89814</td>\n",
       "      <td>1010.25000</td>\n",
       "      <td>55.00000</td>\n",
       "      <td>66.25000</td>\n",
       "      <td>24.31439</td>\n",
       "      <td>289.00000</td>\n",
       "      <td>16.39750</td>\n",
       "    </tr>\n",
       "    <tr>\n",
       "      <th>31911</th>\n",
       "      <td>2020-11-06 15:00:00</td>\n",
       "      <td>1222309.30947</td>\n",
       "      <td>1009.75000</td>\n",
       "      <td>54.50000</td>\n",
       "      <td>66.66667</td>\n",
       "      <td>24.13189</td>\n",
       "      <td>296.33333</td>\n",
       "      <td>19.64667</td>\n",
       "    </tr>\n",
       "  </tbody>\n",
       "</table>\n",
       "</div>"
      ],
      "text/plain": [
       "                     Time     Load (kW)  Pressure_kpa  Cloud Cover (%)  \\\n",
       "31907 2020-11-06 11:00:00 1242829.91614    1012.85000         45.62500   \n",
       "31908 2020-11-06 12:00:00 1239479.53614    1011.75000         48.87500   \n",
       "31909 2020-11-06 13:00:00 1234773.33214    1010.93750         55.37500   \n",
       "31910 2020-11-06 14:00:00 1240139.89814    1010.25000         55.00000   \n",
       "31911 2020-11-06 15:00:00 1222309.30947    1009.75000         54.50000   \n",
       "\n",
       "       Humidity (%)  Temperature (C)   Wind Direction (deg)  Wind Speed (kmh)  \n",
       "31907      68.16667          21.29939             335.25000           8.28000  \n",
       "31908      67.16667          22.41939             261.25000          11.46625  \n",
       "31909      67.58333          22.97189             296.25000          14.50750  \n",
       "31910      66.25000          24.31439             289.00000          16.39750  \n",
       "31911      66.66667          24.13189             296.33333          19.64667  "
      ]
     },
     "execution_count": 291,
     "metadata": {},
     "output_type": "execute_result"
    }
   ],
   "source": [
    "actuals.tail()"
   ]
  },
  {
   "cell_type": "code",
   "execution_count": 292,
   "metadata": {
    "scrolled": true
   },
   "outputs": [
    {
     "data": {
      "text/html": [
       "<div>\n",
       "<style scoped>\n",
       "    .dataframe tbody tr th:only-of-type {\n",
       "        vertical-align: middle;\n",
       "    }\n",
       "\n",
       "    .dataframe tbody tr th {\n",
       "        vertical-align: top;\n",
       "    }\n",
       "\n",
       "    .dataframe thead th {\n",
       "        text-align: right;\n",
       "    }\n",
       "</style>\n",
       "<table border=\"1\" class=\"dataframe\">\n",
       "  <thead>\n",
       "    <tr style=\"text-align: right;\">\n",
       "      <th></th>\n",
       "      <th>Time</th>\n",
       "      <th>Load (kW)</th>\n",
       "      <th>Pressure_kpa</th>\n",
       "      <th>Cloud Cover (%)</th>\n",
       "      <th>Humidity (%)</th>\n",
       "      <th>Temperature (C)</th>\n",
       "      <th>Wind Direction (deg)</th>\n",
       "      <th>Wind Speed (kmh)</th>\n",
       "    </tr>\n",
       "  </thead>\n",
       "  <tbody>\n",
       "    <tr>\n",
       "      <th>0</th>\n",
       "      <td>2017-03-18 00:00:00</td>\n",
       "      <td>1031471.62806</td>\n",
       "      <td>1012.48000</td>\n",
       "      <td>2.12500</td>\n",
       "      <td>79.33333</td>\n",
       "      <td>16.76439</td>\n",
       "      <td>285.25000</td>\n",
       "      <td>6.25375</td>\n",
       "    </tr>\n",
       "    <tr>\n",
       "      <th>1</th>\n",
       "      <td>2017-03-18 01:00:00</td>\n",
       "      <td>1007205.57844</td>\n",
       "      <td>1011.61875</td>\n",
       "      <td>0.00000</td>\n",
       "      <td>82.16667</td>\n",
       "      <td>15.72939</td>\n",
       "      <td>285.00000</td>\n",
       "      <td>9.20500</td>\n",
       "    </tr>\n",
       "    <tr>\n",
       "      <th>2</th>\n",
       "      <td>2017-03-18 02:00:00</td>\n",
       "      <td>986108.40072</td>\n",
       "      <td>1010.72000</td>\n",
       "      <td>2.12500</td>\n",
       "      <td>81.66667</td>\n",
       "      <td>15.81689</td>\n",
       "      <td>316.00000</td>\n",
       "      <td>11.28375</td>\n",
       "    </tr>\n",
       "    <tr>\n",
       "      <th>3</th>\n",
       "      <td>2017-03-18 03:00:00</td>\n",
       "      <td>970760.96692</td>\n",
       "      <td>1011.37625</td>\n",
       "      <td>17.12500</td>\n",
       "      <td>82.25000</td>\n",
       "      <td>15.91939</td>\n",
       "      <td>327.00000</td>\n",
       "      <td>7.16875</td>\n",
       "    </tr>\n",
       "    <tr>\n",
       "      <th>4</th>\n",
       "      <td>2017-03-18 04:00:00</td>\n",
       "      <td>962258.36502</td>\n",
       "      <td>1011.50000</td>\n",
       "      <td>18.62500</td>\n",
       "      <td>82.33333</td>\n",
       "      <td>15.76939</td>\n",
       "      <td>282.25000</td>\n",
       "      <td>0.78000</td>\n",
       "    </tr>\n",
       "    <tr>\n",
       "      <th>...</th>\n",
       "      <td>...</td>\n",
       "      <td>...</td>\n",
       "      <td>...</td>\n",
       "      <td>...</td>\n",
       "      <td>...</td>\n",
       "      <td>...</td>\n",
       "      <td>...</td>\n",
       "      <td>...</td>\n",
       "    </tr>\n",
       "    <tr>\n",
       "      <th>31891</th>\n",
       "      <td>2020-11-05 19:00:00</td>\n",
       "      <td>1141299.02814</td>\n",
       "      <td>1010.35000</td>\n",
       "      <td>53.37500</td>\n",
       "      <td>69.33333</td>\n",
       "      <td>18.31939</td>\n",
       "      <td>342.00000</td>\n",
       "      <td>10.18625</td>\n",
       "    </tr>\n",
       "    <tr>\n",
       "      <th>31892</th>\n",
       "      <td>2020-11-05 20:00:00</td>\n",
       "      <td>1112589.66414</td>\n",
       "      <td>1011.10000</td>\n",
       "      <td>36.87500</td>\n",
       "      <td>69.33333</td>\n",
       "      <td>17.81939</td>\n",
       "      <td>221.50000</td>\n",
       "      <td>8.77000</td>\n",
       "    </tr>\n",
       "    <tr>\n",
       "      <th>31893</th>\n",
       "      <td>2020-11-05 21:00:00</td>\n",
       "      <td>1086038.13814</td>\n",
       "      <td>1011.56250</td>\n",
       "      <td>33.87500</td>\n",
       "      <td>69.33333</td>\n",
       "      <td>17.64189</td>\n",
       "      <td>5.12500</td>\n",
       "      <td>9.94125</td>\n",
       "    </tr>\n",
       "    <tr>\n",
       "      <th>31894</th>\n",
       "      <td>2020-11-05 22:00:00</td>\n",
       "      <td>1062102.90214</td>\n",
       "      <td>1011.45000</td>\n",
       "      <td>58.62500</td>\n",
       "      <td>70.50000</td>\n",
       "      <td>16.49939</td>\n",
       "      <td>180.75000</td>\n",
       "      <td>10.16250</td>\n",
       "    </tr>\n",
       "    <tr>\n",
       "      <th>31895</th>\n",
       "      <td>2020-11-05 23:00:00</td>\n",
       "      <td>1022583.90014</td>\n",
       "      <td>1011.38750</td>\n",
       "      <td>53.62500</td>\n",
       "      <td>71.83333</td>\n",
       "      <td>15.09689</td>\n",
       "      <td>15.87500</td>\n",
       "      <td>10.09375</td>\n",
       "    </tr>\n",
       "  </tbody>\n",
       "</table>\n",
       "<p>31896 rows × 8 columns</p>\n",
       "</div>"
      ],
      "text/plain": [
       "                     Time     Load (kW)  Pressure_kpa  Cloud Cover (%)  \\\n",
       "0     2017-03-18 00:00:00 1031471.62806    1012.48000          2.12500   \n",
       "1     2017-03-18 01:00:00 1007205.57844    1011.61875          0.00000   \n",
       "2     2017-03-18 02:00:00  986108.40072    1010.72000          2.12500   \n",
       "3     2017-03-18 03:00:00  970760.96692    1011.37625         17.12500   \n",
       "4     2017-03-18 04:00:00  962258.36502    1011.50000         18.62500   \n",
       "...                   ...           ...           ...              ...   \n",
       "31891 2020-11-05 19:00:00 1141299.02814    1010.35000         53.37500   \n",
       "31892 2020-11-05 20:00:00 1112589.66414    1011.10000         36.87500   \n",
       "31893 2020-11-05 21:00:00 1086038.13814    1011.56250         33.87500   \n",
       "31894 2020-11-05 22:00:00 1062102.90214    1011.45000         58.62500   \n",
       "31895 2020-11-05 23:00:00 1022583.90014    1011.38750         53.62500   \n",
       "\n",
       "       Humidity (%)  Temperature (C)   Wind Direction (deg)  Wind Speed (kmh)  \n",
       "0          79.33333          16.76439             285.25000           6.25375  \n",
       "1          82.16667          15.72939             285.00000           9.20500  \n",
       "2          81.66667          15.81689             316.00000          11.28375  \n",
       "3          82.25000          15.91939             327.00000           7.16875  \n",
       "4          82.33333          15.76939             282.25000           0.78000  \n",
       "...             ...               ...                   ...               ...  \n",
       "31891      69.33333          18.31939             342.00000          10.18625  \n",
       "31892      69.33333          17.81939             221.50000           8.77000  \n",
       "31893      69.33333          17.64189               5.12500           9.94125  \n",
       "31894      70.50000          16.49939             180.75000          10.16250  \n",
       "31895      71.83333          15.09689              15.87500          10.09375  \n",
       "\n",
       "[31896 rows x 8 columns]"
      ]
     },
     "execution_count": 292,
     "metadata": {},
     "output_type": "execute_result"
    }
   ],
   "source": [
    "actuals.iloc[:len(actuals)-16]"
   ]
  },
  {
   "attachments": {},
   "cell_type": "markdown",
   "metadata": {},
   "source": [
    "remove the last 16 records so that it ends at the end of 2020-11-05"
   ]
  },
  {
   "cell_type": "code",
   "execution_count": 293,
   "metadata": {},
   "outputs": [],
   "source": [
    "actuals = actuals.iloc[:len(actuals)-16]"
   ]
  },
  {
   "cell_type": "code",
   "execution_count": 294,
   "metadata": {},
   "outputs": [
    {
     "data": {
      "text/html": [
       "<div>\n",
       "<style scoped>\n",
       "    .dataframe tbody tr th:only-of-type {\n",
       "        vertical-align: middle;\n",
       "    }\n",
       "\n",
       "    .dataframe tbody tr th {\n",
       "        vertical-align: top;\n",
       "    }\n",
       "\n",
       "    .dataframe thead th {\n",
       "        text-align: right;\n",
       "    }\n",
       "</style>\n",
       "<table border=\"1\" class=\"dataframe\">\n",
       "  <thead>\n",
       "    <tr style=\"text-align: right;\">\n",
       "      <th></th>\n",
       "      <th>Time</th>\n",
       "      <th>Load (kW)</th>\n",
       "      <th>Pressure_kpa</th>\n",
       "      <th>Cloud Cover (%)</th>\n",
       "      <th>Humidity (%)</th>\n",
       "      <th>Temperature (C)</th>\n",
       "      <th>Wind Direction (deg)</th>\n",
       "      <th>Wind Speed (kmh)</th>\n",
       "    </tr>\n",
       "  </thead>\n",
       "  <tbody>\n",
       "    <tr>\n",
       "      <th>31891</th>\n",
       "      <td>2020-11-05 19:00:00</td>\n",
       "      <td>1141299.02814</td>\n",
       "      <td>1010.35000</td>\n",
       "      <td>53.37500</td>\n",
       "      <td>69.33333</td>\n",
       "      <td>18.31939</td>\n",
       "      <td>342.00000</td>\n",
       "      <td>10.18625</td>\n",
       "    </tr>\n",
       "    <tr>\n",
       "      <th>31892</th>\n",
       "      <td>2020-11-05 20:00:00</td>\n",
       "      <td>1112589.66414</td>\n",
       "      <td>1011.10000</td>\n",
       "      <td>36.87500</td>\n",
       "      <td>69.33333</td>\n",
       "      <td>17.81939</td>\n",
       "      <td>221.50000</td>\n",
       "      <td>8.77000</td>\n",
       "    </tr>\n",
       "    <tr>\n",
       "      <th>31893</th>\n",
       "      <td>2020-11-05 21:00:00</td>\n",
       "      <td>1086038.13814</td>\n",
       "      <td>1011.56250</td>\n",
       "      <td>33.87500</td>\n",
       "      <td>69.33333</td>\n",
       "      <td>17.64189</td>\n",
       "      <td>5.12500</td>\n",
       "      <td>9.94125</td>\n",
       "    </tr>\n",
       "    <tr>\n",
       "      <th>31894</th>\n",
       "      <td>2020-11-05 22:00:00</td>\n",
       "      <td>1062102.90214</td>\n",
       "      <td>1011.45000</td>\n",
       "      <td>58.62500</td>\n",
       "      <td>70.50000</td>\n",
       "      <td>16.49939</td>\n",
       "      <td>180.75000</td>\n",
       "      <td>10.16250</td>\n",
       "    </tr>\n",
       "    <tr>\n",
       "      <th>31895</th>\n",
       "      <td>2020-11-05 23:00:00</td>\n",
       "      <td>1022583.90014</td>\n",
       "      <td>1011.38750</td>\n",
       "      <td>53.62500</td>\n",
       "      <td>71.83333</td>\n",
       "      <td>15.09689</td>\n",
       "      <td>15.87500</td>\n",
       "      <td>10.09375</td>\n",
       "    </tr>\n",
       "  </tbody>\n",
       "</table>\n",
       "</div>"
      ],
      "text/plain": [
       "                     Time     Load (kW)  Pressure_kpa  Cloud Cover (%)  \\\n",
       "31891 2020-11-05 19:00:00 1141299.02814    1010.35000         53.37500   \n",
       "31892 2020-11-05 20:00:00 1112589.66414    1011.10000         36.87500   \n",
       "31893 2020-11-05 21:00:00 1086038.13814    1011.56250         33.87500   \n",
       "31894 2020-11-05 22:00:00 1062102.90214    1011.45000         58.62500   \n",
       "31895 2020-11-05 23:00:00 1022583.90014    1011.38750         53.62500   \n",
       "\n",
       "       Humidity (%)  Temperature (C)   Wind Direction (deg)  Wind Speed (kmh)  \n",
       "31891      69.33333          18.31939             342.00000          10.18625  \n",
       "31892      69.33333          17.81939             221.50000           8.77000  \n",
       "31893      69.33333          17.64189               5.12500           9.94125  \n",
       "31894      70.50000          16.49939             180.75000          10.16250  \n",
       "31895      71.83333          15.09689              15.87500          10.09375  "
      ]
     },
     "execution_count": 294,
     "metadata": {},
     "output_type": "execute_result"
    }
   ],
   "source": [
    "actuals.tail()"
   ]
  },
  {
   "attachments": {},
   "cell_type": "markdown",
   "metadata": {},
   "source": [
    "### Data statistical summary:"
   ]
  },
  {
   "cell_type": "code",
   "execution_count": 122,
   "metadata": {},
   "outputs": [
    {
     "data": {
      "text/plain": [
       "(31896, 8)"
      ]
     },
     "execution_count": 122,
     "metadata": {},
     "output_type": "execute_result"
    }
   ],
   "source": [
    "actuals.shape"
   ]
  },
  {
   "cell_type": "code",
   "execution_count": 123,
   "metadata": {
    "scrolled": true
   },
   "outputs": [
    {
     "data": {
      "text/html": [
       "<div>\n",
       "<style scoped>\n",
       "    .dataframe tbody tr th:only-of-type {\n",
       "        vertical-align: middle;\n",
       "    }\n",
       "\n",
       "    .dataframe tbody tr th {\n",
       "        vertical-align: top;\n",
       "    }\n",
       "\n",
       "    .dataframe thead th {\n",
       "        text-align: right;\n",
       "    }\n",
       "</style>\n",
       "<table border=\"1\" class=\"dataframe\">\n",
       "  <thead>\n",
       "    <tr style=\"text-align: right;\">\n",
       "      <th></th>\n",
       "      <th>Load (kW)</th>\n",
       "      <th>Pressure_kpa</th>\n",
       "      <th>Cloud Cover (%)</th>\n",
       "      <th>Humidity (%)</th>\n",
       "      <th>Temperature (C)</th>\n",
       "      <th>Wind Direction (deg)</th>\n",
       "      <th>Wind Speed (kmh)</th>\n",
       "    </tr>\n",
       "  </thead>\n",
       "  <tbody>\n",
       "    <tr>\n",
       "      <th>count</th>\n",
       "      <td>31896.00000</td>\n",
       "      <td>31896.00000</td>\n",
       "      <td>31896.00000</td>\n",
       "      <td>31896.00000</td>\n",
       "      <td>31896.00000</td>\n",
       "      <td>31896.00000</td>\n",
       "      <td>31896.00000</td>\n",
       "    </tr>\n",
       "    <tr>\n",
       "      <th>mean</th>\n",
       "      <td>1152592.77177</td>\n",
       "      <td>1009.22106</td>\n",
       "      <td>40.84949</td>\n",
       "      <td>80.22865</td>\n",
       "      <td>17.00032</td>\n",
       "      <td>212.16546</td>\n",
       "      <td>12.94756</td>\n",
       "    </tr>\n",
       "    <tr>\n",
       "      <th>std</th>\n",
       "      <td>150638.32604</td>\n",
       "      <td>4.02604</td>\n",
       "      <td>32.58624</td>\n",
       "      <td>11.20811</td>\n",
       "      <td>5.63216</td>\n",
       "      <td>91.60990</td>\n",
       "      <td>6.68346</td>\n",
       "    </tr>\n",
       "    <tr>\n",
       "      <th>min</th>\n",
       "      <td>845471.35814</td>\n",
       "      <td>950.59500</td>\n",
       "      <td>0.00000</td>\n",
       "      <td>33.33333</td>\n",
       "      <td>-6.41811</td>\n",
       "      <td>0.00000</td>\n",
       "      <td>0.00000</td>\n",
       "    </tr>\n",
       "    <tr>\n",
       "      <th>25%</th>\n",
       "      <td>1031659.87271</td>\n",
       "      <td>1006.02500</td>\n",
       "      <td>9.62500</td>\n",
       "      <td>72.91667</td>\n",
       "      <td>13.65876</td>\n",
       "      <td>134.87500</td>\n",
       "      <td>7.83000</td>\n",
       "    </tr>\n",
       "    <tr>\n",
       "      <th>50%</th>\n",
       "      <td>1114830.09114</td>\n",
       "      <td>1009.57063</td>\n",
       "      <td>42.50000</td>\n",
       "      <td>82.37500</td>\n",
       "      <td>16.97939</td>\n",
       "      <td>240.00000</td>\n",
       "      <td>12.29375</td>\n",
       "    </tr>\n",
       "    <tr>\n",
       "      <th>75%</th>\n",
       "      <td>1259434.62864</td>\n",
       "      <td>1012.25000</td>\n",
       "      <td>75.00000</td>\n",
       "      <td>89.08333</td>\n",
       "      <td>20.67189</td>\n",
       "      <td>284.62500</td>\n",
       "      <td>18.06906</td>\n",
       "    </tr>\n",
       "    <tr>\n",
       "      <th>max</th>\n",
       "      <td>1605192.04314</td>\n",
       "      <td>1022.91500</td>\n",
       "      <td>100.00000</td>\n",
       "      <td>100.00000</td>\n",
       "      <td>39.06689</td>\n",
       "      <td>357.37500</td>\n",
       "      <td>91.49750</td>\n",
       "    </tr>\n",
       "  </tbody>\n",
       "</table>\n",
       "</div>"
      ],
      "text/plain": [
       "          Load (kW)  Pressure_kpa  Cloud Cover (%)  Humidity (%)  \\\n",
       "count   31896.00000   31896.00000      31896.00000   31896.00000   \n",
       "mean  1152592.77177    1009.22106         40.84949      80.22865   \n",
       "std    150638.32604       4.02604         32.58624      11.20811   \n",
       "min    845471.35814     950.59500          0.00000      33.33333   \n",
       "25%   1031659.87271    1006.02500          9.62500      72.91667   \n",
       "50%   1114830.09114    1009.57063         42.50000      82.37500   \n",
       "75%   1259434.62864    1012.25000         75.00000      89.08333   \n",
       "max   1605192.04314    1022.91500        100.00000     100.00000   \n",
       "\n",
       "       Temperature (C)   Wind Direction (deg)  Wind Speed (kmh)  \n",
       "count       31896.00000           31896.00000       31896.00000  \n",
       "mean           17.00032             212.16546          12.94756  \n",
       "std             5.63216              91.60990           6.68346  \n",
       "min            -6.41811               0.00000           0.00000  \n",
       "25%            13.65876             134.87500           7.83000  \n",
       "50%            16.97939             240.00000          12.29375  \n",
       "75%            20.67189             284.62500          18.06906  \n",
       "max            39.06689             357.37500          91.49750  "
      ]
     },
     "execution_count": 123,
     "metadata": {},
     "output_type": "execute_result"
    }
   ],
   "source": [
    "actuals.describe()"
   ]
  },
  {
   "attachments": {},
   "cell_type": "markdown",
   "metadata": {},
   "source": [
    "### Checking for data types:"
   ]
  },
  {
   "cell_type": "code",
   "execution_count": 124,
   "metadata": {
    "scrolled": true
   },
   "outputs": [
    {
     "data": {
      "text/plain": [
       "Time                    datetime64[ns]\n",
       "Load (kW)                      float64\n",
       "Pressure_kpa                   float64\n",
       "Cloud Cover (%)                float64\n",
       "Humidity (%)                   float64\n",
       "Temperature (C)                float64\n",
       "Wind Direction (deg)           float64\n",
       "Wind Speed (kmh)               float64\n",
       "dtype: object"
      ]
     },
     "execution_count": 124,
     "metadata": {},
     "output_type": "execute_result"
    }
   ],
   "source": [
    "actuals.dtypes"
   ]
  },
  {
   "attachments": {},
   "cell_type": "markdown",
   "metadata": {},
   "source": [
    "### Checking for missing data:"
   ]
  },
  {
   "cell_type": "code",
   "execution_count": 125,
   "metadata": {},
   "outputs": [
    {
     "data": {
      "text/plain": [
       "Time                    0\n",
       "Load (kW)               0\n",
       "Pressure_kpa            0\n",
       "Cloud Cover (%)         0\n",
       "Humidity (%)            0\n",
       "Temperature (C)         0\n",
       "Wind Direction (deg)    0\n",
       "Wind Speed (kmh)        0\n",
       "dtype: int64"
      ]
     },
     "execution_count": 125,
     "metadata": {},
     "output_type": "execute_result"
    }
   ],
   "source": [
    "actuals.isnull().sum()"
   ]
  },
  {
   "cell_type": "code",
   "execution_count": 126,
   "metadata": {
    "scrolled": false
   },
   "outputs": [
    {
     "data": {
      "text/plain": [
       "Time                    0\n",
       "Load (kW)               0\n",
       "Pressure_kpa            0\n",
       "Cloud Cover (%)         0\n",
       "Humidity (%)            0\n",
       "Temperature (C)         0\n",
       "Wind Direction (deg)    0\n",
       "Wind Speed (kmh)        0\n",
       "dtype: int64"
      ]
     },
     "execution_count": 126,
     "metadata": {},
     "output_type": "execute_result"
    }
   ],
   "source": [
    "actuals.isna().sum()"
   ]
  },
  {
   "attachments": {},
   "cell_type": "markdown",
   "metadata": {},
   "source": [
    "### Finding outliers:"
   ]
  },
  {
   "cell_type": "code",
   "execution_count": 127,
   "metadata": {},
   "outputs": [],
   "source": [
    "def find_outliers(df, column):\n",
    "    \n",
    "    q1=df.quantile(0.25)[column]\n",
    "\n",
    "    q3=df.quantile(0.75)[column]\n",
    "\n",
    "    IQR=q3-q1\n",
    "\n",
    "    outliers = df[((df[column]<(q1-1.5*IQR)) | (df[column]>(q3+1.5*IQR)))]\n",
    "\n",
    "    return outliers"
   ]
  },
  {
   "cell_type": "code",
   "execution_count": 128,
   "metadata": {},
   "outputs": [],
   "source": [
    "outliers = find_outliers(actuals, 'Pressure_kpa')"
   ]
  },
  {
   "cell_type": "code",
   "execution_count": 129,
   "metadata": {},
   "outputs": [
    {
     "data": {
      "text/html": [
       "<div>\n",
       "<style scoped>\n",
       "    .dataframe tbody tr th:only-of-type {\n",
       "        vertical-align: middle;\n",
       "    }\n",
       "\n",
       "    .dataframe tbody tr th {\n",
       "        vertical-align: top;\n",
       "    }\n",
       "\n",
       "    .dataframe thead th {\n",
       "        text-align: right;\n",
       "    }\n",
       "</style>\n",
       "<table border=\"1\" class=\"dataframe\">\n",
       "  <thead>\n",
       "    <tr style=\"text-align: right;\">\n",
       "      <th></th>\n",
       "      <th>Time</th>\n",
       "      <th>Load (kW)</th>\n",
       "      <th>Pressure_kpa</th>\n",
       "      <th>Cloud Cover (%)</th>\n",
       "      <th>Humidity (%)</th>\n",
       "      <th>Temperature (C)</th>\n",
       "      <th>Wind Direction (deg)</th>\n",
       "      <th>Wind Speed (kmh)</th>\n",
       "    </tr>\n",
       "  </thead>\n",
       "  <tbody>\n",
       "    <tr>\n",
       "      <th>695</th>\n",
       "      <td>2017-04-15 23:00:00</td>\n",
       "      <td>1089793.73534</td>\n",
       "      <td>996.02125</td>\n",
       "      <td>40.87500</td>\n",
       "      <td>83.33333</td>\n",
       "      <td>15.52189</td>\n",
       "      <td>197.87500</td>\n",
       "      <td>18.62750</td>\n",
       "    </tr>\n",
       "    <tr>\n",
       "      <th>1356</th>\n",
       "      <td>2017-05-13 12:00:00</td>\n",
       "      <td>1293908.52014</td>\n",
       "      <td>1021.80750</td>\n",
       "      <td>42.50000</td>\n",
       "      <td>79.00000</td>\n",
       "      <td>24.64189</td>\n",
       "      <td>265.37500</td>\n",
       "      <td>16.07625</td>\n",
       "    </tr>\n",
       "    <tr>\n",
       "      <th>1357</th>\n",
       "      <td>2017-05-13 13:00:00</td>\n",
       "      <td>1292135.79814</td>\n",
       "      <td>1022.91500</td>\n",
       "      <td>44.00000</td>\n",
       "      <td>77.25000</td>\n",
       "      <td>29.65189</td>\n",
       "      <td>279.50000</td>\n",
       "      <td>18.33375</td>\n",
       "    </tr>\n",
       "    <tr>\n",
       "      <th>1521</th>\n",
       "      <td>2017-05-20 09:00:00</td>\n",
       "      <td>1222820.79274</td>\n",
       "      <td>954.52750</td>\n",
       "      <td>30.37500</td>\n",
       "      <td>75.41667</td>\n",
       "      <td>24.80689</td>\n",
       "      <td>191.87500</td>\n",
       "      <td>15.13500</td>\n",
       "    </tr>\n",
       "    <tr>\n",
       "      <th>1522</th>\n",
       "      <td>2017-05-20 10:00:00</td>\n",
       "      <td>1280126.83814</td>\n",
       "      <td>950.59500</td>\n",
       "      <td>31.00000</td>\n",
       "      <td>75.33333</td>\n",
       "      <td>26.61439</td>\n",
       "      <td>209.62500</td>\n",
       "      <td>19.38750</td>\n",
       "    </tr>\n",
       "    <tr>\n",
       "      <th>...</th>\n",
       "      <td>...</td>\n",
       "      <td>...</td>\n",
       "      <td>...</td>\n",
       "      <td>...</td>\n",
       "      <td>...</td>\n",
       "      <td>...</td>\n",
       "      <td>...</td>\n",
       "      <td>...</td>\n",
       "    </tr>\n",
       "    <tr>\n",
       "      <th>29366</th>\n",
       "      <td>2020-07-23 14:00:00</td>\n",
       "      <td>1124788.00814</td>\n",
       "      <td>995.93750</td>\n",
       "      <td>100.00000</td>\n",
       "      <td>94.33333</td>\n",
       "      <td>15.18439</td>\n",
       "      <td>253.87500</td>\n",
       "      <td>24.93375</td>\n",
       "    </tr>\n",
       "    <tr>\n",
       "      <th>29367</th>\n",
       "      <td>2020-07-23 15:00:00</td>\n",
       "      <td>1105991.64214</td>\n",
       "      <td>995.81250</td>\n",
       "      <td>100.00000</td>\n",
       "      <td>96.75000</td>\n",
       "      <td>12.29439</td>\n",
       "      <td>259.25000</td>\n",
       "      <td>28.50875</td>\n",
       "    </tr>\n",
       "    <tr>\n",
       "      <th>29368</th>\n",
       "      <td>2020-07-23 16:00:00</td>\n",
       "      <td>1091739.74814</td>\n",
       "      <td>995.80000</td>\n",
       "      <td>100.00000</td>\n",
       "      <td>99.91667</td>\n",
       "      <td>11.90689</td>\n",
       "      <td>259.37500</td>\n",
       "      <td>41.23500</td>\n",
       "    </tr>\n",
       "    <tr>\n",
       "      <th>29369</th>\n",
       "      <td>2020-07-23 17:00:00</td>\n",
       "      <td>1076333.78214</td>\n",
       "      <td>996.01250</td>\n",
       "      <td>100.00000</td>\n",
       "      <td>99.33333</td>\n",
       "      <td>12.24689</td>\n",
       "      <td>262.00000</td>\n",
       "      <td>29.39750</td>\n",
       "    </tr>\n",
       "    <tr>\n",
       "      <th>29370</th>\n",
       "      <td>2020-07-23 18:00:00</td>\n",
       "      <td>1057183.01614</td>\n",
       "      <td>996.61250</td>\n",
       "      <td>100.00000</td>\n",
       "      <td>98.83333</td>\n",
       "      <td>12.09189</td>\n",
       "      <td>231.00000</td>\n",
       "      <td>20.99250</td>\n",
       "    </tr>\n",
       "  </tbody>\n",
       "</table>\n",
       "<p>70 rows × 8 columns</p>\n",
       "</div>"
      ],
      "text/plain": [
       "                     Time     Load (kW)  Pressure_kpa  Cloud Cover (%)  \\\n",
       "695   2017-04-15 23:00:00 1089793.73534     996.02125         40.87500   \n",
       "1356  2017-05-13 12:00:00 1293908.52014    1021.80750         42.50000   \n",
       "1357  2017-05-13 13:00:00 1292135.79814    1022.91500         44.00000   \n",
       "1521  2017-05-20 09:00:00 1222820.79274     954.52750         30.37500   \n",
       "1522  2017-05-20 10:00:00 1280126.83814     950.59500         31.00000   \n",
       "...                   ...           ...           ...              ...   \n",
       "29366 2020-07-23 14:00:00 1124788.00814     995.93750        100.00000   \n",
       "29367 2020-07-23 15:00:00 1105991.64214     995.81250        100.00000   \n",
       "29368 2020-07-23 16:00:00 1091739.74814     995.80000        100.00000   \n",
       "29369 2020-07-23 17:00:00 1076333.78214     996.01250        100.00000   \n",
       "29370 2020-07-23 18:00:00 1057183.01614     996.61250        100.00000   \n",
       "\n",
       "       Humidity (%)  Temperature (C)   Wind Direction (deg)  Wind Speed (kmh)  \n",
       "695        83.33333          15.52189             197.87500          18.62750  \n",
       "1356       79.00000          24.64189             265.37500          16.07625  \n",
       "1357       77.25000          29.65189             279.50000          18.33375  \n",
       "1521       75.41667          24.80689             191.87500          15.13500  \n",
       "1522       75.33333          26.61439             209.62500          19.38750  \n",
       "...             ...               ...                   ...               ...  \n",
       "29366      94.33333          15.18439             253.87500          24.93375  \n",
       "29367      96.75000          12.29439             259.25000          28.50875  \n",
       "29368      99.91667          11.90689             259.37500          41.23500  \n",
       "29369      99.33333          12.24689             262.00000          29.39750  \n",
       "29370      98.83333          12.09189             231.00000          20.99250  \n",
       "\n",
       "[70 rows x 8 columns]"
      ]
     },
     "execution_count": 129,
     "metadata": {},
     "output_type": "execute_result"
    }
   ],
   "source": [
    "outliers"
   ]
  },
  {
   "attachments": {},
   "cell_type": "markdown",
   "metadata": {},
   "source": [
    "### Plotting time vs load:\n",
    "\n",
    "Looks like a yearly trend? Load keeps going down until the end of each year and then goes up."
   ]
  },
  {
   "cell_type": "code",
   "execution_count": 130,
   "metadata": {
    "scrolled": true
   },
   "outputs": [
    {
     "data": {
      "text/plain": [
       "[<matplotlib.lines.Line2D at 0x7fb3fa03ae50>]"
      ]
     },
     "execution_count": 130,
     "metadata": {},
     "output_type": "execute_result"
    },
    {
     "data": {
      "image/png": "[encoded data removed]",
      "text/plain": [
       "<Figure size 640x480 with 1 Axes>"
      ]
     },
     "metadata": {},
     "output_type": "display_data"
    }
   ],
   "source": [
    "plt.plot(actuals[\"Time\"], actuals['Load (kW)'])"
   ]
  },
  {
   "cell_type": "code",
   "execution_count": 131,
   "metadata": {
    "scrolled": true
   },
   "outputs": [
    {
     "data": {
      "text/plain": [
       "Text(0.5, 1.0, 'Electricity demand')"
      ]
     },
     "execution_count": 131,
     "metadata": {},
     "output_type": "execute_result"
    },
    {
     "data": {
      "image/png": "[encoded data removed]",
      "text/plain": [
       "<Figure size 1200x350 with 1 Axes>"
      ]
     },
     "metadata": {},
     "output_type": "display_data"
    }
   ],
   "source": [
    "fig, ax = plt.subplots(figsize=(12, 3.5))\n",
    "\n",
    "\n",
    "data = actuals[(actuals['Time'] >= datetime(2017, 1, 1 , 0, 0, 0)) & (actuals['Time'] <= datetime(2018, 1,1, 0, 0, 0))]\n",
    "\n",
    "ax.plot(data.Time, data['Load (kW)'])\n",
    "\n",
    "\n",
    "ax.set_title('Electricity demand')"
   ]
  },
  {
   "attachments": {},
   "cell_type": "markdown",
   "metadata": {},
   "source": [
    "### Detecting seasonalities:"
   ]
  },
  {
   "cell_type": "code",
   "execution_count": 132,
   "metadata": {},
   "outputs": [],
   "source": [
    "temp_df = actuals"
   ]
  },
  {
   "cell_type": "code",
   "execution_count": 133,
   "metadata": {},
   "outputs": [],
   "source": [
    "temp_df['Month'] = [date.month for date in actuals.Time]"
   ]
  },
  {
   "cell_type": "code",
   "execution_count": 134,
   "metadata": {},
   "outputs": [],
   "source": [
    "temp_df['Year'] = [date.year for date in actuals.Time]"
   ]
  },
  {
   "cell_type": "code",
   "execution_count": 135,
   "metadata": {},
   "outputs": [],
   "source": [
    "temp_df['day'] = [date.day for date in actuals.Time]"
   ]
  },
  {
   "cell_type": "code",
   "execution_count": 136,
   "metadata": {},
   "outputs": [],
   "source": [
    "temp_df['hour'] = [date.hour for date in actuals.Time]"
   ]
  },
  {
   "cell_type": "code",
   "execution_count": 137,
   "metadata": {},
   "outputs": [],
   "source": [
    "temp_df[\"type_of_day\"] = [date.weekday() + 1 for date in actuals.Time]"
   ]
  },
  {
   "cell_type": "code",
   "execution_count": 138,
   "metadata": {},
   "outputs": [
    {
     "data": {
      "text/html": [
       "<div>\n",
       "<style scoped>\n",
       "    .dataframe tbody tr th:only-of-type {\n",
       "        vertical-align: middle;\n",
       "    }\n",
       "\n",
       "    .dataframe tbody tr th {\n",
       "        vertical-align: top;\n",
       "    }\n",
       "\n",
       "    .dataframe thead th {\n",
       "        text-align: right;\n",
       "    }\n",
       "</style>\n",
       "<table border=\"1\" class=\"dataframe\">\n",
       "  <thead>\n",
       "    <tr style=\"text-align: right;\">\n",
       "      <th></th>\n",
       "      <th>Time</th>\n",
       "      <th>Load (kW)</th>\n",
       "      <th>Pressure_kpa</th>\n",
       "      <th>Cloud Cover (%)</th>\n",
       "      <th>Humidity (%)</th>\n",
       "      <th>Temperature (C)</th>\n",
       "      <th>Wind Direction (deg)</th>\n",
       "      <th>Wind Speed (kmh)</th>\n",
       "      <th>Month</th>\n",
       "      <th>Year</th>\n",
       "      <th>day</th>\n",
       "      <th>hour</th>\n",
       "      <th>type_of_day</th>\n",
       "    </tr>\n",
       "  </thead>\n",
       "  <tbody>\n",
       "    <tr>\n",
       "      <th>0</th>\n",
       "      <td>2017-03-18 00:00:00</td>\n",
       "      <td>1031471.62806</td>\n",
       "      <td>1012.48000</td>\n",
       "      <td>2.12500</td>\n",
       "      <td>79.33333</td>\n",
       "      <td>16.76439</td>\n",
       "      <td>285.25000</td>\n",
       "      <td>6.25375</td>\n",
       "      <td>3</td>\n",
       "      <td>2017</td>\n",
       "      <td>18</td>\n",
       "      <td>0</td>\n",
       "      <td>6</td>\n",
       "    </tr>\n",
       "    <tr>\n",
       "      <th>1</th>\n",
       "      <td>2017-03-18 01:00:00</td>\n",
       "      <td>1007205.57844</td>\n",
       "      <td>1011.61875</td>\n",
       "      <td>0.00000</td>\n",
       "      <td>82.16667</td>\n",
       "      <td>15.72939</td>\n",
       "      <td>285.00000</td>\n",
       "      <td>9.20500</td>\n",
       "      <td>3</td>\n",
       "      <td>2017</td>\n",
       "      <td>18</td>\n",
       "      <td>1</td>\n",
       "      <td>6</td>\n",
       "    </tr>\n",
       "    <tr>\n",
       "      <th>2</th>\n",
       "      <td>2017-03-18 02:00:00</td>\n",
       "      <td>986108.40072</td>\n",
       "      <td>1010.72000</td>\n",
       "      <td>2.12500</td>\n",
       "      <td>81.66667</td>\n",
       "      <td>15.81689</td>\n",
       "      <td>316.00000</td>\n",
       "      <td>11.28375</td>\n",
       "      <td>3</td>\n",
       "      <td>2017</td>\n",
       "      <td>18</td>\n",
       "      <td>2</td>\n",
       "      <td>6</td>\n",
       "    </tr>\n",
       "    <tr>\n",
       "      <th>3</th>\n",
       "      <td>2017-03-18 03:00:00</td>\n",
       "      <td>970760.96692</td>\n",
       "      <td>1011.37625</td>\n",
       "      <td>17.12500</td>\n",
       "      <td>82.25000</td>\n",
       "      <td>15.91939</td>\n",
       "      <td>327.00000</td>\n",
       "      <td>7.16875</td>\n",
       "      <td>3</td>\n",
       "      <td>2017</td>\n",
       "      <td>18</td>\n",
       "      <td>3</td>\n",
       "      <td>6</td>\n",
       "    </tr>\n",
       "    <tr>\n",
       "      <th>4</th>\n",
       "      <td>2017-03-18 04:00:00</td>\n",
       "      <td>962258.36502</td>\n",
       "      <td>1011.50000</td>\n",
       "      <td>18.62500</td>\n",
       "      <td>82.33333</td>\n",
       "      <td>15.76939</td>\n",
       "      <td>282.25000</td>\n",
       "      <td>0.78000</td>\n",
       "      <td>3</td>\n",
       "      <td>2017</td>\n",
       "      <td>18</td>\n",
       "      <td>4</td>\n",
       "      <td>6</td>\n",
       "    </tr>\n",
       "  </tbody>\n",
       "</table>\n",
       "</div>"
      ],
      "text/plain": [
       "                 Time     Load (kW)  Pressure_kpa  Cloud Cover (%)  \\\n",
       "0 2017-03-18 00:00:00 1031471.62806    1012.48000          2.12500   \n",
       "1 2017-03-18 01:00:00 1007205.57844    1011.61875          0.00000   \n",
       "2 2017-03-18 02:00:00  986108.40072    1010.72000          2.12500   \n",
       "3 2017-03-18 03:00:00  970760.96692    1011.37625         17.12500   \n",
       "4 2017-03-18 04:00:00  962258.36502    1011.50000         18.62500   \n",
       "\n",
       "   Humidity (%)  Temperature (C)   Wind Direction (deg)  Wind Speed (kmh)  \\\n",
       "0      79.33333          16.76439             285.25000           6.25375   \n",
       "1      82.16667          15.72939             285.00000           9.20500   \n",
       "2      81.66667          15.81689             316.00000          11.28375   \n",
       "3      82.25000          15.91939             327.00000           7.16875   \n",
       "4      82.33333          15.76939             282.25000           0.78000   \n",
       "\n",
       "   Month  Year  day  hour  type_of_day  \n",
       "0      3  2017   18     0            6  \n",
       "1      3  2017   18     1            6  \n",
       "2      3  2017   18     2            6  \n",
       "3      3  2017   18     3            6  \n",
       "4      3  2017   18     4            6  "
      ]
     },
     "execution_count": 138,
     "metadata": {},
     "output_type": "execute_result"
    }
   ],
   "source": [
    "temp_df.head()"
   ]
  },
  {
   "cell_type": "code",
   "execution_count": 139,
   "metadata": {},
   "outputs": [
    {
     "data": {
      "image/png": "[encoded data removed]",
      "text/plain": [
       "<Figure size 700x250 with 1 Axes>"
      ]
     },
     "metadata": {},
     "output_type": "display_data"
    }
   ],
   "source": [
    "# Boxplot for annual seasonality\n",
    "# ==============================================================================\n",
    "fig, ax = plt.subplots(figsize=(7, 2.5))\n",
    "temp_df.boxplot(column='Load (kW)', by='Month', ax=ax,)\n",
    "temp_df.groupby('Month')['Load (kW)'].median().plot(style='o-', linewidth=0.8, ax=ax)\n",
    "ax.set_ylabel('Load (kW)')\n",
    "ax.set_title('Load (kW) distribution by month')\n",
    "fig.suptitle('');"
   ]
  },
  {
   "cell_type": "code",
   "execution_count": 140,
   "metadata": {},
   "outputs": [
    {
     "data": {
      "image/png": "[encoded data removed]",
      "text/plain": [
       "<Figure size 700x250 with 1 Axes>"
      ]
     },
     "metadata": {},
     "output_type": "display_data"
    }
   ],
   "source": [
    "# Boxplot for weekly seasonality\n",
    "# ==============================================================================\n",
    "fig, ax = plt.subplots(figsize=(7, 2.5))\n",
    "temp_df.boxplot(column='Load (kW)', by='type_of_day', ax=ax,)\n",
    "temp_df.groupby('type_of_day')['Load (kW)'].median().plot(style='o-', linewidth=0.8, ax=ax)\n",
    "ax.set_ylabel('Load (kW)')\n",
    "ax.set_title('Load (kW) distribution by day')\n",
    "fig.suptitle('');"
   ]
  },
  {
   "cell_type": "code",
   "execution_count": 141,
   "metadata": {},
   "outputs": [
    {
     "data": {
      "image/png": "[encoded data removed]",
      "text/plain": [
       "<Figure size 700x250 with 1 Axes>"
      ]
     },
     "metadata": {},
     "output_type": "display_data"
    }
   ],
   "source": [
    "# Boxplot for daily seasonality\n",
    "# ==============================================================================\n",
    "fig, ax = plt.subplots(figsize=(7, 2.5))\n",
    "temp_df.boxplot(column='Load (kW)', by='hour', ax=ax,)\n",
    "temp_df.groupby('hour')['Load (kW)'].median().plot(style='o-', linewidth=0.8, ax=ax)\n",
    "ax.set_ylabel('Load (kW)')\n",
    "ax.set_title('Load (kW) distribution by hours')\n",
    "fig.suptitle('');"
   ]
  },
  {
   "attachments": {},
   "cell_type": "markdown",
   "metadata": {},
   "source": [
    "## Merging the forecast dataset"
   ]
  },
  {
   "cell_type": "code",
   "execution_count": 142,
   "metadata": {},
   "outputs": [],
   "source": [
    "forecasts = pd.concat([pd.read_excel(\"Train/forecasts_part1/Cloudcover_percent.xlsx\"),\n",
    "                       pd.read_excel(\"Train/forecasts_part1/Pressure_kpa.xlsx\")['Pressure (kpa)'],\n",
    "                       pd.read_excel(\"Train/forecasts_part1/Temperature_Celcius.xlsx\")['Temperature (C)'],\n",
    "                       pd.read_excel(\"Train/forecasts_part1/Winddirection_degree.xlsx\")['Wind Direction (deg)'],\n",
    "                       pd.read_excel(\"Train/forecasts_part1/Windspeed_kmh.xlsx\")['Wind Speed (kmh)'],\n",
    "                      ],\n",
    "                      axis=\"columns\")"
   ]
  },
  {
   "cell_type": "code",
   "execution_count": 143,
   "metadata": {},
   "outputs": [
    {
     "data": {
      "text/html": [
       "<div>\n",
       "<style scoped>\n",
       "    .dataframe tbody tr th:only-of-type {\n",
       "        vertical-align: middle;\n",
       "    }\n",
       "\n",
       "    .dataframe tbody tr th {\n",
       "        vertical-align: top;\n",
       "    }\n",
       "\n",
       "    .dataframe thead th {\n",
       "        text-align: right;\n",
       "    }\n",
       "</style>\n",
       "<table border=\"1\" class=\"dataframe\">\n",
       "  <thead>\n",
       "    <tr style=\"text-align: right;\">\n",
       "      <th></th>\n",
       "      <th>Cloud Cover (%)</th>\n",
       "      <th>Time</th>\n",
       "      <th>Pressure (kpa)</th>\n",
       "      <th>Temperature (C)</th>\n",
       "      <th>Wind Direction (deg)</th>\n",
       "      <th>Wind Speed (kmh)</th>\n",
       "    </tr>\n",
       "  </thead>\n",
       "  <tbody>\n",
       "    <tr>\n",
       "      <th>0</th>\n",
       "      <td>3</td>\n",
       "      <td>2017-03-18 00:00:00</td>\n",
       "      <td>1011</td>\n",
       "      <td>14</td>\n",
       "      <td>307</td>\n",
       "      <td>2</td>\n",
       "    </tr>\n",
       "    <tr>\n",
       "      <th>1</th>\n",
       "      <td>4</td>\n",
       "      <td>2017-03-18 01:00:00</td>\n",
       "      <td>1011</td>\n",
       "      <td>14</td>\n",
       "      <td>215</td>\n",
       "      <td>2</td>\n",
       "    </tr>\n",
       "    <tr>\n",
       "      <th>2</th>\n",
       "      <td>4</td>\n",
       "      <td>2017-03-18 02:00:00</td>\n",
       "      <td>1011</td>\n",
       "      <td>14</td>\n",
       "      <td>123</td>\n",
       "      <td>1</td>\n",
       "    </tr>\n",
       "    <tr>\n",
       "      <th>3</th>\n",
       "      <td>4</td>\n",
       "      <td>2017-03-18 03:00:00</td>\n",
       "      <td>1011</td>\n",
       "      <td>14</td>\n",
       "      <td>31</td>\n",
       "      <td>1</td>\n",
       "    </tr>\n",
       "    <tr>\n",
       "      <th>4</th>\n",
       "      <td>4</td>\n",
       "      <td>2017-03-18 04:00:00</td>\n",
       "      <td>1011</td>\n",
       "      <td>14</td>\n",
       "      <td>138</td>\n",
       "      <td>1</td>\n",
       "    </tr>\n",
       "  </tbody>\n",
       "</table>\n",
       "</div>"
      ],
      "text/plain": [
       "   Cloud Cover (%)                Time  Pressure (kpa)  Temperature (C)  \\\n",
       "0                3 2017-03-18 00:00:00            1011               14   \n",
       "1                4 2017-03-18 01:00:00            1011               14   \n",
       "2                4 2017-03-18 02:00:00            1011               14   \n",
       "3                4 2017-03-18 03:00:00            1011               14   \n",
       "4                4 2017-03-18 04:00:00            1011               14   \n",
       "\n",
       "   Wind Direction (deg)  Wind Speed (kmh)  \n",
       "0                   307                 2  \n",
       "1                   215                 2  \n",
       "2                   123                 1  \n",
       "3                    31                 1  \n",
       "4                   138                 1  "
      ]
     },
     "execution_count": 143,
     "metadata": {},
     "output_type": "execute_result"
    }
   ],
   "source": [
    "forecasts.head()"
   ]
  },
  {
   "cell_type": "code",
   "execution_count": 144,
   "metadata": {},
   "outputs": [
    {
     "data": {
      "text/plain": [
       "Cloud Cover (%)                  int64\n",
       "Time                    datetime64[ns]\n",
       "Pressure (kpa)                   int64\n",
       "Temperature (C)                  int64\n",
       "Wind Direction (deg)             int64\n",
       "Wind Speed (kmh)                 int64\n",
       "dtype: object"
      ]
     },
     "execution_count": 144,
     "metadata": {},
     "output_type": "execute_result"
    }
   ],
   "source": [
    "forecasts.dtypes"
   ]
  },
  {
   "attachments": {},
   "cell_type": "markdown",
   "metadata": {},
   "source": [
    "### Data statistical summary:"
   ]
  },
  {
   "cell_type": "code",
   "execution_count": 145,
   "metadata": {},
   "outputs": [
    {
     "data": {
      "text/plain": [
       "(32160, 6)"
      ]
     },
     "execution_count": 145,
     "metadata": {},
     "output_type": "execute_result"
    }
   ],
   "source": [
    "forecasts.shape"
   ]
  },
  {
   "cell_type": "code",
   "execution_count": 146,
   "metadata": {
    "scrolled": true
   },
   "outputs": [
    {
     "data": {
      "text/html": [
       "<div>\n",
       "<style scoped>\n",
       "    .dataframe tbody tr th:only-of-type {\n",
       "        vertical-align: middle;\n",
       "    }\n",
       "\n",
       "    .dataframe tbody tr th {\n",
       "        vertical-align: top;\n",
       "    }\n",
       "\n",
       "    .dataframe thead th {\n",
       "        text-align: right;\n",
       "    }\n",
       "</style>\n",
       "<table border=\"1\" class=\"dataframe\">\n",
       "  <thead>\n",
       "    <tr style=\"text-align: right;\">\n",
       "      <th></th>\n",
       "      <th>Cloud Cover (%)</th>\n",
       "      <th>Pressure (kpa)</th>\n",
       "      <th>Temperature (C)</th>\n",
       "      <th>Wind Direction (deg)</th>\n",
       "      <th>Wind Speed (kmh)</th>\n",
       "    </tr>\n",
       "  </thead>\n",
       "  <tbody>\n",
       "    <tr>\n",
       "      <th>count</th>\n",
       "      <td>32160.00000</td>\n",
       "      <td>32160.00000</td>\n",
       "      <td>32160.00000</td>\n",
       "      <td>32160.00000</td>\n",
       "      <td>32160.00000</td>\n",
       "    </tr>\n",
       "    <tr>\n",
       "      <th>mean</th>\n",
       "      <td>29.36281</td>\n",
       "      <td>1009.13035</td>\n",
       "      <td>16.55498</td>\n",
       "      <td>215.77488</td>\n",
       "      <td>13.91517</td>\n",
       "    </tr>\n",
       "    <tr>\n",
       "      <th>std</th>\n",
       "      <td>30.83798</td>\n",
       "      <td>3.91725</td>\n",
       "      <td>4.74993</td>\n",
       "      <td>93.28696</td>\n",
       "      <td>7.58238</td>\n",
       "    </tr>\n",
       "    <tr>\n",
       "      <th>min</th>\n",
       "      <td>0.00000</td>\n",
       "      <td>994.00000</td>\n",
       "      <td>-40.00000</td>\n",
       "      <td>0.00000</td>\n",
       "      <td>0.00000</td>\n",
       "    </tr>\n",
       "    <tr>\n",
       "      <th>25%</th>\n",
       "      <td>2.00000</td>\n",
       "      <td>1006.00000</td>\n",
       "      <td>14.00000</td>\n",
       "      <td>167.00000</td>\n",
       "      <td>8.00000</td>\n",
       "    </tr>\n",
       "    <tr>\n",
       "      <th>50%</th>\n",
       "      <td>14.00000</td>\n",
       "      <td>1009.00000</td>\n",
       "      <td>16.00000</td>\n",
       "      <td>242.00000</td>\n",
       "      <td>12.00000</td>\n",
       "    </tr>\n",
       "    <tr>\n",
       "      <th>75%</th>\n",
       "      <td>57.00000</td>\n",
       "      <td>1012.00000</td>\n",
       "      <td>20.00000</td>\n",
       "      <td>284.00000</td>\n",
       "      <td>18.00000</td>\n",
       "    </tr>\n",
       "    <tr>\n",
       "      <th>max</th>\n",
       "      <td>100.00000</td>\n",
       "      <td>1020.00000</td>\n",
       "      <td>34.00000</td>\n",
       "      <td>360.00000</td>\n",
       "      <td>65.00000</td>\n",
       "    </tr>\n",
       "  </tbody>\n",
       "</table>\n",
       "</div>"
      ],
      "text/plain": [
       "       Cloud Cover (%)  Pressure (kpa)  Temperature (C)  Wind Direction (deg)  \\\n",
       "count      32160.00000     32160.00000      32160.00000           32160.00000   \n",
       "mean          29.36281      1009.13035         16.55498             215.77488   \n",
       "std           30.83798         3.91725          4.74993              93.28696   \n",
       "min            0.00000       994.00000        -40.00000               0.00000   \n",
       "25%            2.00000      1006.00000         14.00000             167.00000   \n",
       "50%           14.00000      1009.00000         16.00000             242.00000   \n",
       "75%           57.00000      1012.00000         20.00000             284.00000   \n",
       "max          100.00000      1020.00000         34.00000             360.00000   \n",
       "\n",
       "       Wind Speed (kmh)  \n",
       "count       32160.00000  \n",
       "mean           13.91517  \n",
       "std             7.58238  \n",
       "min             0.00000  \n",
       "25%             8.00000  \n",
       "50%            12.00000  \n",
       "75%            18.00000  \n",
       "max            65.00000  "
      ]
     },
     "execution_count": 146,
     "metadata": {},
     "output_type": "execute_result"
    }
   ],
   "source": [
    "forecasts.describe()"
   ]
  },
  {
   "attachments": {},
   "cell_type": "markdown",
   "metadata": {},
   "source": [
    "### Checking for missing data:"
   ]
  },
  {
   "cell_type": "code",
   "execution_count": 147,
   "metadata": {},
   "outputs": [
    {
     "data": {
      "text/plain": [
       "Cloud Cover (%)         0\n",
       "Time                    0\n",
       "Pressure (kpa)          0\n",
       "Temperature (C)         0\n",
       "Wind Direction (deg)    0\n",
       "Wind Speed (kmh)        0\n",
       "dtype: int64"
      ]
     },
     "execution_count": 147,
     "metadata": {},
     "output_type": "execute_result"
    }
   ],
   "source": [
    "forecasts.isnull().sum()"
   ]
  },
  {
   "cell_type": "code",
   "execution_count": 148,
   "metadata": {
    "scrolled": true
   },
   "outputs": [
    {
     "data": {
      "text/plain": [
       "Cloud Cover (%)         0\n",
       "Time                    0\n",
       "Pressure (kpa)          0\n",
       "Temperature (C)         0\n",
       "Wind Direction (deg)    0\n",
       "Wind Speed (kmh)        0\n",
       "dtype: int64"
      ]
     },
     "execution_count": 148,
     "metadata": {},
     "output_type": "execute_result"
    }
   ],
   "source": [
    "forecasts.isna().sum()"
   ]
  },
  {
   "attachments": {},
   "cell_type": "markdown",
   "metadata": {},
   "source": [
    "## Actual data post COVID:"
   ]
  },
  {
   "cell_type": "code",
   "execution_count": 149,
   "metadata": {},
   "outputs": [],
   "source": [
    "actuals_covid =  pd.read_csv(\"Train/Actuals_part2.csv\", parse_dates=True)"
   ]
  },
  {
   "cell_type": "code",
   "execution_count": 150,
   "metadata": {},
   "outputs": [
    {
     "data": {
      "text/html": [
       "<div>\n",
       "<style scoped>\n",
       "    .dataframe tbody tr th:only-of-type {\n",
       "        vertical-align: middle;\n",
       "    }\n",
       "\n",
       "    .dataframe tbody tr th {\n",
       "        vertical-align: top;\n",
       "    }\n",
       "\n",
       "    .dataframe thead th {\n",
       "        text-align: right;\n",
       "    }\n",
       "</style>\n",
       "<table border=\"1\" class=\"dataframe\">\n",
       "  <thead>\n",
       "    <tr style=\"text-align: right;\">\n",
       "      <th></th>\n",
       "      <th>Time</th>\n",
       "      <th>Load (kW)</th>\n",
       "      <th>Pressure_kpa</th>\n",
       "      <th>Cloud Cover (%)</th>\n",
       "      <th>Humidity (%)</th>\n",
       "      <th>Temperature (C)</th>\n",
       "      <th>Wind Direction (deg)</th>\n",
       "      <th>Wind Speed (kmh)</th>\n",
       "    </tr>\n",
       "  </thead>\n",
       "  <tbody>\n",
       "    <tr>\n",
       "      <th>0</th>\n",
       "      <td>6/11/2020 0:00</td>\n",
       "      <td>1022463.93200</td>\n",
       "      <td>1011.00000</td>\n",
       "      <td>36.50000</td>\n",
       "      <td>71.58333</td>\n",
       "      <td>14.84939</td>\n",
       "      <td>313.12500</td>\n",
       "      <td>10.43125</td>\n",
       "    </tr>\n",
       "    <tr>\n",
       "      <th>1</th>\n",
       "      <td>6/11/2020 1:00</td>\n",
       "      <td>1007171.43200</td>\n",
       "      <td>1010.50000</td>\n",
       "      <td>30.62500</td>\n",
       "      <td>73.33333</td>\n",
       "      <td>13.41439</td>\n",
       "      <td>57.87500</td>\n",
       "      <td>9.56375</td>\n",
       "    </tr>\n",
       "    <tr>\n",
       "      <th>2</th>\n",
       "      <td>6/11/2020 2:00</td>\n",
       "      <td>994545.93200</td>\n",
       "      <td>1010.00000</td>\n",
       "      <td>43.37500</td>\n",
       "      <td>72.83333</td>\n",
       "      <td>12.93189</td>\n",
       "      <td>17.62500</td>\n",
       "      <td>4.87750</td>\n",
       "    </tr>\n",
       "    <tr>\n",
       "      <th>3</th>\n",
       "      <td>6/11/2020 3:00</td>\n",
       "      <td>985150.43200</td>\n",
       "      <td>1009.73750</td>\n",
       "      <td>51.50000</td>\n",
       "      <td>72.66667</td>\n",
       "      <td>12.67689</td>\n",
       "      <td>24.87500</td>\n",
       "      <td>4.46750</td>\n",
       "    </tr>\n",
       "    <tr>\n",
       "      <th>4</th>\n",
       "      <td>6/11/2020 4:00</td>\n",
       "      <td>983825.43200</td>\n",
       "      <td>1009.78750</td>\n",
       "      <td>54.25000</td>\n",
       "      <td>73.08333</td>\n",
       "      <td>12.31939</td>\n",
       "      <td>31.50000</td>\n",
       "      <td>4.51625</td>\n",
       "    </tr>\n",
       "  </tbody>\n",
       "</table>\n",
       "</div>"
      ],
      "text/plain": [
       "             Time     Load (kW)  Pressure_kpa  Cloud Cover (%)  Humidity (%)  \\\n",
       "0  6/11/2020 0:00 1022463.93200    1011.00000         36.50000      71.58333   \n",
       "1  6/11/2020 1:00 1007171.43200    1010.50000         30.62500      73.33333   \n",
       "2  6/11/2020 2:00  994545.93200    1010.00000         43.37500      72.83333   \n",
       "3  6/11/2020 3:00  985150.43200    1009.73750         51.50000      72.66667   \n",
       "4  6/11/2020 4:00  983825.43200    1009.78750         54.25000      73.08333   \n",
       "\n",
       "   Temperature (C)   Wind Direction (deg)  Wind Speed (kmh)  \n",
       "0          14.84939             313.12500          10.43125  \n",
       "1          13.41439              57.87500           9.56375  \n",
       "2          12.93189              17.62500           4.87750  \n",
       "3          12.67689              24.87500           4.46750  \n",
       "4          12.31939              31.50000           4.51625  "
      ]
     },
     "execution_count": 150,
     "metadata": {},
     "output_type": "execute_result"
    }
   ],
   "source": [
    "actuals_covid.head()"
   ]
  },
  {
   "cell_type": "code",
   "execution_count": 151,
   "metadata": {},
   "outputs": [
    {
     "data": {
      "text/html": [
       "<div>\n",
       "<style scoped>\n",
       "    .dataframe tbody tr th:only-of-type {\n",
       "        vertical-align: middle;\n",
       "    }\n",
       "\n",
       "    .dataframe tbody tr th {\n",
       "        vertical-align: top;\n",
       "    }\n",
       "\n",
       "    .dataframe thead th {\n",
       "        text-align: right;\n",
       "    }\n",
       "</style>\n",
       "<table border=\"1\" class=\"dataframe\">\n",
       "  <thead>\n",
       "    <tr style=\"text-align: right;\">\n",
       "      <th></th>\n",
       "      <th>Time</th>\n",
       "      <th>Load (kW)</th>\n",
       "      <th>Pressure_kpa</th>\n",
       "      <th>Cloud Cover (%)</th>\n",
       "      <th>Humidity (%)</th>\n",
       "      <th>Temperature (C)</th>\n",
       "      <th>Wind Direction (deg)</th>\n",
       "      <th>Wind Speed (kmh)</th>\n",
       "    </tr>\n",
       "  </thead>\n",
       "  <tbody>\n",
       "    <tr>\n",
       "      <th>1699</th>\n",
       "      <td>15/1/2021 19:00</td>\n",
       "      <td>1141078.93200</td>\n",
       "      <td>1013.38750</td>\n",
       "      <td>38.37500</td>\n",
       "      <td>68.33333</td>\n",
       "      <td>11.73439</td>\n",
       "      <td>306.87500</td>\n",
       "      <td>6.63375</td>\n",
       "    </tr>\n",
       "    <tr>\n",
       "      <th>1700</th>\n",
       "      <td>15/1/2021 20:00</td>\n",
       "      <td>1108896.43200</td>\n",
       "      <td>1013.97500</td>\n",
       "      <td>28.12500</td>\n",
       "      <td>73.91667</td>\n",
       "      <td>9.05689</td>\n",
       "      <td>297.62500</td>\n",
       "      <td>10.08750</td>\n",
       "    </tr>\n",
       "    <tr>\n",
       "      <th>1701</th>\n",
       "      <td>15/1/2021 21:00</td>\n",
       "      <td>1078978.43200</td>\n",
       "      <td>1014.18750</td>\n",
       "      <td>21.12500</td>\n",
       "      <td>75.83333</td>\n",
       "      <td>8.41439</td>\n",
       "      <td>334.00000</td>\n",
       "      <td>8.18000</td>\n",
       "    </tr>\n",
       "    <tr>\n",
       "      <th>1702</th>\n",
       "      <td>15/1/2021 22:00</td>\n",
       "      <td>1044494.93200</td>\n",
       "      <td>1014.12500</td>\n",
       "      <td>17.37500</td>\n",
       "      <td>74.25000</td>\n",
       "      <td>8.04189</td>\n",
       "      <td>73.62500</td>\n",
       "      <td>4.12250</td>\n",
       "    </tr>\n",
       "    <tr>\n",
       "      <th>1703</th>\n",
       "      <td>15/1/2021 23:00</td>\n",
       "      <td>1010233.93200</td>\n",
       "      <td>1013.90000</td>\n",
       "      <td>13.25000</td>\n",
       "      <td>77.25000</td>\n",
       "      <td>6.54189</td>\n",
       "      <td>37.62500</td>\n",
       "      <td>2.87000</td>\n",
       "    </tr>\n",
       "  </tbody>\n",
       "</table>\n",
       "</div>"
      ],
      "text/plain": [
       "                 Time     Load (kW)  Pressure_kpa  Cloud Cover (%)  \\\n",
       "1699  15/1/2021 19:00 1141078.93200    1013.38750         38.37500   \n",
       "1700  15/1/2021 20:00 1108896.43200    1013.97500         28.12500   \n",
       "1701  15/1/2021 21:00 1078978.43200    1014.18750         21.12500   \n",
       "1702  15/1/2021 22:00 1044494.93200    1014.12500         17.37500   \n",
       "1703  15/1/2021 23:00 1010233.93200    1013.90000         13.25000   \n",
       "\n",
       "      Humidity (%)  Temperature (C)   Wind Direction (deg)  Wind Speed (kmh)  \n",
       "1699      68.33333          11.73439             306.87500           6.63375  \n",
       "1700      73.91667           9.05689             297.62500          10.08750  \n",
       "1701      75.83333           8.41439             334.00000           8.18000  \n",
       "1702      74.25000           8.04189              73.62500           4.12250  \n",
       "1703      77.25000           6.54189              37.62500           2.87000  "
      ]
     },
     "execution_count": 151,
     "metadata": {},
     "output_type": "execute_result"
    }
   ],
   "source": [
    "actuals_covid.tail()"
   ]
  },
  {
   "cell_type": "code",
   "execution_count": 152,
   "metadata": {},
   "outputs": [],
   "source": [
    "actuals_covid['Time'] = pd.to_datetime(actuals_covid['Time'], dayfirst = True)"
   ]
  },
  {
   "cell_type": "code",
   "execution_count": 153,
   "metadata": {},
   "outputs": [
    {
     "data": {
      "text/plain": [
       "Time                    datetime64[ns]\n",
       "Load (kW)                      float64\n",
       "Pressure_kpa                   float64\n",
       "Cloud Cover (%)                float64\n",
       "Humidity (%)                   float64\n",
       "Temperature (C)                float64\n",
       "Wind Direction (deg)           float64\n",
       "Wind Speed (kmh)               float64\n",
       "dtype: object"
      ]
     },
     "execution_count": 153,
     "metadata": {},
     "output_type": "execute_result"
    }
   ],
   "source": [
    "actuals_covid.dtypes"
   ]
  },
  {
   "cell_type": "code",
   "execution_count": 154,
   "metadata": {},
   "outputs": [
    {
     "data": {
      "text/plain": [
       "(1704, 8)"
      ]
     },
     "execution_count": 154,
     "metadata": {},
     "output_type": "execute_result"
    }
   ],
   "source": [
    "actuals_covid.shape"
   ]
  },
  {
   "cell_type": "code",
   "execution_count": 155,
   "metadata": {},
   "outputs": [
    {
     "data": {
      "text/html": [
       "<div>\n",
       "<style scoped>\n",
       "    .dataframe tbody tr th:only-of-type {\n",
       "        vertical-align: middle;\n",
       "    }\n",
       "\n",
       "    .dataframe tbody tr th {\n",
       "        vertical-align: top;\n",
       "    }\n",
       "\n",
       "    .dataframe thead th {\n",
       "        text-align: right;\n",
       "    }\n",
       "</style>\n",
       "<table border=\"1\" class=\"dataframe\">\n",
       "  <thead>\n",
       "    <tr style=\"text-align: right;\">\n",
       "      <th></th>\n",
       "      <th>Load (kW)</th>\n",
       "      <th>Pressure_kpa</th>\n",
       "      <th>Cloud Cover (%)</th>\n",
       "      <th>Humidity (%)</th>\n",
       "      <th>Temperature (C)</th>\n",
       "      <th>Wind Direction (deg)</th>\n",
       "      <th>Wind Speed (kmh)</th>\n",
       "    </tr>\n",
       "  </thead>\n",
       "  <tbody>\n",
       "    <tr>\n",
       "      <th>count</th>\n",
       "      <td>1704.00000</td>\n",
       "      <td>1704.00000</td>\n",
       "      <td>1704.00000</td>\n",
       "      <td>1704.00000</td>\n",
       "      <td>1704.00000</td>\n",
       "      <td>1704.00000</td>\n",
       "      <td>1704.00000</td>\n",
       "    </tr>\n",
       "    <tr>\n",
       "      <th>mean</th>\n",
       "      <td>1091286.27120</td>\n",
       "      <td>1011.95483</td>\n",
       "      <td>30.63762</td>\n",
       "      <td>73.17229</td>\n",
       "      <td>12.81723</td>\n",
       "      <td>171.51357</td>\n",
       "      <td>9.07053</td>\n",
       "    </tr>\n",
       "    <tr>\n",
       "      <th>std</th>\n",
       "      <td>97363.73791</td>\n",
       "      <td>1.65139</td>\n",
       "      <td>27.10182</td>\n",
       "      <td>8.94076</td>\n",
       "      <td>6.20930</td>\n",
       "      <td>122.91047</td>\n",
       "      <td>4.55767</td>\n",
       "    </tr>\n",
       "    <tr>\n",
       "      <th>min</th>\n",
       "      <td>941890.93200</td>\n",
       "      <td>1007.27500</td>\n",
       "      <td>0.00000</td>\n",
       "      <td>49.08333</td>\n",
       "      <td>-4.19311</td>\n",
       "      <td>2.25000</td>\n",
       "      <td>0.12625</td>\n",
       "    </tr>\n",
       "    <tr>\n",
       "      <th>25%</th>\n",
       "      <td>1002116.05700</td>\n",
       "      <td>1010.80938</td>\n",
       "      <td>6.25000</td>\n",
       "      <td>67.08333</td>\n",
       "      <td>8.34126</td>\n",
       "      <td>54.06250</td>\n",
       "      <td>5.78781</td>\n",
       "    </tr>\n",
       "    <tr>\n",
       "      <th>50%</th>\n",
       "      <td>1070067.43200</td>\n",
       "      <td>1011.94375</td>\n",
       "      <td>25.43750</td>\n",
       "      <td>74.08333</td>\n",
       "      <td>12.42939</td>\n",
       "      <td>134.00000</td>\n",
       "      <td>8.55937</td>\n",
       "    </tr>\n",
       "    <tr>\n",
       "      <th>75%</th>\n",
       "      <td>1176774.80700</td>\n",
       "      <td>1013.16250</td>\n",
       "      <td>48.90625</td>\n",
       "      <td>79.41667</td>\n",
       "      <td>17.18626</td>\n",
       "      <td>302.03125</td>\n",
       "      <td>11.83563</td>\n",
       "    </tr>\n",
       "    <tr>\n",
       "      <th>max</th>\n",
       "      <td>1315434.43200</td>\n",
       "      <td>1016.68750</td>\n",
       "      <td>100.00000</td>\n",
       "      <td>96.41667</td>\n",
       "      <td>27.98689</td>\n",
       "      <td>357.50000</td>\n",
       "      <td>22.87625</td>\n",
       "    </tr>\n",
       "  </tbody>\n",
       "</table>\n",
       "</div>"
      ],
      "text/plain": [
       "          Load (kW)  Pressure_kpa  Cloud Cover (%)  Humidity (%)  \\\n",
       "count    1704.00000    1704.00000       1704.00000    1704.00000   \n",
       "mean  1091286.27120    1011.95483         30.63762      73.17229   \n",
       "std     97363.73791       1.65139         27.10182       8.94076   \n",
       "min    941890.93200    1007.27500          0.00000      49.08333   \n",
       "25%   1002116.05700    1010.80938          6.25000      67.08333   \n",
       "50%   1070067.43200    1011.94375         25.43750      74.08333   \n",
       "75%   1176774.80700    1013.16250         48.90625      79.41667   \n",
       "max   1315434.43200    1016.68750        100.00000      96.41667   \n",
       "\n",
       "       Temperature (C)   Wind Direction (deg)  Wind Speed (kmh)  \n",
       "count        1704.00000            1704.00000        1704.00000  \n",
       "mean           12.81723             171.51357           9.07053  \n",
       "std             6.20930             122.91047           4.55767  \n",
       "min            -4.19311               2.25000           0.12625  \n",
       "25%             8.34126              54.06250           5.78781  \n",
       "50%            12.42939             134.00000           8.55937  \n",
       "75%            17.18626             302.03125          11.83563  \n",
       "max            27.98689             357.50000          22.87625  "
      ]
     },
     "execution_count": 155,
     "metadata": {},
     "output_type": "execute_result"
    }
   ],
   "source": [
    "actuals_covid.describe()"
   ]
  },
  {
   "attachments": {},
   "cell_type": "markdown",
   "metadata": {},
   "source": [
    "Interestingly, the max and means values pre-COVID are higher? but the minimum is larger for post-COVID."
   ]
  },
  {
   "cell_type": "code",
   "execution_count": 156,
   "metadata": {
    "scrolled": true
   },
   "outputs": [
    {
     "data": {
      "text/plain": [
       "count     31896.00000\n",
       "mean    1152592.77177\n",
       "std      150638.32604\n",
       "min      845471.35814\n",
       "25%     1031659.87271\n",
       "50%     1114830.09114\n",
       "75%     1259434.62864\n",
       "max     1605192.04314\n",
       "Name: Load (kW), dtype: float64"
      ]
     },
     "execution_count": 156,
     "metadata": {},
     "output_type": "execute_result"
    }
   ],
   "source": [
    "actuals.describe()['Load (kW)']"
   ]
  },
  {
   "cell_type": "code",
   "execution_count": 157,
   "metadata": {
    "scrolled": false
   },
   "outputs": [
    {
     "data": {
      "text/plain": [
       "count      1704.00000\n",
       "mean    1091286.27120\n",
       "std       97363.73791\n",
       "min      941890.93200\n",
       "25%     1002116.05700\n",
       "50%     1070067.43200\n",
       "75%     1176774.80700\n",
       "max     1315434.43200\n",
       "Name: Load (kW), dtype: float64"
      ]
     },
     "execution_count": 157,
     "metadata": {},
     "output_type": "execute_result"
    }
   ],
   "source": [
    "actuals_covid.describe()['Load (kW)']"
   ]
  },
  {
   "cell_type": "code",
   "execution_count": 158,
   "metadata": {
    "scrolled": true
   },
   "outputs": [
    {
     "data": {
      "text/plain": [
       "count    30192.00000\n",
       "mean     61306.50057\n",
       "std      53274.58813\n",
       "min     -96419.57386\n",
       "25%      29543.81571\n",
       "50%      44762.65914\n",
       "75%      82659.82164\n",
       "max     289757.61114\n",
       "Name: Load (kW), dtype: float64"
      ]
     },
     "execution_count": 158,
     "metadata": {},
     "output_type": "execute_result"
    }
   ],
   "source": [
    "actuals.describe()['Load (kW)'] - actuals_covid.describe()['Load (kW)']"
   ]
  },
  {
   "cell_type": "code",
   "execution_count": 159,
   "metadata": {},
   "outputs": [
    {
     "data": {
      "text/plain": [
       "[<matplotlib.lines.Line2D at 0x7fb3f633a6d0>]"
      ]
     },
     "execution_count": 159,
     "metadata": {},
     "output_type": "execute_result"
    },
    {
     "data": {
      "image/png": "[encoded data removed]",
      "text/plain": [
       "<Figure size 640x480 with 1 Axes>"
      ]
     },
     "metadata": {},
     "output_type": "display_data"
    }
   ],
   "source": [
    "plt.plot(actuals_covid['Time'], actuals_covid['Load (kW)'])"
   ]
  },
  {
   "attachments": {},
   "cell_type": "markdown",
   "metadata": {},
   "source": [
    "Examining different days, it seems that load is highest around midday"
   ]
  },
  {
   "cell_type": "code",
   "execution_count": 160,
   "metadata": {
    "scrolled": false
   },
   "outputs": [
    {
     "data": {
      "text/plain": [
       "Text(0.5, 1.0, 'Electricity demand')"
      ]
     },
     "execution_count": 160,
     "metadata": {},
     "output_type": "execute_result"
    },
    {
     "data": {
      "image/png": "[encoded data removed]",
      "text/plain": [
       "<Figure size 1200x350 with 1 Axes>"
      ]
     },
     "metadata": {},
     "output_type": "display_data"
    }
   ],
   "source": [
    "# Zooming time series chart\n",
    "# ==============================================================================\n",
    "\n",
    "fig, ax = plt.subplots(figsize=(12, 3.5))\n",
    "\n",
    "\n",
    "data = actuals_covid[(actuals_covid['Time'] >= datetime(2021, 1, 1 , 0, 0, 0)) & (actuals_covid['Time'] <= datetime(2021, 1,7, 0, 0, 0))]\n",
    "\n",
    "ax.plot(data.Time, data['Load (kW)'])\n",
    "\n",
    "\n",
    "ax.set_title('Electricity demand')\n"
   ]
  },
  {
   "attachments": {},
   "cell_type": "markdown",
   "metadata": {},
   "source": [
    "### Detecting seasonalities:"
   ]
  },
  {
   "cell_type": "code",
   "execution_count": 161,
   "metadata": {},
   "outputs": [],
   "source": [
    "temp_df_post_covid = actuals_covid"
   ]
  },
  {
   "cell_type": "code",
   "execution_count": 162,
   "metadata": {},
   "outputs": [],
   "source": [
    "temp_df_post_covid['Year'] = [date.year for date in actuals_covid.Time]"
   ]
  },
  {
   "cell_type": "code",
   "execution_count": 163,
   "metadata": {},
   "outputs": [],
   "source": [
    "temp_df_post_covid['Month'] = [date.month for date in actuals_covid.Time]"
   ]
  },
  {
   "cell_type": "code",
   "execution_count": 164,
   "metadata": {},
   "outputs": [],
   "source": [
    "temp_df_post_covid['day'] = [date.day for date in actuals_covid.Time]"
   ]
  },
  {
   "cell_type": "code",
   "execution_count": 165,
   "metadata": {},
   "outputs": [],
   "source": [
    "temp_df_post_covid['hour'] = [date.hour for date in actuals_covid.Time]"
   ]
  },
  {
   "cell_type": "code",
   "execution_count": 166,
   "metadata": {},
   "outputs": [],
   "source": [
    "temp_df_post_covid['type_of_day'] = [date.weekday() + 1 for date in actuals_covid.Time]"
   ]
  },
  {
   "cell_type": "code",
   "execution_count": 167,
   "metadata": {},
   "outputs": [],
   "source": [
    "temp_df_post_covid.rename(columns={'year': 'Year', 'month': 'Month'}, inplace=True)"
   ]
  },
  {
   "cell_type": "code",
   "execution_count": 168,
   "metadata": {},
   "outputs": [
    {
     "data": {
      "text/html": [
       "<div>\n",
       "<style scoped>\n",
       "    .dataframe tbody tr th:only-of-type {\n",
       "        vertical-align: middle;\n",
       "    }\n",
       "\n",
       "    .dataframe tbody tr th {\n",
       "        vertical-align: top;\n",
       "    }\n",
       "\n",
       "    .dataframe thead th {\n",
       "        text-align: right;\n",
       "    }\n",
       "</style>\n",
       "<table border=\"1\" class=\"dataframe\">\n",
       "  <thead>\n",
       "    <tr style=\"text-align: right;\">\n",
       "      <th></th>\n",
       "      <th>Time</th>\n",
       "      <th>Load (kW)</th>\n",
       "      <th>Pressure_kpa</th>\n",
       "      <th>Cloud Cover (%)</th>\n",
       "      <th>Humidity (%)</th>\n",
       "      <th>Temperature (C)</th>\n",
       "      <th>Wind Direction (deg)</th>\n",
       "      <th>Wind Speed (kmh)</th>\n",
       "      <th>Year</th>\n",
       "      <th>Month</th>\n",
       "      <th>day</th>\n",
       "      <th>hour</th>\n",
       "      <th>type_of_day</th>\n",
       "    </tr>\n",
       "  </thead>\n",
       "  <tbody>\n",
       "    <tr>\n",
       "      <th>0</th>\n",
       "      <td>2020-11-06 00:00:00</td>\n",
       "      <td>1022463.93200</td>\n",
       "      <td>1011.00000</td>\n",
       "      <td>36.50000</td>\n",
       "      <td>71.58333</td>\n",
       "      <td>14.84939</td>\n",
       "      <td>313.12500</td>\n",
       "      <td>10.43125</td>\n",
       "      <td>2020</td>\n",
       "      <td>11</td>\n",
       "      <td>6</td>\n",
       "      <td>0</td>\n",
       "      <td>5</td>\n",
       "    </tr>\n",
       "    <tr>\n",
       "      <th>1</th>\n",
       "      <td>2020-11-06 01:00:00</td>\n",
       "      <td>1007171.43200</td>\n",
       "      <td>1010.50000</td>\n",
       "      <td>30.62500</td>\n",
       "      <td>73.33333</td>\n",
       "      <td>13.41439</td>\n",
       "      <td>57.87500</td>\n",
       "      <td>9.56375</td>\n",
       "      <td>2020</td>\n",
       "      <td>11</td>\n",
       "      <td>6</td>\n",
       "      <td>1</td>\n",
       "      <td>5</td>\n",
       "    </tr>\n",
       "    <tr>\n",
       "      <th>2</th>\n",
       "      <td>2020-11-06 02:00:00</td>\n",
       "      <td>994545.93200</td>\n",
       "      <td>1010.00000</td>\n",
       "      <td>43.37500</td>\n",
       "      <td>72.83333</td>\n",
       "      <td>12.93189</td>\n",
       "      <td>17.62500</td>\n",
       "      <td>4.87750</td>\n",
       "      <td>2020</td>\n",
       "      <td>11</td>\n",
       "      <td>6</td>\n",
       "      <td>2</td>\n",
       "      <td>5</td>\n",
       "    </tr>\n",
       "    <tr>\n",
       "      <th>3</th>\n",
       "      <td>2020-11-06 03:00:00</td>\n",
       "      <td>985150.43200</td>\n",
       "      <td>1009.73750</td>\n",
       "      <td>51.50000</td>\n",
       "      <td>72.66667</td>\n",
       "      <td>12.67689</td>\n",
       "      <td>24.87500</td>\n",
       "      <td>4.46750</td>\n",
       "      <td>2020</td>\n",
       "      <td>11</td>\n",
       "      <td>6</td>\n",
       "      <td>3</td>\n",
       "      <td>5</td>\n",
       "    </tr>\n",
       "    <tr>\n",
       "      <th>4</th>\n",
       "      <td>2020-11-06 04:00:00</td>\n",
       "      <td>983825.43200</td>\n",
       "      <td>1009.78750</td>\n",
       "      <td>54.25000</td>\n",
       "      <td>73.08333</td>\n",
       "      <td>12.31939</td>\n",
       "      <td>31.50000</td>\n",
       "      <td>4.51625</td>\n",
       "      <td>2020</td>\n",
       "      <td>11</td>\n",
       "      <td>6</td>\n",
       "      <td>4</td>\n",
       "      <td>5</td>\n",
       "    </tr>\n",
       "  </tbody>\n",
       "</table>\n",
       "</div>"
      ],
      "text/plain": [
       "                 Time     Load (kW)  Pressure_kpa  Cloud Cover (%)  \\\n",
       "0 2020-11-06 00:00:00 1022463.93200    1011.00000         36.50000   \n",
       "1 2020-11-06 01:00:00 1007171.43200    1010.50000         30.62500   \n",
       "2 2020-11-06 02:00:00  994545.93200    1010.00000         43.37500   \n",
       "3 2020-11-06 03:00:00  985150.43200    1009.73750         51.50000   \n",
       "4 2020-11-06 04:00:00  983825.43200    1009.78750         54.25000   \n",
       "\n",
       "   Humidity (%)  Temperature (C)   Wind Direction (deg)  Wind Speed (kmh)  \\\n",
       "0      71.58333          14.84939             313.12500          10.43125   \n",
       "1      73.33333          13.41439              57.87500           9.56375   \n",
       "2      72.83333          12.93189              17.62500           4.87750   \n",
       "3      72.66667          12.67689              24.87500           4.46750   \n",
       "4      73.08333          12.31939              31.50000           4.51625   \n",
       "\n",
       "   Year  Month  day  hour  type_of_day  \n",
       "0  2020     11    6     0            5  \n",
       "1  2020     11    6     1            5  \n",
       "2  2020     11    6     2            5  \n",
       "3  2020     11    6     3            5  \n",
       "4  2020     11    6     4            5  "
      ]
     },
     "execution_count": 168,
     "metadata": {},
     "output_type": "execute_result"
    }
   ],
   "source": [
    "temp_df_post_covid.head()"
   ]
  },
  {
   "cell_type": "code",
   "execution_count": 169,
   "metadata": {
    "scrolled": true
   },
   "outputs": [
    {
     "data": {
      "image/png": "[encoded data removed]",
      "text/plain": [
       "<Figure size 700x250 with 1 Axes>"
      ]
     },
     "metadata": {},
     "output_type": "display_data"
    }
   ],
   "source": [
    "# Boxplot for annual seasonality\n",
    "# ==============================================================================\n",
    "fig, ax = plt.subplots(figsize=(7, 2.5))\n",
    "temp_df_post_covid.boxplot(column='Load (kW)', by='Month', ax=ax,)\n",
    "temp_df_post_covid.groupby('Month')['Load (kW)'].median().plot(style='o-', linewidth=0.8, ax=ax)\n",
    "ax.set_ylabel('Load (kW)')\n",
    "ax.set_title('Load (kW) distribution by month')\n",
    "fig.suptitle('');"
   ]
  },
  {
   "cell_type": "code",
   "execution_count": 170,
   "metadata": {},
   "outputs": [
    {
     "data": {
      "image/png": "[encoded data removed]",
      "text/plain": [
       "<Figure size 700x250 with 1 Axes>"
      ]
     },
     "metadata": {},
     "output_type": "display_data"
    }
   ],
   "source": [
    "# Boxplot for daily seasonality\n",
    "# ==============================================================================\n",
    "fig, ax = plt.subplots(figsize=(7, 2.5))\n",
    "temp_df_post_covid.boxplot(column='Load (kW)', by='type_of_day', ax=ax,)\n",
    "temp_df_post_covid.groupby('type_of_day')['Load (kW)'].median().plot(style='o-', linewidth=0.8, ax=ax)\n",
    "ax.set_ylabel('Load (kW)')\n",
    "ax.set_title('Load (kW) distribution by type of day')\n",
    "fig.suptitle('');"
   ]
  },
  {
   "cell_type": "code",
   "execution_count": 171,
   "metadata": {},
   "outputs": [
    {
     "data": {
      "image/png": "[encoded data removed]",
      "text/plain": [
       "<Figure size 700x250 with 1 Axes>"
      ]
     },
     "metadata": {},
     "output_type": "display_data"
    }
   ],
   "source": [
    "# Boxplot for hourly seasonality\n",
    "# ==============================================================================\n",
    "fig, ax = plt.subplots(figsize=(7, 2.5))\n",
    "temp_df_post_covid.boxplot(column='Load (kW)', by='hour', ax=ax,)\n",
    "temp_df_post_covid.groupby('hour')['Load (kW)'].median().plot(style='o-', linewidth=0.8, ax=ax)\n",
    "ax.set_ylabel('Load (kW)')\n",
    "ax.set_title('Load (kW) distribution by hour')\n",
    "fig.suptitle('');"
   ]
  },
  {
   "attachments": {},
   "cell_type": "markdown",
   "metadata": {},
   "source": [
    "### Observing weather and electricity load"
   ]
  },
  {
   "cell_type": "code",
   "execution_count": 172,
   "metadata": {},
   "outputs": [],
   "source": [
    "import numpy as np"
   ]
  },
  {
   "cell_type": "code",
   "execution_count": 173,
   "metadata": {},
   "outputs": [],
   "source": [
    "weather_attr = [\"Load (kW)\", \"Pressure_kpa\", \"Cloud Cover (%)\", \"Humidity (%)\", \n",
    "                           \"Temperature (C) \", \"Wind Direction (deg)\", \"Wind Speed (kmh)\"]"
   ]
  },
  {
   "cell_type": "code",
   "execution_count": 174,
   "metadata": {},
   "outputs": [
    {
     "name": "stdout",
     "output_type": "stream",
     "text": [
      "Pre COVID:\n",
      " Pressure_kpa           -0.05001\n",
      "Cloud Cover (%)         0.01649\n",
      "Humidity (%)           -0.16828\n",
      "Temperature (C)         0.55730\n",
      "Wind Direction (deg)    0.32851\n",
      "Wind Speed (kmh)        0.45721\n",
      "Name: Load (kW), dtype: float64 \n",
      "\n",
      "Post COVID:\n",
      " Pressure_kpa            0.01886\n",
      "Cloud Cover (%)         0.02758\n",
      "Humidity (%)           -0.55643\n",
      "Temperature (C)         0.74317\n",
      "Wind Direction (deg)    0.40052\n",
      "Wind Speed (kmh)        0.46645\n",
      "Name: Load (kW), dtype: float64\n"
     ]
    }
   ],
   "source": [
    "actuals_weather = actuals[weather_attr]\n",
    "actuals_covid_weather = actuals_covid[weather_attr]\n",
    "\n",
    "weather_corr = actuals_weather.corr()['Load (kW)']\n",
    "weather_corr_covid = actuals_covid_weather.corr()['Load (kW)']\n",
    "\n",
    "print(\"Pre COVID:\\n\",weather_corr[1:], \"\\n\")\n",
    "print(\"Post COVID:\\n\",weather_corr_covid[1:])"
   ]
  },
  {
   "cell_type": "code",
   "execution_count": 175,
   "metadata": {},
   "outputs": [
    {
     "data": {
      "text/plain": [
       "<matplotlib.legend.Legend at 0x7fb4027ab9d0>"
      ]
     },
     "execution_count": 175,
     "metadata": {},
     "output_type": "execute_result"
    },
    {
     "data": {
      "image/png": "[encoded data removed]",
      "text/plain": [
       "<Figure size 1000x350 with 1 Axes>"
      ]
     },
     "metadata": {},
     "output_type": "display_data"
    }
   ],
   "source": [
    "fig = plt.figure(figsize=(10, 3.5))\n",
    "\n",
    "X_axis = np.arange(6)\n",
    "\n",
    "plt.bar(X_axis-0.15, weather_corr[1:], label = \"Pre\", width = 0.3)\n",
    "plt.bar(X_axis+0.15, weather_corr_covid[1:], label = \"Post\", width = 0.3)\n",
    "plt.axhline(0, color='grey', linewidth=\"0.5\")\n",
    "\n",
    "plt.xticks(X_axis, weather_attr[1:])\n",
    "plt.title(\"Correlation of Weather Attributes Pre and Post Covid\")\n",
    "plt.legend()\n"
   ]
  },
  {
   "cell_type": "code",
   "execution_count": 277,
   "metadata": {},
   "outputs": [
    {
     "data": {
      "text/html": [
       "<div>\n",
       "<style scoped>\n",
       "    .dataframe tbody tr th:only-of-type {\n",
       "        vertical-align: middle;\n",
       "    }\n",
       "\n",
       "    .dataframe tbody tr th {\n",
       "        vertical-align: top;\n",
       "    }\n",
       "\n",
       "    .dataframe thead th {\n",
       "        text-align: right;\n",
       "    }\n",
       "</style>\n",
       "<table border=\"1\" class=\"dataframe\">\n",
       "  <thead>\n",
       "    <tr style=\"text-align: right;\">\n",
       "      <th></th>\n",
       "      <th>Time</th>\n",
       "      <th>Load (kW)</th>\n",
       "      <th>Pressure_kpa</th>\n",
       "      <th>Cloud Cover (%)</th>\n",
       "      <th>Humidity (%)</th>\n",
       "      <th>Temperature (C)</th>\n",
       "      <th>Wind Direction (deg)</th>\n",
       "      <th>Wind Speed (kmh)</th>\n",
       "      <th>Month</th>\n",
       "      <th>Year</th>\n",
       "      <th>day</th>\n",
       "      <th>hour</th>\n",
       "      <th>type_of_day</th>\n",
       "    </tr>\n",
       "  </thead>\n",
       "  <tbody>\n",
       "    <tr>\n",
       "      <th>0</th>\n",
       "      <td>2017-03-18 00:00:00</td>\n",
       "      <td>1031471.62806</td>\n",
       "      <td>1012.48000</td>\n",
       "      <td>2.12500</td>\n",
       "      <td>79.33333</td>\n",
       "      <td>16.76439</td>\n",
       "      <td>285.25000</td>\n",
       "      <td>6.25375</td>\n",
       "      <td>3</td>\n",
       "      <td>2017</td>\n",
       "      <td>18</td>\n",
       "      <td>0</td>\n",
       "      <td>6</td>\n",
       "    </tr>\n",
       "    <tr>\n",
       "      <th>1</th>\n",
       "      <td>2017-03-18 01:00:00</td>\n",
       "      <td>1007205.57844</td>\n",
       "      <td>1011.61875</td>\n",
       "      <td>0.00000</td>\n",
       "      <td>82.16667</td>\n",
       "      <td>15.72939</td>\n",
       "      <td>285.00000</td>\n",
       "      <td>9.20500</td>\n",
       "      <td>3</td>\n",
       "      <td>2017</td>\n",
       "      <td>18</td>\n",
       "      <td>1</td>\n",
       "      <td>6</td>\n",
       "    </tr>\n",
       "    <tr>\n",
       "      <th>2</th>\n",
       "      <td>2017-03-18 02:00:00</td>\n",
       "      <td>986108.40072</td>\n",
       "      <td>1010.72000</td>\n",
       "      <td>2.12500</td>\n",
       "      <td>81.66667</td>\n",
       "      <td>15.81689</td>\n",
       "      <td>316.00000</td>\n",
       "      <td>11.28375</td>\n",
       "      <td>3</td>\n",
       "      <td>2017</td>\n",
       "      <td>18</td>\n",
       "      <td>2</td>\n",
       "      <td>6</td>\n",
       "    </tr>\n",
       "    <tr>\n",
       "      <th>3</th>\n",
       "      <td>2017-03-18 03:00:00</td>\n",
       "      <td>970760.96692</td>\n",
       "      <td>1011.37625</td>\n",
       "      <td>17.12500</td>\n",
       "      <td>82.25000</td>\n",
       "      <td>15.91939</td>\n",
       "      <td>327.00000</td>\n",
       "      <td>7.16875</td>\n",
       "      <td>3</td>\n",
       "      <td>2017</td>\n",
       "      <td>18</td>\n",
       "      <td>3</td>\n",
       "      <td>6</td>\n",
       "    </tr>\n",
       "    <tr>\n",
       "      <th>4</th>\n",
       "      <td>2017-03-18 04:00:00</td>\n",
       "      <td>962258.36502</td>\n",
       "      <td>1011.50000</td>\n",
       "      <td>18.62500</td>\n",
       "      <td>82.33333</td>\n",
       "      <td>15.76939</td>\n",
       "      <td>282.25000</td>\n",
       "      <td>0.78000</td>\n",
       "      <td>3</td>\n",
       "      <td>2017</td>\n",
       "      <td>18</td>\n",
       "      <td>4</td>\n",
       "      <td>6</td>\n",
       "    </tr>\n",
       "    <tr>\n",
       "      <th>...</th>\n",
       "      <td>...</td>\n",
       "      <td>...</td>\n",
       "      <td>...</td>\n",
       "      <td>...</td>\n",
       "      <td>...</td>\n",
       "      <td>...</td>\n",
       "      <td>...</td>\n",
       "      <td>...</td>\n",
       "      <td>...</td>\n",
       "      <td>...</td>\n",
       "      <td>...</td>\n",
       "      <td>...</td>\n",
       "      <td>...</td>\n",
       "    </tr>\n",
       "    <tr>\n",
       "      <th>31891</th>\n",
       "      <td>2020-11-05 19:00:00</td>\n",
       "      <td>1141299.02814</td>\n",
       "      <td>1010.35000</td>\n",
       "      <td>53.37500</td>\n",
       "      <td>69.33333</td>\n",
       "      <td>18.31939</td>\n",
       "      <td>342.00000</td>\n",
       "      <td>10.18625</td>\n",
       "      <td>11</td>\n",
       "      <td>2020</td>\n",
       "      <td>5</td>\n",
       "      <td>19</td>\n",
       "      <td>4</td>\n",
       "    </tr>\n",
       "    <tr>\n",
       "      <th>31892</th>\n",
       "      <td>2020-11-05 20:00:00</td>\n",
       "      <td>1112589.66414</td>\n",
       "      <td>1011.10000</td>\n",
       "      <td>36.87500</td>\n",
       "      <td>69.33333</td>\n",
       "      <td>17.81939</td>\n",
       "      <td>221.50000</td>\n",
       "      <td>8.77000</td>\n",
       "      <td>11</td>\n",
       "      <td>2020</td>\n",
       "      <td>5</td>\n",
       "      <td>20</td>\n",
       "      <td>4</td>\n",
       "    </tr>\n",
       "    <tr>\n",
       "      <th>31893</th>\n",
       "      <td>2020-11-05 21:00:00</td>\n",
       "      <td>1086038.13814</td>\n",
       "      <td>1011.56250</td>\n",
       "      <td>33.87500</td>\n",
       "      <td>69.33333</td>\n",
       "      <td>17.64189</td>\n",
       "      <td>5.12500</td>\n",
       "      <td>9.94125</td>\n",
       "      <td>11</td>\n",
       "      <td>2020</td>\n",
       "      <td>5</td>\n",
       "      <td>21</td>\n",
       "      <td>4</td>\n",
       "    </tr>\n",
       "    <tr>\n",
       "      <th>31894</th>\n",
       "      <td>2020-11-05 22:00:00</td>\n",
       "      <td>1062102.90214</td>\n",
       "      <td>1011.45000</td>\n",
       "      <td>58.62500</td>\n",
       "      <td>70.50000</td>\n",
       "      <td>16.49939</td>\n",
       "      <td>180.75000</td>\n",
       "      <td>10.16250</td>\n",
       "      <td>11</td>\n",
       "      <td>2020</td>\n",
       "      <td>5</td>\n",
       "      <td>22</td>\n",
       "      <td>4</td>\n",
       "    </tr>\n",
       "    <tr>\n",
       "      <th>31895</th>\n",
       "      <td>2020-11-05 23:00:00</td>\n",
       "      <td>1022583.90014</td>\n",
       "      <td>1011.38750</td>\n",
       "      <td>53.62500</td>\n",
       "      <td>71.83333</td>\n",
       "      <td>15.09689</td>\n",
       "      <td>15.87500</td>\n",
       "      <td>10.09375</td>\n",
       "      <td>11</td>\n",
       "      <td>2020</td>\n",
       "      <td>5</td>\n",
       "      <td>23</td>\n",
       "      <td>4</td>\n",
       "    </tr>\n",
       "  </tbody>\n",
       "</table>\n",
       "<p>31896 rows × 13 columns</p>\n",
       "</div>"
      ],
      "text/plain": [
       "                     Time     Load (kW)  Pressure_kpa  Cloud Cover (%)  \\\n",
       "0     2017-03-18 00:00:00 1031471.62806    1012.48000          2.12500   \n",
       "1     2017-03-18 01:00:00 1007205.57844    1011.61875          0.00000   \n",
       "2     2017-03-18 02:00:00  986108.40072    1010.72000          2.12500   \n",
       "3     2017-03-18 03:00:00  970760.96692    1011.37625         17.12500   \n",
       "4     2017-03-18 04:00:00  962258.36502    1011.50000         18.62500   \n",
       "...                   ...           ...           ...              ...   \n",
       "31891 2020-11-05 19:00:00 1141299.02814    1010.35000         53.37500   \n",
       "31892 2020-11-05 20:00:00 1112589.66414    1011.10000         36.87500   \n",
       "31893 2020-11-05 21:00:00 1086038.13814    1011.56250         33.87500   \n",
       "31894 2020-11-05 22:00:00 1062102.90214    1011.45000         58.62500   \n",
       "31895 2020-11-05 23:00:00 1022583.90014    1011.38750         53.62500   \n",
       "\n",
       "       Humidity (%)  Temperature (C)   Wind Direction (deg)  Wind Speed (kmh)  \\\n",
       "0          79.33333          16.76439             285.25000           6.25375   \n",
       "1          82.16667          15.72939             285.00000           9.20500   \n",
       "2          81.66667          15.81689             316.00000          11.28375   \n",
       "3          82.25000          15.91939             327.00000           7.16875   \n",
       "4          82.33333          15.76939             282.25000           0.78000   \n",
       "...             ...               ...                   ...               ...   \n",
       "31891      69.33333          18.31939             342.00000          10.18625   \n",
       "31892      69.33333          17.81939             221.50000           8.77000   \n",
       "31893      69.33333          17.64189               5.12500           9.94125   \n",
       "31894      70.50000          16.49939             180.75000          10.16250   \n",
       "31895      71.83333          15.09689              15.87500          10.09375   \n",
       "\n",
       "       Month  Year  day  hour  type_of_day  \n",
       "0          3  2017   18     0            6  \n",
       "1          3  2017   18     1            6  \n",
       "2          3  2017   18     2            6  \n",
       "3          3  2017   18     3            6  \n",
       "4          3  2017   18     4            6  \n",
       "...      ...   ...  ...   ...          ...  \n",
       "31891     11  2020    5    19            4  \n",
       "31892     11  2020    5    20            4  \n",
       "31893     11  2020    5    21            4  \n",
       "31894     11  2020    5    22            4  \n",
       "31895     11  2020    5    23            4  \n",
       "\n",
       "[31896 rows x 13 columns]"
      ]
     },
     "execution_count": 277,
     "metadata": {},
     "output_type": "execute_result"
    }
   ],
   "source": [
    "actuals[actuals['Time'] >= datetime(2017, 1, 1 , 0, 0, 0)]"
   ]
  },
  {
   "cell_type": "code",
   "execution_count": 281,
   "metadata": {},
   "outputs": [
    {
     "data": {
      "text/plain": [
       "<matplotlib.collections.PathCollection at 0x7fb413d9f9d0>"
      ]
     },
     "execution_count": 281,
     "metadata": {},
     "output_type": "execute_result"
    },
    {
     "data": {
      "image/png": "[encoded data removed]",
      "text/plain": [
       "<Figure size 640x480 with 1 Axes>"
      ]
     },
     "metadata": {},
     "output_type": "display_data"
    }
   ],
   "source": [
    "plt.scatter(actuals[actuals['Time'] >= datetime(2020, 10, 1 , 0, 0, 0)]['Temperature (C) '], actuals[actuals['Time'] >= datetime(2020, 10, 1 , 0, 0, 0)]['Load (kW)'])\n"
   ]
  },
  {
   "cell_type": "code",
   "execution_count": 267,
   "metadata": {},
   "outputs": [
    {
     "data": {
      "text/html": [
       "<div>\n",
       "<style scoped>\n",
       "    .dataframe tbody tr th:only-of-type {\n",
       "        vertical-align: middle;\n",
       "    }\n",
       "\n",
       "    .dataframe tbody tr th {\n",
       "        vertical-align: top;\n",
       "    }\n",
       "\n",
       "    .dataframe thead th {\n",
       "        text-align: right;\n",
       "    }\n",
       "</style>\n",
       "<table border=\"1\" class=\"dataframe\">\n",
       "  <thead>\n",
       "    <tr style=\"text-align: right;\">\n",
       "      <th></th>\n",
       "      <th>Time</th>\n",
       "      <th>Load (kW)</th>\n",
       "      <th>Pressure_kpa</th>\n",
       "      <th>Cloud Cover (%)</th>\n",
       "      <th>Humidity (%)</th>\n",
       "      <th>Temperature (C)</th>\n",
       "      <th>Wind Direction (deg)</th>\n",
       "      <th>Wind Speed (kmh)</th>\n",
       "      <th>Month</th>\n",
       "      <th>Year</th>\n",
       "      <th>day</th>\n",
       "      <th>hour</th>\n",
       "      <th>type_of_day</th>\n",
       "    </tr>\n",
       "  </thead>\n",
       "  <tbody>\n",
       "    <tr>\n",
       "      <th>0</th>\n",
       "      <td>2017-03-18 00:00:00</td>\n",
       "      <td>1031471.62806</td>\n",
       "      <td>1012.48000</td>\n",
       "      <td>2.12500</td>\n",
       "      <td>79.33333</td>\n",
       "      <td>16.76439</td>\n",
       "      <td>285.25000</td>\n",
       "      <td>6.25375</td>\n",
       "      <td>3</td>\n",
       "      <td>2017</td>\n",
       "      <td>18</td>\n",
       "      <td>0</td>\n",
       "      <td>6</td>\n",
       "    </tr>\n",
       "    <tr>\n",
       "      <th>1</th>\n",
       "      <td>2017-03-18 01:00:00</td>\n",
       "      <td>1007205.57844</td>\n",
       "      <td>1011.61875</td>\n",
       "      <td>0.00000</td>\n",
       "      <td>82.16667</td>\n",
       "      <td>15.72939</td>\n",
       "      <td>285.00000</td>\n",
       "      <td>9.20500</td>\n",
       "      <td>3</td>\n",
       "      <td>2017</td>\n",
       "      <td>18</td>\n",
       "      <td>1</td>\n",
       "      <td>6</td>\n",
       "    </tr>\n",
       "    <tr>\n",
       "      <th>2</th>\n",
       "      <td>2017-03-18 02:00:00</td>\n",
       "      <td>986108.40072</td>\n",
       "      <td>1010.72000</td>\n",
       "      <td>2.12500</td>\n",
       "      <td>81.66667</td>\n",
       "      <td>15.81689</td>\n",
       "      <td>316.00000</td>\n",
       "      <td>11.28375</td>\n",
       "      <td>3</td>\n",
       "      <td>2017</td>\n",
       "      <td>18</td>\n",
       "      <td>2</td>\n",
       "      <td>6</td>\n",
       "    </tr>\n",
       "    <tr>\n",
       "      <th>3</th>\n",
       "      <td>2017-03-18 03:00:00</td>\n",
       "      <td>970760.96692</td>\n",
       "      <td>1011.37625</td>\n",
       "      <td>17.12500</td>\n",
       "      <td>82.25000</td>\n",
       "      <td>15.91939</td>\n",
       "      <td>327.00000</td>\n",
       "      <td>7.16875</td>\n",
       "      <td>3</td>\n",
       "      <td>2017</td>\n",
       "      <td>18</td>\n",
       "      <td>3</td>\n",
       "      <td>6</td>\n",
       "    </tr>\n",
       "    <tr>\n",
       "      <th>4</th>\n",
       "      <td>2017-03-18 04:00:00</td>\n",
       "      <td>962258.36502</td>\n",
       "      <td>1011.50000</td>\n",
       "      <td>18.62500</td>\n",
       "      <td>82.33333</td>\n",
       "      <td>15.76939</td>\n",
       "      <td>282.25000</td>\n",
       "      <td>0.78000</td>\n",
       "      <td>3</td>\n",
       "      <td>2017</td>\n",
       "      <td>18</td>\n",
       "      <td>4</td>\n",
       "      <td>6</td>\n",
       "    </tr>\n",
       "    <tr>\n",
       "      <th>...</th>\n",
       "      <td>...</td>\n",
       "      <td>...</td>\n",
       "      <td>...</td>\n",
       "      <td>...</td>\n",
       "      <td>...</td>\n",
       "      <td>...</td>\n",
       "      <td>...</td>\n",
       "      <td>...</td>\n",
       "      <td>...</td>\n",
       "      <td>...</td>\n",
       "      <td>...</td>\n",
       "      <td>...</td>\n",
       "      <td>...</td>\n",
       "    </tr>\n",
       "    <tr>\n",
       "      <th>31891</th>\n",
       "      <td>2020-11-05 19:00:00</td>\n",
       "      <td>1141299.02814</td>\n",
       "      <td>1010.35000</td>\n",
       "      <td>53.37500</td>\n",
       "      <td>69.33333</td>\n",
       "      <td>18.31939</td>\n",
       "      <td>342.00000</td>\n",
       "      <td>10.18625</td>\n",
       "      <td>11</td>\n",
       "      <td>2020</td>\n",
       "      <td>5</td>\n",
       "      <td>19</td>\n",
       "      <td>4</td>\n",
       "    </tr>\n",
       "    <tr>\n",
       "      <th>31892</th>\n",
       "      <td>2020-11-05 20:00:00</td>\n",
       "      <td>1112589.66414</td>\n",
       "      <td>1011.10000</td>\n",
       "      <td>36.87500</td>\n",
       "      <td>69.33333</td>\n",
       "      <td>17.81939</td>\n",
       "      <td>221.50000</td>\n",
       "      <td>8.77000</td>\n",
       "      <td>11</td>\n",
       "      <td>2020</td>\n",
       "      <td>5</td>\n",
       "      <td>20</td>\n",
       "      <td>4</td>\n",
       "    </tr>\n",
       "    <tr>\n",
       "      <th>31893</th>\n",
       "      <td>2020-11-05 21:00:00</td>\n",
       "      <td>1086038.13814</td>\n",
       "      <td>1011.56250</td>\n",
       "      <td>33.87500</td>\n",
       "      <td>69.33333</td>\n",
       "      <td>17.64189</td>\n",
       "      <td>5.12500</td>\n",
       "      <td>9.94125</td>\n",
       "      <td>11</td>\n",
       "      <td>2020</td>\n",
       "      <td>5</td>\n",
       "      <td>21</td>\n",
       "      <td>4</td>\n",
       "    </tr>\n",
       "    <tr>\n",
       "      <th>31894</th>\n",
       "      <td>2020-11-05 22:00:00</td>\n",
       "      <td>1062102.90214</td>\n",
       "      <td>1011.45000</td>\n",
       "      <td>58.62500</td>\n",
       "      <td>70.50000</td>\n",
       "      <td>16.49939</td>\n",
       "      <td>180.75000</td>\n",
       "      <td>10.16250</td>\n",
       "      <td>11</td>\n",
       "      <td>2020</td>\n",
       "      <td>5</td>\n",
       "      <td>22</td>\n",
       "      <td>4</td>\n",
       "    </tr>\n",
       "    <tr>\n",
       "      <th>31895</th>\n",
       "      <td>2020-11-05 23:00:00</td>\n",
       "      <td>1022583.90014</td>\n",
       "      <td>1011.38750</td>\n",
       "      <td>53.62500</td>\n",
       "      <td>71.83333</td>\n",
       "      <td>15.09689</td>\n",
       "      <td>15.87500</td>\n",
       "      <td>10.09375</td>\n",
       "      <td>11</td>\n",
       "      <td>2020</td>\n",
       "      <td>5</td>\n",
       "      <td>23</td>\n",
       "      <td>4</td>\n",
       "    </tr>\n",
       "  </tbody>\n",
       "</table>\n",
       "<p>31896 rows × 13 columns</p>\n",
       "</div>"
      ],
      "text/plain": [
       "                     Time     Load (kW)  Pressure_kpa  Cloud Cover (%)  \\\n",
       "0     2017-03-18 00:00:00 1031471.62806    1012.48000          2.12500   \n",
       "1     2017-03-18 01:00:00 1007205.57844    1011.61875          0.00000   \n",
       "2     2017-03-18 02:00:00  986108.40072    1010.72000          2.12500   \n",
       "3     2017-03-18 03:00:00  970760.96692    1011.37625         17.12500   \n",
       "4     2017-03-18 04:00:00  962258.36502    1011.50000         18.62500   \n",
       "...                   ...           ...           ...              ...   \n",
       "31891 2020-11-05 19:00:00 1141299.02814    1010.35000         53.37500   \n",
       "31892 2020-11-05 20:00:00 1112589.66414    1011.10000         36.87500   \n",
       "31893 2020-11-05 21:00:00 1086038.13814    1011.56250         33.87500   \n",
       "31894 2020-11-05 22:00:00 1062102.90214    1011.45000         58.62500   \n",
       "31895 2020-11-05 23:00:00 1022583.90014    1011.38750         53.62500   \n",
       "\n",
       "       Humidity (%)  Temperature (C)   Wind Direction (deg)  Wind Speed (kmh)  \\\n",
       "0          79.33333          16.76439             285.25000           6.25375   \n",
       "1          82.16667          15.72939             285.00000           9.20500   \n",
       "2          81.66667          15.81689             316.00000          11.28375   \n",
       "3          82.25000          15.91939             327.00000           7.16875   \n",
       "4          82.33333          15.76939             282.25000           0.78000   \n",
       "...             ...               ...                   ...               ...   \n",
       "31891      69.33333          18.31939             342.00000          10.18625   \n",
       "31892      69.33333          17.81939             221.50000           8.77000   \n",
       "31893      69.33333          17.64189               5.12500           9.94125   \n",
       "31894      70.50000          16.49939             180.75000          10.16250   \n",
       "31895      71.83333          15.09689              15.87500          10.09375   \n",
       "\n",
       "       Month  Year  day  hour  type_of_day  \n",
       "0          3  2017   18     0            6  \n",
       "1          3  2017   18     1            6  \n",
       "2          3  2017   18     2            6  \n",
       "3          3  2017   18     3            6  \n",
       "4          3  2017   18     4            6  \n",
       "...      ...   ...  ...   ...          ...  \n",
       "31891     11  2020    5    19            4  \n",
       "31892     11  2020    5    20            4  \n",
       "31893     11  2020    5    21            4  \n",
       "31894     11  2020    5    22            4  \n",
       "31895     11  2020    5    23            4  \n",
       "\n",
       "[31896 rows x 13 columns]"
      ]
     },
     "execution_count": 267,
     "metadata": {},
     "output_type": "execute_result"
    }
   ],
   "source": [
    "actuals"
   ]
  },
  {
   "attachments": {},
   "cell_type": "markdown",
   "metadata": {},
   "source": [
    "### Comparing pre and post COVID:"
   ]
  },
  {
   "cell_type": "code",
   "execution_count": 176,
   "metadata": {
    "scrolled": false
   },
   "outputs": [
    {
     "data": {
      "image/png": "[encoded data removed]",
      "text/plain": [
       "<Figure size 1200x350 with 1 Axes>"
      ]
     },
     "metadata": {},
     "output_type": "display_data"
    }
   ],
   "source": [
    "fig, ax = plt.subplots(figsize=(12, 3.5))\n",
    "\n",
    "ax.plot(actuals['Time'], actuals['Load (kW)'], label='pre-COVID')\n",
    "ax.plot(actuals_covid['Time'], actuals_covid['Load (kW)'], label='post-COVID')\n",
    "\n",
    "ax.set_title('Electricity demand')\n",
    "ax.legend();"
   ]
  },
  {
   "attachments": {},
   "cell_type": "markdown",
   "metadata": {},
   "source": [
    "## Forecast data post COVID:"
   ]
  },
  {
   "cell_type": "code",
   "execution_count": 177,
   "metadata": {},
   "outputs": [],
   "source": [
    "forecast_covid = pd.read_csv(\"Train/Forecasts_part2.csv\", parse_dates=True)"
   ]
  },
  {
   "cell_type": "code",
   "execution_count": 178,
   "metadata": {},
   "outputs": [
    {
     "data": {
      "text/html": [
       "<div>\n",
       "<style scoped>\n",
       "    .dataframe tbody tr th:only-of-type {\n",
       "        vertical-align: middle;\n",
       "    }\n",
       "\n",
       "    .dataframe tbody tr th {\n",
       "        vertical-align: top;\n",
       "    }\n",
       "\n",
       "    .dataframe thead th {\n",
       "        text-align: right;\n",
       "    }\n",
       "</style>\n",
       "<table border=\"1\" class=\"dataframe\">\n",
       "  <thead>\n",
       "    <tr style=\"text-align: right;\">\n",
       "      <th></th>\n",
       "      <th>Temperature (C)</th>\n",
       "      <th>Pressure_kpa</th>\n",
       "      <th>Cloud Cover (%)</th>\n",
       "      <th>Wind Direction (deg)</th>\n",
       "      <th>Wind Speed (kmh)</th>\n",
       "      <th>Time</th>\n",
       "    </tr>\n",
       "  </thead>\n",
       "  <tbody>\n",
       "    <tr>\n",
       "      <th>0</th>\n",
       "      <td>15.72189</td>\n",
       "      <td>1011.00000</td>\n",
       "      <td>20.00000</td>\n",
       "      <td>13.00000</td>\n",
       "      <td>12.00000</td>\n",
       "      <td>6/11/2020 0:00</td>\n",
       "    </tr>\n",
       "    <tr>\n",
       "      <th>1</th>\n",
       "      <td>15.72189</td>\n",
       "      <td>1011.00000</td>\n",
       "      <td>22.00000</td>\n",
       "      <td>14.00000</td>\n",
       "      <td>12.00000</td>\n",
       "      <td>6/11/2020 1:00</td>\n",
       "    </tr>\n",
       "    <tr>\n",
       "      <th>2</th>\n",
       "      <td>15.72189</td>\n",
       "      <td>1011.00000</td>\n",
       "      <td>24.00000</td>\n",
       "      <td>15.00000</td>\n",
       "      <td>12.00000</td>\n",
       "      <td>6/11/2020 2:00</td>\n",
       "    </tr>\n",
       "    <tr>\n",
       "      <th>3</th>\n",
       "      <td>15.72189</td>\n",
       "      <td>1010.00000</td>\n",
       "      <td>25.00000</td>\n",
       "      <td>16.00000</td>\n",
       "      <td>11.00000</td>\n",
       "      <td>6/11/2020 3:00</td>\n",
       "    </tr>\n",
       "    <tr>\n",
       "      <th>4</th>\n",
       "      <td>15.72189</td>\n",
       "      <td>1010.00000</td>\n",
       "      <td>26.00000</td>\n",
       "      <td>17.00000</td>\n",
       "      <td>11.00000</td>\n",
       "      <td>6/11/2020 4:00</td>\n",
       "    </tr>\n",
       "  </tbody>\n",
       "</table>\n",
       "</div>"
      ],
      "text/plain": [
       "   Temperature (C)   Pressure_kpa  Cloud Cover (%)  Wind Direction (deg)  \\\n",
       "0          15.72189    1011.00000         20.00000              13.00000   \n",
       "1          15.72189    1011.00000         22.00000              14.00000   \n",
       "2          15.72189    1011.00000         24.00000              15.00000   \n",
       "3          15.72189    1010.00000         25.00000              16.00000   \n",
       "4          15.72189    1010.00000         26.00000              17.00000   \n",
       "\n",
       "   Wind Speed (kmh)            Time  \n",
       "0          12.00000  6/11/2020 0:00  \n",
       "1          12.00000  6/11/2020 1:00  \n",
       "2          12.00000  6/11/2020 2:00  \n",
       "3          11.00000  6/11/2020 3:00  \n",
       "4          11.00000  6/11/2020 4:00  "
      ]
     },
     "execution_count": 178,
     "metadata": {},
     "output_type": "execute_result"
    }
   ],
   "source": [
    "forecast_covid.head()"
   ]
  },
  {
   "cell_type": "code",
   "execution_count": 179,
   "metadata": {},
   "outputs": [
    {
     "data": {
      "text/plain": [
       "Temperature (C)         float64\n",
       "Pressure_kpa            float64\n",
       "Cloud Cover (%)         float64\n",
       "Wind Direction (deg)    float64\n",
       "Wind Speed (kmh)        float64\n",
       "Time                     object\n",
       "dtype: object"
      ]
     },
     "execution_count": 179,
     "metadata": {},
     "output_type": "execute_result"
    }
   ],
   "source": [
    "forecast_covid.dtypes"
   ]
  },
  {
   "attachments": {},
   "cell_type": "markdown",
   "metadata": {},
   "source": [
    "Convert Time to datetime"
   ]
  },
  {
   "cell_type": "code",
   "execution_count": 180,
   "metadata": {},
   "outputs": [],
   "source": [
    "forecast_covid['Time'] = pd.to_datetime(forecast_covid['Time'], dayfirst = True)"
   ]
  },
  {
   "cell_type": "code",
   "execution_count": 181,
   "metadata": {},
   "outputs": [
    {
     "data": {
      "text/html": [
       "<div>\n",
       "<style scoped>\n",
       "    .dataframe tbody tr th:only-of-type {\n",
       "        vertical-align: middle;\n",
       "    }\n",
       "\n",
       "    .dataframe tbody tr th {\n",
       "        vertical-align: top;\n",
       "    }\n",
       "\n",
       "    .dataframe thead th {\n",
       "        text-align: right;\n",
       "    }\n",
       "</style>\n",
       "<table border=\"1\" class=\"dataframe\">\n",
       "  <thead>\n",
       "    <tr style=\"text-align: right;\">\n",
       "      <th></th>\n",
       "      <th>Temperature (C)</th>\n",
       "      <th>Pressure_kpa</th>\n",
       "      <th>Cloud Cover (%)</th>\n",
       "      <th>Wind Direction (deg)</th>\n",
       "      <th>Wind Speed (kmh)</th>\n",
       "      <th>Time</th>\n",
       "    </tr>\n",
       "  </thead>\n",
       "  <tbody>\n",
       "    <tr>\n",
       "      <th>0</th>\n",
       "      <td>15.72189</td>\n",
       "      <td>1011.00000</td>\n",
       "      <td>20.00000</td>\n",
       "      <td>13.00000</td>\n",
       "      <td>12.00000</td>\n",
       "      <td>2020-11-06 00:00:00</td>\n",
       "    </tr>\n",
       "    <tr>\n",
       "      <th>1</th>\n",
       "      <td>15.72189</td>\n",
       "      <td>1011.00000</td>\n",
       "      <td>22.00000</td>\n",
       "      <td>14.00000</td>\n",
       "      <td>12.00000</td>\n",
       "      <td>2020-11-06 01:00:00</td>\n",
       "    </tr>\n",
       "    <tr>\n",
       "      <th>2</th>\n",
       "      <td>15.72189</td>\n",
       "      <td>1011.00000</td>\n",
       "      <td>24.00000</td>\n",
       "      <td>15.00000</td>\n",
       "      <td>12.00000</td>\n",
       "      <td>2020-11-06 02:00:00</td>\n",
       "    </tr>\n",
       "    <tr>\n",
       "      <th>3</th>\n",
       "      <td>15.72189</td>\n",
       "      <td>1010.00000</td>\n",
       "      <td>25.00000</td>\n",
       "      <td>16.00000</td>\n",
       "      <td>11.00000</td>\n",
       "      <td>2020-11-06 03:00:00</td>\n",
       "    </tr>\n",
       "    <tr>\n",
       "      <th>4</th>\n",
       "      <td>15.72189</td>\n",
       "      <td>1010.00000</td>\n",
       "      <td>26.00000</td>\n",
       "      <td>17.00000</td>\n",
       "      <td>11.00000</td>\n",
       "      <td>2020-11-06 04:00:00</td>\n",
       "    </tr>\n",
       "  </tbody>\n",
       "</table>\n",
       "</div>"
      ],
      "text/plain": [
       "   Temperature (C)   Pressure_kpa  Cloud Cover (%)  Wind Direction (deg)  \\\n",
       "0          15.72189    1011.00000         20.00000              13.00000   \n",
       "1          15.72189    1011.00000         22.00000              14.00000   \n",
       "2          15.72189    1011.00000         24.00000              15.00000   \n",
       "3          15.72189    1010.00000         25.00000              16.00000   \n",
       "4          15.72189    1010.00000         26.00000              17.00000   \n",
       "\n",
       "   Wind Speed (kmh)                Time  \n",
       "0          12.00000 2020-11-06 00:00:00  \n",
       "1          12.00000 2020-11-06 01:00:00  \n",
       "2          12.00000 2020-11-06 02:00:00  \n",
       "3          11.00000 2020-11-06 03:00:00  \n",
       "4          11.00000 2020-11-06 04:00:00  "
      ]
     },
     "execution_count": 181,
     "metadata": {},
     "output_type": "execute_result"
    }
   ],
   "source": [
    "forecast_covid.head()"
   ]
  },
  {
   "attachments": {},
   "cell_type": "markdown",
   "metadata": {},
   "source": [
    "### Forecast data Pre COVID "
   ]
  },
  {
   "cell_type": "code",
   "execution_count": 182,
   "metadata": {},
   "outputs": [],
   "source": [
    "cloudcover = pd.read_excel(\"Train/Forecasts_part1/Cloudcover_percent.xlsx\", parse_dates=True)\n",
    "pressure = pd.read_excel(\"Train/Forecasts_part1/Pressure_kpa.xlsx\", parse_dates=True)\n",
    "temp = pd.read_excel(\"Train/Forecasts_part1/Temperature_Celcius.xlsx\", parse_dates=True)\n",
    "winddir = pd.read_excel(\"Train/Forecasts_part1/Winddirection_degree.xlsx\", parse_dates=True)\n",
    "windsp = pd.read_excel(\"Train/Forecasts_part1/Windspeed_kmh.xlsx\", parse_dates=True)\n"
   ]
  },
  {
   "cell_type": "code",
   "execution_count": 183,
   "metadata": {},
   "outputs": [],
   "source": [
    "temp_fc = pd.merge(cloudcover,pressure, on=\"Time\")\n",
    "temp_fc = pd.merge(temp_fc,temp, on=\"Time\")\n",
    "temp_fc = pd.merge(temp_fc,winddir, on=\"Time\")\n",
    "temp_fc = pd.merge(temp_fc,windsp, on=\"Time\")"
   ]
  },
  {
   "cell_type": "code",
   "execution_count": 184,
   "metadata": {},
   "outputs": [],
   "source": [
    "temp_fc = temp_fc[[\"Time\", \"Cloud Cover (%)\", \"Pressure (kpa)\", \"Temperature (C)\", \n",
    "                   \"Wind Direction (deg)\", \"Wind Speed (kmh)\"]]\n",
    "\n",
    "forecast_precovid = temp_fc"
   ]
  },
  {
   "attachments": {},
   "cell_type": "markdown",
   "metadata": {},
   "source": [
    "#### just wanna try splitting the data into pre and post covid by 03/2020"
   ]
  },
  {
   "attachments": {},
   "cell_type": "markdown",
   "metadata": {},
   "source": [
    "Actuals"
   ]
  },
  {
   "cell_type": "code",
   "execution_count": 185,
   "metadata": {},
   "outputs": [],
   "source": [
    "ac_precovid = actuals.loc[(actuals[\"Time\"] < '2020-03-01')]\n",
    "\n",
    "temp_ac_postcovid = actuals.loc[(actuals[\"Time\"] >= '2020-03-01')]\n",
    "ac_postcovid = pd.concat([temp_ac_postcovid, actuals_covid])"
   ]
  },
  {
   "attachments": {},
   "cell_type": "markdown",
   "metadata": {},
   "source": [
    "Forecast"
   ]
  },
  {
   "cell_type": "code",
   "execution_count": 186,
   "metadata": {},
   "outputs": [],
   "source": [
    "fc = forecasts  #precovid\n",
    "fcc = forecast_covid  #post covid"
   ]
  },
  {
   "cell_type": "code",
   "execution_count": 187,
   "metadata": {},
   "outputs": [],
   "source": [
    "fcc = fcc.rename(columns={'Pressure_kpa':\"Pressure (kpa)\",\n",
    "                    'Temperature (C) ':'Temperature (C)'})"
   ]
  },
  {
   "cell_type": "code",
   "execution_count": 188,
   "metadata": {},
   "outputs": [],
   "source": [
    "## note: using 2020-11-06 - 2020-11-16 data from forecast_covid, not forecasts\n",
    "## i'll deal with it later \n",
    "fc_precovid = fc.loc[(forecasts[\"Time\"] < '2020-03-01')]\n",
    "\n",
    "temp_fc_postcovid = fc.loc[(forecasts[\"Time\"] >= '2020-03-01') & (forecasts[\"Time\"] <= '2020-11-06')]\n",
    "fc_postcovid = pd.concat([temp_fc_postcovid, fcc])\n"
   ]
  },
  {
   "cell_type": "code",
   "execution_count": 189,
   "metadata": {},
   "outputs": [],
   "source": [
    "fc_postcovid = fc_postcovid.dropna()"
   ]
  },
  {
   "cell_type": "code",
   "execution_count": 190,
   "metadata": {},
   "outputs": [
    {
     "data": {
      "image/png": "[encoded data removed]",
      "text/plain": [
       "<Figure size 1200x350 with 1 Axes>"
      ]
     },
     "metadata": {},
     "output_type": "display_data"
    }
   ],
   "source": [
    "fig, ax = plt.subplots(figsize=(12, 3.5))\n",
    "\n",
    "ax.plot(ac_precovid['Time'], ac_precovid['Load (kW)'], label='pre-COVID')\n",
    "ax.plot(ac_postcovid['Time'], ac_postcovid['Load (kW)'], label='post-COVID')\n",
    "\n",
    "#closer comparison to 2019 and 2020 -- uncomment to see\n",
    "# plt.xlim([datetime(2019,1,1,0,0,0), datetime(2021,1,1,0,0,0)])\n",
    "\n",
    "ax.set_title('Electricity demand')\n",
    "ax.legend();"
   ]
  },
  {
   "cell_type": "code",
   "execution_count": 191,
   "metadata": {},
   "outputs": [
    {
     "name": "stdout",
     "output_type": "stream",
     "text": [
      "Pre COVID:\n",
      " Pressure_kpa           -0.15892\n",
      "Cloud Cover (%)         0.09324\n",
      "Humidity (%)           -0.08734\n",
      "Temperature (C)         0.61360\n",
      "Wind Direction (deg)    0.35525\n",
      "Wind Speed (kmh)        0.51452\n",
      "Name: Load (kW), dtype: float64 \n",
      "\n",
      "Post COVID:\n",
      " Pressure_kpa            0.13879\n",
      "Cloud Cover (%)        -0.09119\n",
      "Humidity (%)           -0.42119\n",
      "Temperature (C)         0.47652\n",
      "Wind Direction (deg)    0.24518\n",
      "Wind Speed (kmh)        0.19283\n",
      "Name: Load (kW), dtype: float64\n"
     ]
    }
   ],
   "source": [
    "actuals_weather = ac_precovid[weather_attr]\n",
    "actuals_covid_weather = ac_postcovid[weather_attr]\n",
    "\n",
    "weather_corr = actuals_weather.corr()['Load (kW)']\n",
    "weather_corr_covid = actuals_covid_weather.corr()['Load (kW)']\n",
    "\n",
    "print(\"Pre COVID:\\n\",weather_corr[1:], \"\\n\")\n",
    "print(\"Post COVID:\\n\",weather_corr_covid[1:])"
   ]
  },
  {
   "cell_type": "code",
   "execution_count": 192,
   "metadata": {},
   "outputs": [
    {
     "data": {
      "text/plain": [
       "<matplotlib.legend.Legend at 0x7fb3f67eef40>"
      ]
     },
     "execution_count": 192,
     "metadata": {},
     "output_type": "execute_result"
    },
    {
     "data": {
      "image/png": "[encoded data removed]",
      "text/plain": [
       "<Figure size 1000x350 with 1 Axes>"
      ]
     },
     "metadata": {},
     "output_type": "display_data"
    }
   ],
   "source": [
    "fig = plt.figure(figsize=(10, 3.5))\n",
    "\n",
    "X_axis = np.arange(6)\n",
    "\n",
    "plt.bar(X_axis-0.15, weather_corr[1:], label = \"Pre\", width = 0.3)\n",
    "plt.bar(X_axis+0.15, weather_corr_covid[1:], label = \"Post\", width = 0.3)\n",
    "plt.axhline(0, color='grey', linewidth=\"0.5\")\n",
    "\n",
    "plt.xticks(X_axis, weather_attr[1:])\n",
    "plt.title(\"Correlation of Weather Attributes Pre and Post Covid\")\n",
    "plt.legend()"
   ]
  },
  {
   "attachments": {},
   "cell_type": "markdown",
   "metadata": {},
   "source": [
    "#### Testing the accuracy of the forecasted weather data:\n",
    "\n",
    "error metrics we chose:\n",
    "\n",
    "MAE\n",
    "RMSE\n",
    "\n",
    "can't use MAPE bc our actual values have 0 :-)"
   ]
  },
  {
   "cell_type": "code",
   "execution_count": 193,
   "metadata": {},
   "outputs": [],
   "source": [
    "# using MAE\n",
    "\n",
    "# uncomment to install scikit-learn and comment again when done\n",
    "# !pip install scikit-learn"
   ]
  },
  {
   "cell_type": "code",
   "execution_count": 194,
   "metadata": {},
   "outputs": [],
   "source": [
    "from sklearn.metrics import mean_absolute_error as mae"
   ]
  },
  {
   "cell_type": "code",
   "execution_count": 195,
   "metadata": {},
   "outputs": [
    {
     "name": "stdout",
     "output_type": "stream",
     "text": [
      "Index(['Time', 'Load (kW)', 'Pressure_kpa', 'Cloud Cover (%)', 'Humidity (%)',\n",
      "       'Temperature (C) ', 'Wind Direction (deg)', 'Wind Speed (kmh)', 'Month',\n",
      "       'Year', 'day', 'hour', 'type_of_day'],\n",
      "      dtype='object')\n",
      "Index(['Cloud Cover (%)', 'Time', 'Pressure (kpa)', 'Temperature (C)',\n",
      "       'Wind Direction (deg)', 'Wind Speed (kmh)'],\n",
      "      dtype='object')\n"
     ]
    }
   ],
   "source": [
    "print(ac_precovid.columns)\n",
    "print(fc_precovid.columns)"
   ]
  },
  {
   "attachments": {},
   "cell_type": "markdown",
   "metadata": {},
   "source": [
    "Pre-Covid Weather Forecast Accuracy"
   ]
  },
  {
   "cell_type": "code",
   "execution_count": 196,
   "metadata": {},
   "outputs": [
    {
     "name": "stdout",
     "output_type": "stream",
     "text": [
      "MAE of Pressure: 1.053 %\n",
      "MAE of Cloud Cover: 18.231 %\n",
      "MAE of Temperature: 2.895 %\n",
      "MAE of Wind Direction: 48.124 %\n",
      "MAE of Wind Speed: 4.568 %\n"
     ]
    }
   ],
   "source": [
    "print(\"MAE of Pressure:\", \n",
    "        round(mae(ac_precovid[\"Pressure_kpa\"], \n",
    "        fc_precovid[\"Pressure (kpa)\"]),3), \n",
    "        \"%\")\n",
    "\n",
    "print(\"MAE of Cloud Cover:\", \n",
    "        round(mae(ac_precovid[\"Cloud Cover (%)\"], \n",
    "        fc_precovid[\"Cloud Cover (%)\"]),3), \n",
    "        \"%\")\n",
    "\n",
    "print(\"MAE of Temperature:\", \n",
    "        round(mae(ac_precovid[\"Temperature (C) \"], \n",
    "        fc_precovid[\"Temperature (C)\"]),3), \n",
    "        \"%\")\n",
    "\n",
    "print(\"MAE of Wind Direction:\", \n",
    "        round(mae(ac_precovid[\"Wind Direction (deg)\"], \n",
    "        fc_precovid[\"Wind Direction (deg)\"]),3), \n",
    "        \"%\")\n",
    "        \n",
    "print(\"MAE of Wind Speed:\", \n",
    "        round(mae(ac_precovid[\"Wind Speed (kmh)\"], \n",
    "        fc_precovid[\"Wind Speed (kmh)\"]),3), \n",
    "        \"%\")\n"
   ]
  },
  {
   "attachments": {},
   "cell_type": "markdown",
   "metadata": {},
   "source": [
    "Post Covid Weather Forecast Accuracy"
   ]
  },
  {
   "cell_type": "code",
   "execution_count": 197,
   "metadata": {},
   "outputs": [
    {
     "data": {
      "text/html": [
       "<div>\n",
       "<style scoped>\n",
       "    .dataframe tbody tr th:only-of-type {\n",
       "        vertical-align: middle;\n",
       "    }\n",
       "\n",
       "    .dataframe tbody tr th {\n",
       "        vertical-align: top;\n",
       "    }\n",
       "\n",
       "    .dataframe thead th {\n",
       "        text-align: right;\n",
       "    }\n",
       "</style>\n",
       "<table border=\"1\" class=\"dataframe\">\n",
       "  <thead>\n",
       "    <tr style=\"text-align: right;\">\n",
       "      <th></th>\n",
       "      <th>Time</th>\n",
       "      <th>Load (kW)</th>\n",
       "      <th>Pressure_kpa</th>\n",
       "      <th>Cloud Cover (%)</th>\n",
       "      <th>Humidity (%)</th>\n",
       "      <th>Temperature (C)</th>\n",
       "      <th>Wind Direction (deg)</th>\n",
       "      <th>Wind Speed (kmh)</th>\n",
       "      <th>Month</th>\n",
       "      <th>Year</th>\n",
       "      <th>day</th>\n",
       "      <th>hour</th>\n",
       "      <th>type_of_day</th>\n",
       "    </tr>\n",
       "  </thead>\n",
       "  <tbody>\n",
       "    <tr>\n",
       "      <th>1699</th>\n",
       "      <td>2021-01-15 19:00:00</td>\n",
       "      <td>1141078.93200</td>\n",
       "      <td>1013.38750</td>\n",
       "      <td>38.37500</td>\n",
       "      <td>68.33333</td>\n",
       "      <td>11.73439</td>\n",
       "      <td>306.87500</td>\n",
       "      <td>6.63375</td>\n",
       "      <td>1</td>\n",
       "      <td>2021</td>\n",
       "      <td>15</td>\n",
       "      <td>19</td>\n",
       "      <td>5</td>\n",
       "    </tr>\n",
       "    <tr>\n",
       "      <th>1700</th>\n",
       "      <td>2021-01-15 20:00:00</td>\n",
       "      <td>1108896.43200</td>\n",
       "      <td>1013.97500</td>\n",
       "      <td>28.12500</td>\n",
       "      <td>73.91667</td>\n",
       "      <td>9.05689</td>\n",
       "      <td>297.62500</td>\n",
       "      <td>10.08750</td>\n",
       "      <td>1</td>\n",
       "      <td>2021</td>\n",
       "      <td>15</td>\n",
       "      <td>20</td>\n",
       "      <td>5</td>\n",
       "    </tr>\n",
       "    <tr>\n",
       "      <th>1701</th>\n",
       "      <td>2021-01-15 21:00:00</td>\n",
       "      <td>1078978.43200</td>\n",
       "      <td>1014.18750</td>\n",
       "      <td>21.12500</td>\n",
       "      <td>75.83333</td>\n",
       "      <td>8.41439</td>\n",
       "      <td>334.00000</td>\n",
       "      <td>8.18000</td>\n",
       "      <td>1</td>\n",
       "      <td>2021</td>\n",
       "      <td>15</td>\n",
       "      <td>21</td>\n",
       "      <td>5</td>\n",
       "    </tr>\n",
       "    <tr>\n",
       "      <th>1702</th>\n",
       "      <td>2021-01-15 22:00:00</td>\n",
       "      <td>1044494.93200</td>\n",
       "      <td>1014.12500</td>\n",
       "      <td>17.37500</td>\n",
       "      <td>74.25000</td>\n",
       "      <td>8.04189</td>\n",
       "      <td>73.62500</td>\n",
       "      <td>4.12250</td>\n",
       "      <td>1</td>\n",
       "      <td>2021</td>\n",
       "      <td>15</td>\n",
       "      <td>22</td>\n",
       "      <td>5</td>\n",
       "    </tr>\n",
       "    <tr>\n",
       "      <th>1703</th>\n",
       "      <td>2021-01-15 23:00:00</td>\n",
       "      <td>1010233.93200</td>\n",
       "      <td>1013.90000</td>\n",
       "      <td>13.25000</td>\n",
       "      <td>77.25000</td>\n",
       "      <td>6.54189</td>\n",
       "      <td>37.62500</td>\n",
       "      <td>2.87000</td>\n",
       "      <td>1</td>\n",
       "      <td>2021</td>\n",
       "      <td>15</td>\n",
       "      <td>23</td>\n",
       "      <td>5</td>\n",
       "    </tr>\n",
       "  </tbody>\n",
       "</table>\n",
       "</div>"
      ],
      "text/plain": [
       "                    Time     Load (kW)  Pressure_kpa  Cloud Cover (%)  \\\n",
       "1699 2021-01-15 19:00:00 1141078.93200    1013.38750         38.37500   \n",
       "1700 2021-01-15 20:00:00 1108896.43200    1013.97500         28.12500   \n",
       "1701 2021-01-15 21:00:00 1078978.43200    1014.18750         21.12500   \n",
       "1702 2021-01-15 22:00:00 1044494.93200    1014.12500         17.37500   \n",
       "1703 2021-01-15 23:00:00 1010233.93200    1013.90000         13.25000   \n",
       "\n",
       "      Humidity (%)  Temperature (C)   Wind Direction (deg)  Wind Speed (kmh)  \\\n",
       "1699      68.33333          11.73439             306.87500           6.63375   \n",
       "1700      73.91667           9.05689             297.62500          10.08750   \n",
       "1701      75.83333           8.41439             334.00000           8.18000   \n",
       "1702      74.25000           8.04189              73.62500           4.12250   \n",
       "1703      77.25000           6.54189              37.62500           2.87000   \n",
       "\n",
       "      Month  Year  day  hour  type_of_day  \n",
       "1699      1  2021   15    19            5  \n",
       "1700      1  2021   15    20            5  \n",
       "1701      1  2021   15    21            5  \n",
       "1702      1  2021   15    22            5  \n",
       "1703      1  2021   15    23            5  "
      ]
     },
     "execution_count": 197,
     "metadata": {},
     "output_type": "execute_result"
    }
   ],
   "source": [
    "ac_postcovid.tail()\n"
   ]
  },
  {
   "cell_type": "code",
   "execution_count": 198,
   "metadata": {},
   "outputs": [
    {
     "data": {
      "text/html": [
       "<div>\n",
       "<style scoped>\n",
       "    .dataframe tbody tr th:only-of-type {\n",
       "        vertical-align: middle;\n",
       "    }\n",
       "\n",
       "    .dataframe tbody tr th {\n",
       "        vertical-align: top;\n",
       "    }\n",
       "\n",
       "    .dataframe thead th {\n",
       "        text-align: right;\n",
       "    }\n",
       "</style>\n",
       "<table border=\"1\" class=\"dataframe\">\n",
       "  <thead>\n",
       "    <tr style=\"text-align: right;\">\n",
       "      <th></th>\n",
       "      <th>Cloud Cover (%)</th>\n",
       "      <th>Time</th>\n",
       "      <th>Pressure (kpa)</th>\n",
       "      <th>Temperature (C)</th>\n",
       "      <th>Wind Direction (deg)</th>\n",
       "      <th>Wind Speed (kmh)</th>\n",
       "    </tr>\n",
       "  </thead>\n",
       "  <tbody>\n",
       "    <tr>\n",
       "      <th>1699</th>\n",
       "      <td>0.00000</td>\n",
       "      <td>2021-01-15 19:00:00</td>\n",
       "      <td>1013.00000</td>\n",
       "      <td>15.72189</td>\n",
       "      <td>290.00000</td>\n",
       "      <td>14.00000</td>\n",
       "    </tr>\n",
       "    <tr>\n",
       "      <th>1700</th>\n",
       "      <td>0.00000</td>\n",
       "      <td>2021-01-15 20:00:00</td>\n",
       "      <td>1013.00000</td>\n",
       "      <td>13.72189</td>\n",
       "      <td>262.00000</td>\n",
       "      <td>13.00000</td>\n",
       "    </tr>\n",
       "    <tr>\n",
       "      <th>1701</th>\n",
       "      <td>0.00000</td>\n",
       "      <td>2021-01-15 21:00:00</td>\n",
       "      <td>1014.00000</td>\n",
       "      <td>11.72189</td>\n",
       "      <td>233.00000</td>\n",
       "      <td>12.00000</td>\n",
       "    </tr>\n",
       "    <tr>\n",
       "      <th>1702</th>\n",
       "      <td>1.00000</td>\n",
       "      <td>2021-01-15 22:00:00</td>\n",
       "      <td>1014.00000</td>\n",
       "      <td>9.72189</td>\n",
       "      <td>160.00000</td>\n",
       "      <td>11.00000</td>\n",
       "    </tr>\n",
       "    <tr>\n",
       "      <th>1703</th>\n",
       "      <td>2.00000</td>\n",
       "      <td>2021-01-15 23:00:00</td>\n",
       "      <td>1014.00000</td>\n",
       "      <td>7.72189</td>\n",
       "      <td>87.00000</td>\n",
       "      <td>11.00000</td>\n",
       "    </tr>\n",
       "  </tbody>\n",
       "</table>\n",
       "</div>"
      ],
      "text/plain": [
       "      Cloud Cover (%)                Time  Pressure (kpa)  Temperature (C)  \\\n",
       "1699          0.00000 2021-01-15 19:00:00      1013.00000         15.72189   \n",
       "1700          0.00000 2021-01-15 20:00:00      1013.00000         13.72189   \n",
       "1701          0.00000 2021-01-15 21:00:00      1014.00000         11.72189   \n",
       "1702          1.00000 2021-01-15 22:00:00      1014.00000          9.72189   \n",
       "1703          2.00000 2021-01-15 23:00:00      1014.00000          7.72189   \n",
       "\n",
       "      Wind Direction (deg)  Wind Speed (kmh)  \n",
       "1699             290.00000          14.00000  \n",
       "1700             262.00000          13.00000  \n",
       "1701             233.00000          12.00000  \n",
       "1702             160.00000          11.00000  \n",
       "1703              87.00000          11.00000  "
      ]
     },
     "execution_count": 198,
     "metadata": {},
     "output_type": "execute_result"
    }
   ],
   "source": [
    "fc_postcovid.tail()"
   ]
  },
  {
   "cell_type": "code",
   "execution_count": 199,
   "metadata": {},
   "outputs": [
    {
     "data": {
      "text/plain": [
       "Cloud Cover (%)         0\n",
       "Time                    0\n",
       "Pressure (kpa)          0\n",
       "Temperature (C)         0\n",
       "Wind Direction (deg)    0\n",
       "Wind Speed (kmh)        0\n",
       "dtype: int64"
      ]
     },
     "execution_count": 199,
     "metadata": {},
     "output_type": "execute_result"
    }
   ],
   "source": [
    "fc_postcovid.isnull().sum()"
   ]
  },
  {
   "cell_type": "code",
   "execution_count": 200,
   "metadata": {},
   "outputs": [
    {
     "name": "stdout",
     "output_type": "stream",
     "text": [
      "MAE of Pressure: 0.538 %\n",
      "MAE of Cloud Cover: 17.998 %\n",
      "MAE of Temperature: 2.895 %\n",
      "MAE of Wind Direction: 48.124 %\n",
      "MAE of Wind Speed: 4.568 %\n"
     ]
    }
   ],
   "source": [
    "print(\"MAE of Pressure:\", \n",
    "        round(mae(ac_postcovid[\"Pressure_kpa\"], \n",
    "        fc_postcovid[\"Pressure (kpa)\"]),3), \n",
    "        \"%\")\n",
    "\n",
    "print(\"MAE of Cloud Cover:\", \n",
    "        round(mae(ac_postcovid[\"Cloud Cover (%)\"], \n",
    "        fc_postcovid[\"Cloud Cover (%)\"]),3), \n",
    "        \"%\")\n",
    "\n",
    "print(\"MAE of Temperature:\", \n",
    "        round(mae(ac_precovid[\"Temperature (C) \"], \n",
    "        fc_precovid[\"Temperature (C)\"]),3), \n",
    "        \"%\")\n",
    "\n",
    "print(\"MAE of Wind Direction:\", \n",
    "        round(mae(ac_precovid[\"Wind Direction (deg)\"], \n",
    "        fc_precovid[\"Wind Direction (deg)\"]),3), \n",
    "        \"%\")\n",
    "        \n",
    "print(\"MAE of Wind Speed:\", \n",
    "        round(mae(ac_precovid[\"Wind Speed (kmh)\"], \n",
    "        fc_precovid[\"Wind Speed (kmh)\"]),3), \n",
    "        \"%\")"
   ]
  },
  {
   "attachments": {},
   "cell_type": "markdown",
   "metadata": {},
   "source": [
    "## Testing benchmark models:"
   ]
  },
  {
   "cell_type": "code",
   "execution_count": 201,
   "metadata": {},
   "outputs": [],
   "source": [
    "#uncomment to install if you havent, comment once you're done\n",
    "# !pip install statsforecast"
   ]
  },
  {
   "attachments": {},
   "cell_type": "markdown",
   "metadata": {},
   "source": [
    "Assuming now we're using part 1 for training:"
   ]
  },
  {
   "cell_type": "code",
   "execution_count": 225,
   "metadata": {},
   "outputs": [],
   "source": [
    "train_data = actuals.copy()"
   ]
  },
  {
   "cell_type": "code",
   "execution_count": 226,
   "metadata": {
    "scrolled": false
   },
   "outputs": [
    {
     "data": {
      "text/plain": [
       "(31896, 13)"
      ]
     },
     "execution_count": 226,
     "metadata": {},
     "output_type": "execute_result"
    }
   ],
   "source": [
    "train_data.shape"
   ]
  },
  {
   "cell_type": "code",
   "execution_count": 227,
   "metadata": {},
   "outputs": [],
   "source": [
    "test_data = actuals_covid.copy()"
   ]
  },
  {
   "attachments": {},
   "cell_type": "markdown",
   "metadata": {},
   "source": [
    "### Method 1: naive"
   ]
  },
  {
   "cell_type": "code",
   "execution_count": 236,
   "metadata": {},
   "outputs": [],
   "source": [
    "last_load = train_data['Load (kW)'][len(train_data)-1]"
   ]
  },
  {
   "cell_type": "code",
   "execution_count": 253,
   "metadata": {},
   "outputs": [],
   "source": [
    "naive_predictions = pd.DataFrame(test_data['Time'].copy())"
   ]
  },
  {
   "cell_type": "code",
   "execution_count": 256,
   "metadata": {
    "scrolled": true
   },
   "outputs": [
    {
     "data": {
      "text/html": [
       "<div>\n",
       "<style scoped>\n",
       "    .dataframe tbody tr th:only-of-type {\n",
       "        vertical-align: middle;\n",
       "    }\n",
       "\n",
       "    .dataframe tbody tr th {\n",
       "        vertical-align: top;\n",
       "    }\n",
       "\n",
       "    .dataframe thead th {\n",
       "        text-align: right;\n",
       "    }\n",
       "</style>\n",
       "<table border=\"1\" class=\"dataframe\">\n",
       "  <thead>\n",
       "    <tr style=\"text-align: right;\">\n",
       "      <th></th>\n",
       "      <th>Time</th>\n",
       "      <th>load</th>\n",
       "    </tr>\n",
       "  </thead>\n",
       "  <tbody>\n",
       "    <tr>\n",
       "      <th>0</th>\n",
       "      <td>2020-11-06 00:00:00</td>\n",
       "      <td>1022583.90014</td>\n",
       "    </tr>\n",
       "    <tr>\n",
       "      <th>1</th>\n",
       "      <td>2020-11-06 01:00:00</td>\n",
       "      <td>1022583.90014</td>\n",
       "    </tr>\n",
       "    <tr>\n",
       "      <th>2</th>\n",
       "      <td>2020-11-06 02:00:00</td>\n",
       "      <td>1022583.90014</td>\n",
       "    </tr>\n",
       "    <tr>\n",
       "      <th>3</th>\n",
       "      <td>2020-11-06 03:00:00</td>\n",
       "      <td>1022583.90014</td>\n",
       "    </tr>\n",
       "    <tr>\n",
       "      <th>4</th>\n",
       "      <td>2020-11-06 04:00:00</td>\n",
       "      <td>1022583.90014</td>\n",
       "    </tr>\n",
       "  </tbody>\n",
       "</table>\n",
       "</div>"
      ],
      "text/plain": [
       "                 Time          load\n",
       "0 2020-11-06 00:00:00 1022583.90014\n",
       "1 2020-11-06 01:00:00 1022583.90014\n",
       "2 2020-11-06 02:00:00 1022583.90014\n",
       "3 2020-11-06 03:00:00 1022583.90014\n",
       "4 2020-11-06 04:00:00 1022583.90014"
      ]
     },
     "execution_count": 256,
     "metadata": {},
     "output_type": "execute_result"
    }
   ],
   "source": [
    "naive_predictions.head()"
   ]
  },
  {
   "cell_type": "code",
   "execution_count": 259,
   "metadata": {},
   "outputs": [
    {
     "data": {
      "image/png": "[encoded data removed]",
      "text/plain": [
       "<Figure size 1200x400 with 1 Axes>"
      ]
     },
     "metadata": {},
     "output_type": "display_data"
    }
   ],
   "source": [
    "plt.figure(figsize=(12,4))\n",
    "plt.plot(train_data['Time'], train_data['Load (kW)'], label='Train')\n",
    "plt.plot(test_data['Time'], test_data['Load (kW)'], label='Test')\n",
    "plt.plot(naive_predictions['Time'], naive_predictions['load'], label='Naive Forecast')\n",
    "plt.legend(loc='best')\n",
    "plt.title(\"Naive Forecast\")\n",
    "plt.show()"
   ]
  },
  {
   "attachments": {},
   "cell_type": "markdown",
   "metadata": {},
   "source": [
    "### Method 2: Seasonal naive"
   ]
  },
  {
   "cell_type": "code",
   "execution_count": 282,
   "metadata": {},
   "outputs": [
    {
     "name": "stdout",
     "output_type": "stream",
     "text": [
      "Collecting r-functions\n",
      "  Downloading r_functions-1.0.3-py3-none-any.whl (5.3 kB)\n",
      "Installing collected packages: r-functions\n",
      "Successfully installed r-functions-1.0.3\n"
     ]
    }
   ],
   "source": [
    "# !pip install r-functions "
   ]
  },
  {
   "cell_type": "code",
   "execution_count": 285,
   "metadata": {},
   "outputs": [],
   "source": [
    "import subprocess"
   ]
  }
 ],
 "metadata": {
  "kernelspec": {
   "display_name": "Python 3 (ipykernel)",
   "language": "python",
   "name": "python3"
  },
  "language_info": {
   "codemirror_mode": {
    "name": "ipython",
    "version": 3
   },
   "file_extension": ".py",
   "mimetype": "text/x-python",
   "name": "python",
   "nbconvert_exporter": "python",
   "pygments_lexer": "ipython3",
   "version": "3.9.13"
  }
 },
 "nbformat": 4,
 "nbformat_minor": 2
}
