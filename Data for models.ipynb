{
 "cells": [
  {
   "cell_type": "code",
   "execution_count": null,
   "metadata": {},
   "outputs": [],
   "source": [
    "conn = psycopg2.connect(\n",
    "    host=\"fit3164db.cxkhqsoitzhb.ap-southeast-2.rds.amazonaws.com\", \n",
    "    port=5432,\n",
    "    user=\"postgres\",\n",
    "    password=\"fit3164d13edas\",\n",
    "    database = \"testdb\"\n",
    ")\n",
    "conn.autocommit = True\n",
    "cursor = conn.cursor()"
   ]
  },
  {
   "cell_type": "code",
   "execution_count": null,
   "metadata": {},
   "outputs": [],
   "source": [
    "cursor.execute(\"select * from forecasts\")\n",
    "forecast_data = cursor.fetchall()"
   ]
  },
  {
   "cell_type": "code",
   "execution_count": null,
   "metadata": {},
   "outputs": [],
   "source": [
    "forecast"
   ]
  },
  {
   "cell_type": "code",
   "execution_count": null,
   "metadata": {},
   "outputs": [],
   "source": [
    "# converting data types:\n",
    "def convert_dtypes(df, actual=True):\n",
    "    if actual:\n",
    "        numeric_cols = ['month','hour', 'type_of_day', 'load', 'pressure', 'cloud_cover', 'humidity', 'temperature', 'wind_speed', 'wind_direction']\n",
    "    else:\n",
    "        numeric_cols = ['month','hour', 'type_of_day', 'pressure', 'cloud_cover', 'temperature', 'wind_speed', 'wind_direction']\n",
    "    \n",
    "    date_cols = ['datetime', 'date']\n",
    "    \n",
    "    for col in numeric_cols:\n",
    "        df[col] = pd.to_numeric(df[col])\n",
    "        \n",
    "    for col in date_cols:\n",
    "        df[col] = pd.to_datetime(df[col])\n",
    "    \n",
    "    return df\n",
    "actuals = convert_dtypes(actuals)\n",
    "forecast = convert_dtypes(forecast, False)"
   ]
  },
  {
   "cell_type": "code",
   "execution_count": null,
   "metadata": {},
   "outputs": [],
   "source": [
    "#lags for load \n",
    "\n",
    "def get_lag_leads(data, num_lags=168, forward_pred=48): \n",
    "    cols = ['pressure', 'cloud_cover', 'temperature', 'wind_speed',\n",
    "       'wind_direction']\n",
    "\n",
    "    #for load\n",
    "    for i in range(1, num_lags + 1):\n",
    "        data[f'load_lag_{i}'] = data['load'].shift(i) \n",
    "    \n",
    "    for i in range(1, forward_pred+1):    #lead 47 variables\n",
    "        data[f'load_lead_{i}'] = data['load'].shift(-i)\n",
    "\n",
    "\n",
    "    #get lead variables\n",
    "    for c in cols:\n",
    "        for i in range(1, forward_pred+1):\n",
    "            data[f'{c}_lag_{i}'] = data[c].shift(-i)\n",
    "\n",
    "    #for lagged weather variables\n",
    "    for c in cols:\n",
    "        for i in range(1, num_lags+1):\n",
    "            data[f'{c}_lag_{i}'] = data[c].shift(i)\n",
    "\n",
    "    return data"
   ]
  },
  {
   "cell_type": "code",
   "execution_count": null,
   "metadata": {},
   "outputs": [],
   "source": [
    "actuals[['datetime','load']]"
   ]
  },
  {
   "cell_type": "code",
   "execution_count": null,
   "metadata": {},
   "outputs": [],
   "source": [
    "data = pd.merge(actuals[['datetime','load']], forecast, on='datetime')\n",
    "\n",
    "encode(data, 'hour', 24)\n",
    "encode(data, 'month', 12)\n",
    "encode(data, 'type_of_day', 31)\n",
    "\n",
    "#call this drop in our model file\n",
    "\n",
    "# data = data.drop(['id', 'date','month', 'hour', 'type_of_day'], axis=1)\n",
    "\n",
    "data.set_index\n",
    "data = data.rename(columns = {'type_of_day_sin': 'day_sin', \n",
    "                            'type_of_day_cos': 'day_cos'})"
   ]
  },
  {
   "cell_type": "code",
   "execution_count": null,
   "metadata": {},
   "outputs": [],
   "source": [
    "data = get_lag_leads(data)"
   ]
  },
  {
   "cell_type": "code",
   "execution_count": null,
   "metadata": {},
   "outputs": [],
   "source": [
    "data.tail()"
   ]
  },
  {
   "cell_type": "code",
   "execution_count": null,
   "metadata": {
    "vscode": {
     "languageId": "plaintext"
    }
   },
   "outputs": [],
   "source": []
  },
  {
   "cell_type": "code",
   "execution_count": null,
   "metadata": {
    "vscode": {
     "languageId": "plaintext"
    }
   },
   "outputs": [],
   "source": [
    "filename = r\"ModelsData.csv\"\n",
    "data.to_csv(filename, index=False, header=True)"
   ]
  }
 ],
 "metadata": {
  "kernelspec": {
   "display_name": "Python 3",
   "language": "python",
   "name": "python3"
  },
  "language_info": {
   "codemirror_mode": {
    "name": "ipython",
    "version": 3
   },
   "file_extension": ".py",
   "mimetype": "text/x-python",
   "name": "python",
   "nbconvert_exporter": "python",
   "pygments_lexer": "ipython3",
   "version": "3.11.4"
  },
  "orig_nbformat": 4
 },
 "nbformat": 4,
 "nbformat_minor": 2
}
