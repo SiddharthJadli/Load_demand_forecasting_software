{
 "cells": [
  {
   "cell_type": "code",
   "execution_count": 1,
   "id": "91c1f740",
   "metadata": {},
   "outputs": [],
   "source": [
    "import pandas as pd\n",
    "import numpy as np\n",
    "import psycopg2 "
   ]
  },
  {
   "cell_type": "code",
   "execution_count": 75,
   "id": "8ff6fd9a",
   "metadata": {},
   "outputs": [],
   "source": [
    "conn = psycopg2.connect(\n",
    "    host=\"fit3164db.cxkhqsoitzhb.ap-southeast-2.rds.amazonaws.com\", \n",
    "    port=5432,\n",
    "    user=\"postgres\",\n",
    "    password=\"fit3164d13edas\",\n",
    "    database = \"testdb\"\n",
    ")\n",
    "conn.autocommit = True\n",
    "cursor = conn.cursor()"
   ]
  },
  {
   "cell_type": "code",
   "execution_count": 76,
   "id": "4bc8aa07",
   "metadata": {},
   "outputs": [],
   "source": [
    "cursor.execute(\"SELECT column_name FROM information_schema.columns WHERE table_name = 'actuals'\")\n",
    "acc_cols = cursor.fetchall()\n",
    "acc_cols = [item[0] for item in acc_cols]\n",
    "\n",
    "cursor.execute(\"select * from actuals\")\n",
    "actual_data = cursor.fetchall()"
   ]
  },
  {
   "cell_type": "code",
   "execution_count": 77,
   "id": "0730ed1d",
   "metadata": {},
   "outputs": [],
   "source": [
    "cursor.close()\n",
    "conn.close()"
   ]
  },
  {
   "cell_type": "code",
   "execution_count": 102,
   "id": "62628128",
   "metadata": {},
   "outputs": [],
   "source": [
    "#data = pd.DataFrame(actual_data, columns= acc_cols)\n",
    "#data.sort_values(by=['id'], inplace=True)\n",
    "data = pd.read_csv('Compiled.csv', parse_dates=['datetime'])"
   ]
  },
  {
   "cell_type": "code",
   "execution_count": 200,
   "id": "d66ffe0b",
   "metadata": {},
   "outputs": [],
   "source": [
    "MAE = {\n",
    "    'naive_forecast':           [0 for i in range(0,51)],\n",
    "    'seasonal_forecast_daily':  [0 for i in range(0,51)],\n",
    "    'seasonal_forecast_weekly': [0 for i in range(0,51)],\n",
    "    'seasonal_forecast_yearly': [0 for i in range(0,51)],\n",
    "    'random_walk_forecast':     [0 for i in range(0,51)],\n",
    "    'linear_regression':        [0 for i in range(0,51)]}\n",
    "\n",
    "MAPE = {\n",
    "    'naive_forecast':           [0 for i in range(0,51)],\n",
    "    'seasonal_forecast_daily':  [0 for i in range(0,51)],\n",
    "    'seasonal_forecast_weekly': [0 for i in range(0,51)],\n",
    "    'seasonal_forecast_yearly': [0 for i in range(0,51)],\n",
    "    'random_walk_forecast':     [0 for i in range(0,51)],\n",
    "    'linear_regression':        [0 for i in range(0,51)]}\n",
    "\n",
    "RMSE = {\n",
    "    'naive_forecast':           [0 for i in range(0,51)],\n",
    "    'seasonal_forecast_daily':  [0 for i in range(0,51)],\n",
    "    'seasonal_forecast_weekly': [0 for i in range(0,51)],\n",
    "    'seasonal_forecast_yearly': [0 for i in range(0,51)],\n",
    "    'random_walk_forecast':     [0 for i in range(0,51)],\n",
    "    'linear_regression':        [0 for i in range(0,51)]}"
   ]
  },
  {
   "cell_type": "code",
   "execution_count": 184,
   "id": "fdfba39e",
   "metadata": {},
   "outputs": [],
   "source": [
    "forecasts = ['naive_forecast', 'seasonal_forecast_daily', 'seasonal_forecast_weekly', \n",
    "             'seasonal_forecast_yearly', 'random_walk_forecast', 'linear_regression']"
   ]
  },
  {
   "cell_type": "code",
   "execution_count": 174,
   "id": "ec631421",
   "metadata": {},
   "outputs": [],
   "source": [
    "exogenous_columns = ['pressure_f', 'cloud_cov_f', 'temp_f', 'wind_dir_f', 'wind_sp_f', \n",
    "                     'tue','wed','thu','fri','sat','sun',\n",
    "                     'feb','mar','apr','may','jun','jul','aug','sep','oct','nov','dec',\n",
    "                     'h1','h2','h3','h4','h5','h6','h7','h8','h9','h10','h11','h12',\n",
    "                     'h13','h14','h15','h16','h17','h18','h19','h20','h21','h22','h23']"
   ]
  },
  {
   "cell_type": "code",
   "execution_count": 163,
   "id": "6ead6ac8",
   "metadata": {},
   "outputs": [],
   "source": [
    "end_of_train = int(len(data)*0.9)\n",
    "# Where the train/validate split occurs"
   ]
  },
  {
   "cell_type": "code",
   "execution_count": 172,
   "id": "da9445bb",
   "metadata": {},
   "outputs": [],
   "source": [
    "from tqdm import tqdm\n",
    "from sklearn.linear_model import LinearRegression\n",
    "from skforecast.ForecasterAutoreg import ForecasterAutoreg\n",
    "from sklearn.preprocessing import StandardScaler"
   ]
  },
  {
   "cell_type": "code",
   "execution_count": 201,
   "id": "54673923",
   "metadata": {},
   "outputs": [
    {
     "name": "stderr",
     "output_type": "stream",
     "text": [
      "100%|████████████████████████████████████████████████████████████████████████████████| 139/139 [00:06<00:00, 22.81it/s]\n"
     ]
    }
   ],
   "source": [
    "num_forecasts = int((len(data) - end_of_train)//24 - 1)\n",
    "\n",
    "for f in tqdm(range(0, num_forecasts)):\n",
    "    \n",
    "    frontier        = end_of_train + 24*f\n",
    "    train           = data[:frontier]\n",
    "    train_linear    = data[frontier-24*183:frontier] # Train on six months\n",
    "    test            = data[frontier:frontier + 48]\n",
    "    \n",
    "    y_hat = test[['load']].copy()\n",
    "    y_hat['naive_forecast']           = train['load'].iloc[-1]\n",
    "    y_hat['seasonal_forecast_daily']  = [train['load'].iloc[-(i%24 + 1)] for i in range(47,-1,-1)]\n",
    "    y_hat['seasonal_forecast_weekly'] = train['load'][-24*7:-24*7+48].values\n",
    "    y_hat['seasonal_forecast_yearly'] = train['load'][-24*365:-24*365+48].values\n",
    "    drift                             = (train['load'].iloc[-1]-train['load'].iloc[0])/(365*24-1)\n",
    "    y_hat['random_walk_forecast']     = y_hat['naive_forecast']+[i*drift for i in range(1,49)]\n",
    "    \n",
    "    if not f%14: #Retrain every 14 days\n",
    "        \n",
    "        forecaster = ForecasterAutoreg(\n",
    "                     regressor        = LinearRegression(),\n",
    "                     lags             = [1, 2, 24, 25, 48, 49, 72, 73, 96, 97, 120, 121, 144, 145, 167, 168],\n",
    "                     transformer_y    = StandardScaler(),\n",
    "                     transformer_exog = None\n",
    "                 )\n",
    "\n",
    "        forecaster.fit(y=train_linear['load'], exog=train_linear[exogenous_columns])\n",
    "    \n",
    "    y_hat['linear_regression'] = forecaster.predict(48, train['load'], test[exogenous_columns])\n",
    "    \n",
    "    \n",
    "    for forecast in forecasts:\n",
    "        abs_err              = (abs(y_hat[forecast]-y_hat['load']))\n",
    "        MAE [forecast][0:48] = np.add(MAE[forecast][0:48],abs_err/num_forecasts)\n",
    "        RMSE[forecast][0:48] = np.add(RMSE[forecast][0:48],abs_err**2/num_forecasts)\n",
    "        MAPE[forecast][0:48] = np.add(MAPE[forecast][0:48],abs_err/(y_hat['load']*num_forecasts))"
   ]
  },
  {
   "cell_type": "code",
   "execution_count": 202,
   "id": "708ba7f4",
   "metadata": {},
   "outputs": [],
   "source": [
    "for forecast in forecasts:\n",
    "    \n",
    "    MAE[forecast][48]    = np.mean(MAE[forecast][0:24])\n",
    "    MAE[forecast][49]    = np.mean(MAE[forecast][24:48])\n",
    "    MAE[forecast][50]    = np.mean(MAE[forecast][0:48])\n",
    "    \n",
    "    MAPE[forecast][48]   = np.mean(MAPE[forecast][0:24])\n",
    "    MAPE[forecast][49]   = np.mean(MAPE[forecast][24:48])\n",
    "    MAPE[forecast][50]   = np.mean(MAPE[forecast][0:48])\n",
    "    \n",
    "    RMSE[forecast][0:48] = np.sqrt(RMSE[forecast][0:48])\n",
    "    RMSE[forecast][48]   = np.mean(RMSE[forecast][0:24])\n",
    "    RMSE[forecast][49]   = np.mean(RMSE[forecast][24:48])\n",
    "    RMSE[forecast][50]   = np.mean(RMSE[forecast][0:48])\n",
    "\n",
    "MAE_df  = pd.DataFrame(MAE,  index=['H'+str(i) for i in range(1,49)] + ['First 24 hours'] + ['Second 24 hours'] + ['Total'])\n",
    "MAPE_df = pd.DataFrame(MAPE, index=['H'+str(i) for i in range(1,49)] + ['First 24 hours'] + ['Second 24 hours'] + ['Total'])\n",
    "RMSE_df = pd.DataFrame(RMSE, index=['H'+str(i) for i in range(1,49)] + ['First 24 hours'] + ['Second 24 hours'] + ['Total'])"
   ]
  },
  {
   "cell_type": "code",
   "execution_count": 198,
   "id": "cea0bfb1",
   "metadata": {},
   "outputs": [],
   "source": [
    "pd.options.display.float_format = '{:20,.3f}'.format"
   ]
  },
  {
   "cell_type": "code",
   "execution_count": 203,
   "id": "9a10812f",
   "metadata": {},
   "outputs": [
    {
     "data": {
      "text/html": [
       "<div>\n",
       "<style scoped>\n",
       "    .dataframe tbody tr th:only-of-type {\n",
       "        vertical-align: middle;\n",
       "    }\n",
       "\n",
       "    .dataframe tbody tr th {\n",
       "        vertical-align: top;\n",
       "    }\n",
       "\n",
       "    .dataframe thead th {\n",
       "        text-align: right;\n",
       "    }\n",
       "</style>\n",
       "<table border=\"1\" class=\"dataframe\">\n",
       "  <thead>\n",
       "    <tr style=\"text-align: right;\">\n",
       "      <th></th>\n",
       "      <th></th>\n",
       "      <th>naive_forecast</th>\n",
       "      <th>seasonal_forecast_daily</th>\n",
       "      <th>seasonal_forecast_weekly</th>\n",
       "      <th>seasonal_forecast_yearly</th>\n",
       "      <th>random_walk_forecast</th>\n",
       "      <th>linear_regression</th>\n",
       "    </tr>\n",
       "  </thead>\n",
       "  <tbody>\n",
       "    <tr>\n",
       "      <th>MAE</th>\n",
       "      <th>Total</th>\n",
       "      <td>91,888.363</td>\n",
       "      <td>42,076.110</td>\n",
       "      <td>26,793.517</td>\n",
       "      <td>121,357.706</td>\n",
       "      <td>91,904.359</td>\n",
       "      <td>26,485.077</td>\n",
       "    </tr>\n",
       "    <tr>\n",
       "      <th>MAPE</th>\n",
       "      <th>Total</th>\n",
       "      <td>0.080</td>\n",
       "      <td>0.038</td>\n",
       "      <td>0.024</td>\n",
       "      <td>0.110</td>\n",
       "      <td>0.080</td>\n",
       "      <td>0.024</td>\n",
       "    </tr>\n",
       "    <tr>\n",
       "      <th>RMSE</th>\n",
       "      <th>Total</th>\n",
       "      <td>101,004.828</td>\n",
       "      <td>56,824.442</td>\n",
       "      <td>36,241.256</td>\n",
       "      <td>142,803.227</td>\n",
       "      <td>101,027.406</td>\n",
       "      <td>35,489.072</td>\n",
       "    </tr>\n",
       "  </tbody>\n",
       "</table>\n",
       "</div>"
      ],
      "text/plain": [
       "                 naive_forecast  seasonal_forecast_daily  \\\n",
       "MAE  Total           91,888.363               42,076.110   \n",
       "MAPE Total                0.080                    0.038   \n",
       "RMSE Total          101,004.828               56,824.442   \n",
       "\n",
       "            seasonal_forecast_weekly  seasonal_forecast_yearly  \\\n",
       "MAE  Total                26,793.517               121,357.706   \n",
       "MAPE Total                     0.024                     0.110   \n",
       "RMSE Total                36,241.256               142,803.227   \n",
       "\n",
       "            random_walk_forecast    linear_regression  \n",
       "MAE  Total            91,904.359           26,485.077  \n",
       "MAPE Total                 0.080                0.024  \n",
       "RMSE Total           101,027.406           35,489.072  "
      ]
     },
     "execution_count": 203,
     "metadata": {},
     "output_type": "execute_result"
    }
   ],
   "source": [
    "frames = [MAE_df .iloc[50:51], \n",
    "          MAPE_df.iloc[50:51], \n",
    "          RMSE_df.iloc[50:51]]\n",
    "results = pd.concat(frames, keys=[\"MAE\", \"MAPE\", \"RMSE\"])\n",
    "results"
   ]
  },
  {
   "cell_type": "code",
   "execution_count": 168,
   "id": "e50d01a5",
   "metadata": {},
   "outputs": [],
   "source": [
    "filename = r\"Benchmark_Results.csv\"\n",
    "results.to_csv(filename, encoding='utf-8', index=False, header=True)"
   ]
  }
 ],
 "metadata": {
  "kernelspec": {
   "display_name": "Python 3 (ipykernel)",
   "language": "python",
   "name": "python3"
  },
  "language_info": {
   "codemirror_mode": {
    "name": "ipython",
    "version": 3
   },
   "file_extension": ".py",
   "mimetype": "text/x-python",
   "name": "python",
   "nbconvert_exporter": "python",
   "pygments_lexer": "ipython3",
   "version": "3.11.4"
  }
 },
 "nbformat": 4,
 "nbformat_minor": 5
}
