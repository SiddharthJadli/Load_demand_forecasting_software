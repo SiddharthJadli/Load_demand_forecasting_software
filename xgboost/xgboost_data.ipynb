{
 "cells": [
  {
   "cell_type": "code",
   "execution_count": 1,
   "metadata": {},
   "outputs": [],
   "source": [
    "import pandas as pd\n",
    "import numpy as np\n",
    "import matplotlib.pyplot as plt"
   ]
  },
  {
   "cell_type": "code",
   "execution_count": 2,
   "metadata": {},
   "outputs": [],
   "source": [
    "pd.set_option('display.float_format', lambda x: '%.5f' % x)"
   ]
  },
  {
   "cell_type": "code",
   "execution_count": 3,
   "metadata": {},
   "outputs": [],
   "source": [
    "data = pd.concat([pd.read_csv('ElectricityForecaster/Train/Actual_Pre.csv',  parse_dates=True), \n",
    "                pd.read_csv('ElectricityForecaster/Train/Actual_Post.csv',  parse_dates=True)], ignore_index=True)"
   ]
  },
  {
   "cell_type": "code",
   "execution_count": 4,
   "metadata": {},
   "outputs": [],
   "source": [
    "data['time'] = pd.to_datetime(data['time'], dayfirst = True)"
   ]
  },
  {
   "cell_type": "code",
   "execution_count": 8,
   "metadata": {},
   "outputs": [],
   "source": []
  },
  {
   "cell_type": "markdown",
   "metadata": {},
   "source": [
    "1st, 3rd, 26th (+ve)\n",
    "2nd, 24th (-ve)\n",
    "\n",
    "seems to have the highest partial_autocorr"
   ]
  },
  {
   "cell_type": "code",
   "execution_count": 39,
   "metadata": {},
   "outputs": [
    {
     "data": {
      "image/png": "[encoded data removed]",
      "text/plain": [
       "<Figure size 500x200 with 1 Axes>"
      ]
     },
     "metadata": {},
     "output_type": "display_data"
    }
   ],
   "source": [
    "fig, ax = plt.subplots(figsize=(5, 2))\n",
    "# plot_pacf(data.load_kw, ax=ax, lags=(24,25,26,27,28,29,30))\n",
    "# plot_pacf(data.load_kw, ax=ax, lags=(0,1,2,3,4,5,6,7,8,9,10))\n",
    "# plot_pacf(data.load_kw, ax=ax, lags=(15,16,17,18,19,20,21,22,23,24,25))\n",
    "plot_pacf(data.load_kw, ax=ax, lags=(30))\n",
    "plt.show()"
   ]
  },
  {
   "cell_type": "code",
   "execution_count": 5,
   "metadata": {},
   "outputs": [
    {
     "data": {
      "text/plain": [
       "Unnamed: 0                 int64\n",
       "time              datetime64[ns]\n",
       "load_kw                  float64\n",
       "pressure_kpa             float64\n",
       "cloud_cover              float64\n",
       "humidity                 float64\n",
       "temperature_c            float64\n",
       "wind_direction           float64\n",
       "wind_speed_kmh           float64\n",
       "date                      object\n",
       "datetime                  object\n",
       "month                      int64\n",
       "hour                       int64\n",
       "type_of_day                int64\n",
       "covid                      int64\n",
       "public_holiday             int64\n",
       "dtype: object"
      ]
     },
     "execution_count": 5,
     "metadata": {},
     "output_type": "execute_result"
    }
   ],
   "source": [
    "data.dtypes"
   ]
  },
  {
   "cell_type": "code",
   "execution_count": 6,
   "metadata": {},
   "outputs": [
    {
     "data": {
      "text/html": [
       "<div>\n",
       "<style scoped>\n",
       "    .dataframe tbody tr th:only-of-type {\n",
       "        vertical-align: middle;\n",
       "    }\n",
       "\n",
       "    .dataframe tbody tr th {\n",
       "        vertical-align: top;\n",
       "    }\n",
       "\n",
       "    .dataframe thead th {\n",
       "        text-align: right;\n",
       "    }\n",
       "</style>\n",
       "<table border=\"1\" class=\"dataframe\">\n",
       "  <thead>\n",
       "    <tr style=\"text-align: right;\">\n",
       "      <th></th>\n",
       "      <th>Unnamed: 0</th>\n",
       "      <th>time</th>\n",
       "      <th>load_kw</th>\n",
       "      <th>pressure_kpa</th>\n",
       "      <th>cloud_cover</th>\n",
       "      <th>humidity</th>\n",
       "      <th>temperature_c</th>\n",
       "      <th>wind_direction</th>\n",
       "      <th>wind_speed_kmh</th>\n",
       "      <th>date</th>\n",
       "      <th>datetime</th>\n",
       "      <th>month</th>\n",
       "      <th>hour</th>\n",
       "      <th>type_of_day</th>\n",
       "      <th>covid</th>\n",
       "      <th>public_holiday</th>\n",
       "    </tr>\n",
       "  </thead>\n",
       "  <tbody>\n",
       "    <tr>\n",
       "      <th>0</th>\n",
       "      <td>0</td>\n",
       "      <td>2017-03-18 00:00:00</td>\n",
       "      <td>1031471.62806</td>\n",
       "      <td>1012.48000</td>\n",
       "      <td>2.12500</td>\n",
       "      <td>79.33333</td>\n",
       "      <td>16.76439</td>\n",
       "      <td>285.25000</td>\n",
       "      <td>6.25375</td>\n",
       "      <td>2017-03-18</td>\n",
       "      <td>00:00:00</td>\n",
       "      <td>3</td>\n",
       "      <td>0</td>\n",
       "      <td>6</td>\n",
       "      <td>0</td>\n",
       "      <td>0</td>\n",
       "    </tr>\n",
       "    <tr>\n",
       "      <th>1</th>\n",
       "      <td>1</td>\n",
       "      <td>2017-03-18 01:00:00</td>\n",
       "      <td>1007205.57844</td>\n",
       "      <td>1011.61875</td>\n",
       "      <td>0.00000</td>\n",
       "      <td>82.16667</td>\n",
       "      <td>15.72939</td>\n",
       "      <td>285.00000</td>\n",
       "      <td>9.20500</td>\n",
       "      <td>2017-03-18</td>\n",
       "      <td>01:00:00</td>\n",
       "      <td>3</td>\n",
       "      <td>1</td>\n",
       "      <td>6</td>\n",
       "      <td>0</td>\n",
       "      <td>0</td>\n",
       "    </tr>\n",
       "    <tr>\n",
       "      <th>2</th>\n",
       "      <td>2</td>\n",
       "      <td>2017-03-18 02:00:00</td>\n",
       "      <td>986108.40072</td>\n",
       "      <td>1010.72000</td>\n",
       "      <td>2.12500</td>\n",
       "      <td>81.66667</td>\n",
       "      <td>15.81689</td>\n",
       "      <td>316.00000</td>\n",
       "      <td>11.28375</td>\n",
       "      <td>2017-03-18</td>\n",
       "      <td>02:00:00</td>\n",
       "      <td>3</td>\n",
       "      <td>2</td>\n",
       "      <td>6</td>\n",
       "      <td>0</td>\n",
       "      <td>0</td>\n",
       "    </tr>\n",
       "    <tr>\n",
       "      <th>3</th>\n",
       "      <td>3</td>\n",
       "      <td>2017-03-18 03:00:00</td>\n",
       "      <td>970760.96692</td>\n",
       "      <td>1011.37625</td>\n",
       "      <td>17.12500</td>\n",
       "      <td>82.25000</td>\n",
       "      <td>15.91939</td>\n",
       "      <td>327.00000</td>\n",
       "      <td>7.16875</td>\n",
       "      <td>2017-03-18</td>\n",
       "      <td>03:00:00</td>\n",
       "      <td>3</td>\n",
       "      <td>3</td>\n",
       "      <td>6</td>\n",
       "      <td>0</td>\n",
       "      <td>0</td>\n",
       "    </tr>\n",
       "    <tr>\n",
       "      <th>4</th>\n",
       "      <td>4</td>\n",
       "      <td>2017-03-18 04:00:00</td>\n",
       "      <td>962258.36502</td>\n",
       "      <td>1011.50000</td>\n",
       "      <td>18.62500</td>\n",
       "      <td>82.33333</td>\n",
       "      <td>15.76939</td>\n",
       "      <td>282.25000</td>\n",
       "      <td>0.78000</td>\n",
       "      <td>2017-03-18</td>\n",
       "      <td>04:00:00</td>\n",
       "      <td>3</td>\n",
       "      <td>4</td>\n",
       "      <td>6</td>\n",
       "      <td>0</td>\n",
       "      <td>0</td>\n",
       "    </tr>\n",
       "  </tbody>\n",
       "</table>\n",
       "</div>"
      ],
      "text/plain": [
       "   Unnamed: 0                time       load_kw  pressure_kpa  cloud_cover  \\\n",
       "0           0 2017-03-18 00:00:00 1031471.62806    1012.48000      2.12500   \n",
       "1           1 2017-03-18 01:00:00 1007205.57844    1011.61875      0.00000   \n",
       "2           2 2017-03-18 02:00:00  986108.40072    1010.72000      2.12500   \n",
       "3           3 2017-03-18 03:00:00  970760.96692    1011.37625     17.12500   \n",
       "4           4 2017-03-18 04:00:00  962258.36502    1011.50000     18.62500   \n",
       "\n",
       "   humidity  temperature_c  wind_direction  wind_speed_kmh        date  \\\n",
       "0  79.33333       16.76439       285.25000         6.25375  2017-03-18   \n",
       "1  82.16667       15.72939       285.00000         9.20500  2017-03-18   \n",
       "2  81.66667       15.81689       316.00000        11.28375  2017-03-18   \n",
       "3  82.25000       15.91939       327.00000         7.16875  2017-03-18   \n",
       "4  82.33333       15.76939       282.25000         0.78000  2017-03-18   \n",
       "\n",
       "   datetime  month  hour  type_of_day  covid  public_holiday  \n",
       "0  00:00:00      3     0            6      0               0  \n",
       "1  01:00:00      3     1            6      0               0  \n",
       "2  02:00:00      3     2            6      0               0  \n",
       "3  03:00:00      3     3            6      0               0  \n",
       "4  04:00:00      3     4            6      0               0  "
      ]
     },
     "execution_count": 6,
     "metadata": {},
     "output_type": "execute_result"
    }
   ],
   "source": [
    "data.head()"
   ]
  },
  {
   "cell_type": "code",
   "execution_count": 5,
   "metadata": {},
   "outputs": [],
   "source": [
    "data = data.drop(['Unnamed: 0'], axis=1)"
   ]
  },
  {
   "cell_type": "markdown",
   "metadata": {},
   "source": [
    "Lagged variables"
   ]
  },
  {
   "cell_type": "code",
   "execution_count": 11,
   "metadata": {},
   "outputs": [],
   "source": [
    "from sklearn.preprocessing import StandardScaler\n",
    "from statsmodels.tsa.stattools import pacf"
   ]
  },
  {
   "cell_type": "code",
   "execution_count": 30,
   "metadata": {},
   "outputs": [],
   "source": [
    "def create_lag_features(data):\n",
    "    y = data['load_L0']\n",
    "    scaler = StandardScaler()\n",
    "    features = pd.DataFrame()\n",
    "    \n",
    "    partial = pd.Series(data=pacf(y, nlags=168))\n",
    "\n",
    "    #takes lags with pacf >= 0.2\n",
    "    lags = list(partial[np.abs(partial) >= 0.2].index)\n",
    "    \n",
    "    # df = pd.DataFrame()\n",
    "    df = data\n",
    "    \n",
    "    # avoid to insert the time series itself\n",
    "    lags.remove(0)\n",
    "    \n",
    "    for l in lags:\n",
    "        df[f\"load_L{l}\"] = y.shift(l)\n",
    "    \n",
    "    # features = pd.DataFrame(scaler.fit_transform(df[df.columns]),\n",
    "    #                         columns=df.columns)\n",
    "    # features.index = y.index\n",
    "    \n",
    "    return df"
   ]
  },
  {
   "cell_type": "code",
   "execution_count": 34,
   "metadata": {},
   "outputs": [],
   "source": [
    "final_data = create_lag_features(data)"
   ]
  },
  {
   "cell_type": "code",
   "execution_count": 35,
   "metadata": {},
   "outputs": [
    {
     "data": {
      "text/plain": [
       "Index(['time', 'load_L0', 'pressure_kpa', 'cloud_cover', 'humidity',\n",
       "       'temperature_c', 'wind_direction', 'wind_speed_kmh', 'date', 'datetime',\n",
       "       'month', 'hour', 'type_of_day', 'covid', 'public_holiday', 'load_L1',\n",
       "       'load_L2', 'load_L3', 'load_L24', 'load_L26', 'load_L19', 'load_L23',\n",
       "       'load_L25', 'load_L50', 'load_L168'],\n",
       "      dtype='object')"
      ]
     },
     "execution_count": 35,
     "metadata": {},
     "output_type": "execute_result"
    }
   ],
   "source": [
    "final_data.columns"
   ]
  },
  {
   "cell_type": "code",
   "execution_count": 6,
   "metadata": {},
   "outputs": [],
   "source": [
    "# data = data.rename(columns={'load_kw': 'load'+'_L0'})"
   ]
  },
  {
   "cell_type": "code",
   "execution_count": 7,
   "metadata": {},
   "outputs": [],
   "source": [
    "# lag_hrs = [1,2,3,24,26]"
   ]
  },
  {
   "cell_type": "code",
   "execution_count": 8,
   "metadata": {},
   "outputs": [],
   "source": [
    "# for i in range(1,168):\n",
    "# for i in lag_hrs:\n",
    "    # data['load' + '_L' + str(i)] = data['load'+'_L0'].shift(i)"
   ]
  },
  {
   "cell_type": "code",
   "execution_count": 8,
   "metadata": {},
   "outputs": [],
   "source": [
    "final_data = data"
   ]
  },
  {
   "cell_type": "code",
   "execution_count": 9,
   "metadata": {},
   "outputs": [],
   "source": [
    "final_data = final_data.drop(['date', 'datetime'], axis=1)"
   ]
  },
  {
   "cell_type": "code",
   "execution_count": 10,
   "metadata": {},
   "outputs": [
    {
     "data": {
      "text/html": [
       "<div>\n",
       "<style scoped>\n",
       "    .dataframe tbody tr th:only-of-type {\n",
       "        vertical-align: middle;\n",
       "    }\n",
       "\n",
       "    .dataframe tbody tr th {\n",
       "        vertical-align: top;\n",
       "    }\n",
       "\n",
       "    .dataframe thead th {\n",
       "        text-align: right;\n",
       "    }\n",
       "</style>\n",
       "<table border=\"1\" class=\"dataframe\">\n",
       "  <thead>\n",
       "    <tr style=\"text-align: right;\">\n",
       "      <th></th>\n",
       "      <th>time</th>\n",
       "      <th>load_kw</th>\n",
       "      <th>pressure_kpa</th>\n",
       "      <th>cloud_cover</th>\n",
       "      <th>humidity</th>\n",
       "      <th>temperature_c</th>\n",
       "      <th>wind_direction</th>\n",
       "      <th>wind_speed_kmh</th>\n",
       "      <th>month</th>\n",
       "      <th>hour</th>\n",
       "      <th>type_of_day</th>\n",
       "      <th>covid</th>\n",
       "      <th>public_holiday</th>\n",
       "    </tr>\n",
       "  </thead>\n",
       "  <tbody>\n",
       "    <tr>\n",
       "      <th>0</th>\n",
       "      <td>2017-03-18 00:00:00</td>\n",
       "      <td>1031471.62806</td>\n",
       "      <td>1012.48000</td>\n",
       "      <td>2.12500</td>\n",
       "      <td>79.33333</td>\n",
       "      <td>16.76439</td>\n",
       "      <td>285.25000</td>\n",
       "      <td>6.25375</td>\n",
       "      <td>3</td>\n",
       "      <td>0</td>\n",
       "      <td>6</td>\n",
       "      <td>0</td>\n",
       "      <td>0</td>\n",
       "    </tr>\n",
       "    <tr>\n",
       "      <th>1</th>\n",
       "      <td>2017-03-18 01:00:00</td>\n",
       "      <td>1007205.57844</td>\n",
       "      <td>1011.61875</td>\n",
       "      <td>0.00000</td>\n",
       "      <td>82.16667</td>\n",
       "      <td>15.72939</td>\n",
       "      <td>285.00000</td>\n",
       "      <td>9.20500</td>\n",
       "      <td>3</td>\n",
       "      <td>1</td>\n",
       "      <td>6</td>\n",
       "      <td>0</td>\n",
       "      <td>0</td>\n",
       "    </tr>\n",
       "    <tr>\n",
       "      <th>2</th>\n",
       "      <td>2017-03-18 02:00:00</td>\n",
       "      <td>986108.40072</td>\n",
       "      <td>1010.72000</td>\n",
       "      <td>2.12500</td>\n",
       "      <td>81.66667</td>\n",
       "      <td>15.81689</td>\n",
       "      <td>316.00000</td>\n",
       "      <td>11.28375</td>\n",
       "      <td>3</td>\n",
       "      <td>2</td>\n",
       "      <td>6</td>\n",
       "      <td>0</td>\n",
       "      <td>0</td>\n",
       "    </tr>\n",
       "    <tr>\n",
       "      <th>3</th>\n",
       "      <td>2017-03-18 03:00:00</td>\n",
       "      <td>970760.96692</td>\n",
       "      <td>1011.37625</td>\n",
       "      <td>17.12500</td>\n",
       "      <td>82.25000</td>\n",
       "      <td>15.91939</td>\n",
       "      <td>327.00000</td>\n",
       "      <td>7.16875</td>\n",
       "      <td>3</td>\n",
       "      <td>3</td>\n",
       "      <td>6</td>\n",
       "      <td>0</td>\n",
       "      <td>0</td>\n",
       "    </tr>\n",
       "    <tr>\n",
       "      <th>4</th>\n",
       "      <td>2017-03-18 04:00:00</td>\n",
       "      <td>962258.36502</td>\n",
       "      <td>1011.50000</td>\n",
       "      <td>18.62500</td>\n",
       "      <td>82.33333</td>\n",
       "      <td>15.76939</td>\n",
       "      <td>282.25000</td>\n",
       "      <td>0.78000</td>\n",
       "      <td>3</td>\n",
       "      <td>4</td>\n",
       "      <td>6</td>\n",
       "      <td>0</td>\n",
       "      <td>0</td>\n",
       "    </tr>\n",
       "  </tbody>\n",
       "</table>\n",
       "</div>"
      ],
      "text/plain": [
       "                 time       load_kw  pressure_kpa  cloud_cover  humidity  \\\n",
       "0 2017-03-18 00:00:00 1031471.62806    1012.48000      2.12500  79.33333   \n",
       "1 2017-03-18 01:00:00 1007205.57844    1011.61875      0.00000  82.16667   \n",
       "2 2017-03-18 02:00:00  986108.40072    1010.72000      2.12500  81.66667   \n",
       "3 2017-03-18 03:00:00  970760.96692    1011.37625     17.12500  82.25000   \n",
       "4 2017-03-18 04:00:00  962258.36502    1011.50000     18.62500  82.33333   \n",
       "\n",
       "   temperature_c  wind_direction  wind_speed_kmh  month  hour  type_of_day  \\\n",
       "0       16.76439       285.25000         6.25375      3     0            6   \n",
       "1       15.72939       285.00000         9.20500      3     1            6   \n",
       "2       15.81689       316.00000        11.28375      3     2            6   \n",
       "3       15.91939       327.00000         7.16875      3     3            6   \n",
       "4       15.76939       282.25000         0.78000      3     4            6   \n",
       "\n",
       "   covid  public_holiday  \n",
       "0      0               0  \n",
       "1      0               0  \n",
       "2      0               0  \n",
       "3      0               0  \n",
       "4      0               0  "
      ]
     },
     "execution_count": 10,
     "metadata": {},
     "output_type": "execute_result"
    }
   ],
   "source": [
    "final_data.head()"
   ]
  },
  {
   "cell_type": "code",
   "execution_count": 39,
   "metadata": {},
   "outputs": [],
   "source": [
    "#handling na in the first week (bc no lagged variables)\n",
    "# final_data=final_data.fillna(0)"
   ]
  },
  {
   "cell_type": "code",
   "execution_count": 11,
   "metadata": {},
   "outputs": [
    {
     "data": {
      "text/plain": [
       "(33600, 13)"
      ]
     },
     "execution_count": 11,
     "metadata": {},
     "output_type": "execute_result"
    }
   ],
   "source": [
    "final_data.shape"
   ]
  },
  {
   "cell_type": "code",
   "execution_count": 12,
   "metadata": {},
   "outputs": [],
   "source": [
    "filename = r\"xgb_data.csv\"\n",
    "final_data.to_csv(filename, index=False, header=True)"
   ]
  },
  {
   "cell_type": "code",
   "execution_count": null,
   "metadata": {},
   "outputs": [],
   "source": []
  }
 ],
 "metadata": {
  "kernelspec": {
   "display_name": "Python 3 (ipykernel)",
   "language": "python",
   "name": "python3"
  },
  "language_info": {
   "codemirror_mode": {
    "name": "ipython",
    "version": 3
   },
   "file_extension": ".py",
   "mimetype": "text/x-python",
   "name": "python",
   "nbconvert_exporter": "python",
   "pygments_lexer": "ipython3",
   "version": "3.10.5"
  }
 },
 "nbformat": 4,
 "nbformat_minor": 2
}
